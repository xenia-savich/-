{
 "cells": [
  {
   "cell_type": "markdown",
   "id": "e06910dd",
   "metadata": {
    "id": "e06910dd"
   },
   "source": [
    "# Исследовательский анализ рынка общественного питания Москвы\n",
    "\n",
    "- Автор: Савич Ксения\n",
    "- Дата: 03.05"
   ]
  },
  {
   "cell_type": "markdown",
   "id": "4149134c",
   "metadata": {
    "id": "4149134c"
   },
   "source": [
    "### Цели и задачи проекта\n",
    "- исследование рынка общественного питания в Москве\n",
    "- анализ рейтинга и категории топ 15-ти сетей Москвы по популярности\n",
    "- получение рекомендаций, полезных в принятии решения по открытию новой точки общественного питания"
   ]
  },
  {
   "cell_type": "markdown",
   "id": "728986ea",
   "metadata": {
    "id": "728986ea"
   },
   "source": [
    "### Описание данных\n",
    "Данные состоят из двух датасетов:<br>\n",
    "- Файл `/datasets/rest_info.csv` содержит информацию о заведениях общественного питания\n",
    "- Файл `/datasets/rest_price.csv` содержит информацию о среднем чеке в заведениях общественного питания <br>\n",
    "<br>\n",
    "<br>\n",
    "\n",
    "`/datasets/rest_info.csv`:<br>\n",
    "\n",
    "- `name` — название заведения;<br>\n",
    "- `address` — адрес заведения;<br>\n",
    "- `district` — административный район, в котором находится заведение, например Центральный административный округ;<br>\n",
    "- `category` — категория заведения, например «кафе», «пиццерия» или «кофейня»;<br>\n",
    "- `hours` — информация о днях и часах работы;<br>\n",
    "- `rating` — рейтинг заведения по оценкам пользователей в Яндекс Картах (высшая оценка — 5.0);<br>\n",
    "- `chain` — число, выраженное 0 или 1, которое показывает, является ли заведение сетевым (для маленьких сетей могут встречаться ошибки):<br>\n",
    "0 — заведение не является сетевым;<br>\n",
    "1 — заведение является сетевым.<br>\n",
    "- `seats` — количество посадочных мест.<br>\n",
    "<br>\n",
    "<br>\n",
    "\n",
    "`/datasets/rest_price.csv`:<br>\n",
    "\n",
    "- `price` — категория цен в заведении, например «средние», «ниже среднего», «выше среднего» и так далее;<br>\n",
    "- `avg_bill` — строка, которая хранит среднюю стоимость заказа в виде диапазона, например:\n",
    "«Средний счёт: 1000–1500 ₽»;<br>\n",
    "«Цена чашки капучино: 130–220 ₽»;<br>\n",
    "«Цена бокала пива: 400–600 ₽».<br>\n",
    "и так далее;<br>\n",
    "- `middle_avg_bill` — число с оценкой среднего чека, которое указано только для значений из столбца `avg_bill`, начинающихся с подстроки «Средний счёт»:<br>\n",
    "Если в строке указан ценовой диапазон из двух значений, в столбец войдёт медиана этих двух значений.<br>\n",
    "Если в строке указано одно число — цена без диапазона, то в столбец войдёт это число.<br>\n",
    "Если значения нет или оно не начинается с подстроки «Средний счёт», то в столбец ничего не войдёт.<br>\n",
    "- `middle_coffee_cup` — число с оценкой одной чашки капучино, которое указано только для значений из столбца `avg_bill`, начинающихся с подстроки «Цена одной чашки капучино»:<br>\n",
    "Если в строке указан ценовой диапазон из двух значений, в столбец войдёт медиана этих двух значений.<br>\n",
    "Если в строке указано одно число — цена без диапазона, то в столбец войдёт это число.<br>\n",
    "Если значения нет или оно не начинается с подстроки «Цена одной чашки капучино», то в столбец ничего не войдёт."
   ]
  },
  {
   "cell_type": "markdown",
   "id": "4fecaf95",
   "metadata": {
    "id": "4fecaf95"
   },
   "source": [
    "### Содержимое проекта\n",
    "1. Загрузка данных и знакомство с ними\n",
    "2. Предобработка данных(работа с типами данных, пропусками и дубликатами)\n",
    "3. Исследовательский анализ данных(изучение основных метрик, корреляции между ними, визуализация данных)\n",
    "4. Итоговый вывод и рекомендации"
   ]
  },
  {
   "cell_type": "markdown",
   "id": "6f7d21d6",
   "metadata": {
    "id": "6f7d21d6"
   },
   "source": [
    "##  Загрузка данных и знакомство с ними\n",
    "\n",
    "- Выгрузим данные датасетов `/datasets/rest_info.csv` и `/datasets/rest_price.csv` и необходимые для работы библиотеки. Знакомимся с данными при помощи методов `info()`, `head()`."
   ]
  },
  {
   "cell_type": "code",
   "execution_count": 1,
   "id": "05faf34b",
   "metadata": {
    "id": "05faf34b"
   },
   "outputs": [
    {
     "name": "stdout",
     "output_type": "stream",
     "text": [
      "Collecting phik\n",
      "  Downloading phik-0.12.4-cp39-cp39-manylinux_2_17_x86_64.manylinux2014_x86_64.whl (686 kB)\n",
      "\u001b[K     |████████████████████████████████| 686 kB 1.2 MB/s eta 0:00:01\n",
      "\u001b[?25hRequirement already satisfied: pandas>=0.25.1 in /opt/conda/lib/python3.9/site-packages (from phik) (1.2.4)\n",
      "Requirement already satisfied: matplotlib>=2.2.3 in /opt/conda/lib/python3.9/site-packages (from phik) (3.3.4)\n",
      "Requirement already satisfied: joblib>=0.14.1 in /opt/conda/lib/python3.9/site-packages (from phik) (1.1.0)\n",
      "Requirement already satisfied: scipy>=1.5.2 in /opt/conda/lib/python3.9/site-packages (from phik) (1.9.1)\n",
      "Requirement already satisfied: numpy>=1.18.0 in /opt/conda/lib/python3.9/site-packages (from phik) (1.21.1)\n",
      "Requirement already satisfied: python-dateutil>=2.1 in /opt/conda/lib/python3.9/site-packages (from matplotlib>=2.2.3->phik) (2.8.1)\n",
      "Requirement already satisfied: pillow>=6.2.0 in /opt/conda/lib/python3.9/site-packages (from matplotlib>=2.2.3->phik) (8.4.0)\n",
      "Requirement already satisfied: pyparsing!=2.0.4,!=2.1.2,!=2.1.6,>=2.0.3 in /opt/conda/lib/python3.9/site-packages (from matplotlib>=2.2.3->phik) (2.4.7)\n",
      "Requirement already satisfied: kiwisolver>=1.0.1 in /opt/conda/lib/python3.9/site-packages (from matplotlib>=2.2.3->phik) (1.4.4)\n",
      "Requirement already satisfied: cycler>=0.10 in /opt/conda/lib/python3.9/site-packages (from matplotlib>=2.2.3->phik) (0.11.0)\n",
      "Requirement already satisfied: pytz>=2017.3 in /opt/conda/lib/python3.9/site-packages (from pandas>=0.25.1->phik) (2021.1)\n",
      "Requirement already satisfied: six>=1.5 in /opt/conda/lib/python3.9/site-packages (from python-dateutil>=2.1->matplotlib>=2.2.3->phik) (1.16.0)\n",
      "Installing collected packages: phik\n",
      "Successfully installed phik-0.12.4\n"
     ]
    }
   ],
   "source": [
    "# Импортируем библиотеки\n",
    "import pandas as pd\n",
    "\n",
    "# Загружаем библиотеки для визуализации данных\n",
    "import matplotlib.pyplot as plt\n",
    "import seaborn as sns\n",
    "\n",
    "# Загружаем библиотеку для расчёта коэффициента корреляции phi_k\n",
    "!pip install phik"
   ]
  },
  {
   "cell_type": "code",
   "execution_count": 2,
   "id": "ce87c1db",
   "metadata": {
    "id": "ce87c1db"
   },
   "outputs": [],
   "source": [
    "# Выгружаем данные и создаем для них переменные inf_df и pr_df\n",
    "inf_df = pd.read_csv('/datasets/rest_info.csv')\n",
    "pr_df = pd.read_csv('/datasets/rest_price.csv')"
   ]
  },
  {
   "cell_type": "code",
   "execution_count": 3,
   "id": "90fee493",
   "metadata": {
    "id": "90fee493"
   },
   "outputs": [
    {
     "name": "stdout",
     "output_type": "stream",
     "text": [
      "<class 'pandas.core.frame.DataFrame'>\n",
      "RangeIndex: 8406 entries, 0 to 8405\n",
      "Data columns (total 9 columns):\n",
      " #   Column    Non-Null Count  Dtype  \n",
      "---  ------    --------------  -----  \n",
      " 0   id        8406 non-null   object \n",
      " 1   name      8406 non-null   object \n",
      " 2   category  8406 non-null   object \n",
      " 3   address   8406 non-null   object \n",
      " 4   district  8406 non-null   object \n",
      " 5   hours     7870 non-null   object \n",
      " 6   rating    8406 non-null   float64\n",
      " 7   chain     8406 non-null   int64  \n",
      " 8   seats     4795 non-null   float64\n",
      "dtypes: float64(2), int64(1), object(6)\n",
      "memory usage: 591.2+ KB\n"
     ]
    }
   ],
   "source": [
    "# Выведем информацию методом info()\n",
    "inf_df.info()"
   ]
  },
  {
   "cell_type": "markdown",
   "id": "b8b330a7",
   "metadata": {},
   "source": [
    "- датасет с информацией содержит 8406 строк и 9 столбцов\n",
    "- столбцы содержат данные типов `object`, `float64`, `int64`\n",
    "- в столбцах `hours` и `seats` есть пропуски, в столбце `seats` их много - около 60%, в работе с пропусками подсчитаем их точную долю и выявим их природу\n",
    "- столбец `seats` необходимо привести к типу данных `int64`, так как число мест не может быть дробным и носит целочисленный характер; столбец `chain` можно привести к типу `int8`, чтобы уменьшить объем данных, так как это бинарный признак и данные выражаются в виде одного числа(0 или 1); столбец `category` логично привести к типу `category`; остальные типы данных подобраны корректно\n",
    "- данные приведены к языку snake case "
   ]
  },
  {
   "cell_type": "code",
   "execution_count": 4,
   "id": "f68a7419",
   "metadata": {
    "id": "f68a7419"
   },
   "outputs": [
    {
     "data": {
      "text/html": [
       "<div>\n",
       "<style scoped>\n",
       "    .dataframe tbody tr th:only-of-type {\n",
       "        vertical-align: middle;\n",
       "    }\n",
       "\n",
       "    .dataframe tbody tr th {\n",
       "        vertical-align: top;\n",
       "    }\n",
       "\n",
       "    .dataframe thead th {\n",
       "        text-align: right;\n",
       "    }\n",
       "</style>\n",
       "<table border=\"1\" class=\"dataframe\">\n",
       "  <thead>\n",
       "    <tr style=\"text-align: right;\">\n",
       "      <th></th>\n",
       "      <th>id</th>\n",
       "      <th>name</th>\n",
       "      <th>category</th>\n",
       "      <th>address</th>\n",
       "      <th>district</th>\n",
       "      <th>hours</th>\n",
       "      <th>rating</th>\n",
       "      <th>chain</th>\n",
       "      <th>seats</th>\n",
       "    </tr>\n",
       "  </thead>\n",
       "  <tbody>\n",
       "    <tr>\n",
       "      <th>0</th>\n",
       "      <td>0c3e3439a8c64ea5bf6ecd6ca6ae19f0</td>\n",
       "      <td>WoWфли</td>\n",
       "      <td>кафе</td>\n",
       "      <td>Москва, улица Дыбенко, 7/1</td>\n",
       "      <td>Северный административный округ</td>\n",
       "      <td>ежедневно, 10:00–22:00</td>\n",
       "      <td>5.0</td>\n",
       "      <td>0</td>\n",
       "      <td>NaN</td>\n",
       "    </tr>\n",
       "    <tr>\n",
       "      <th>1</th>\n",
       "      <td>045780ada3474c57a2112e505d74b633</td>\n",
       "      <td>Четыре комнаты</td>\n",
       "      <td>ресторан</td>\n",
       "      <td>Москва, улица Дыбенко, 36, корп. 1</td>\n",
       "      <td>Северный административный округ</td>\n",
       "      <td>ежедневно, 10:00–22:00</td>\n",
       "      <td>4.5</td>\n",
       "      <td>0</td>\n",
       "      <td>4.0</td>\n",
       "    </tr>\n",
       "    <tr>\n",
       "      <th>2</th>\n",
       "      <td>1070b6b59144425896c65889347fcff6</td>\n",
       "      <td>Хазри</td>\n",
       "      <td>кафе</td>\n",
       "      <td>Москва, Клязьминская улица, 15</td>\n",
       "      <td>Северный административный округ</td>\n",
       "      <td>пн-чт 11:00–02:00; пт,сб 11:00–05:00; вс 11:00...</td>\n",
       "      <td>4.6</td>\n",
       "      <td>0</td>\n",
       "      <td>45.0</td>\n",
       "    </tr>\n",
       "    <tr>\n",
       "      <th>3</th>\n",
       "      <td>03ac7cd772104f65b58b349dc59f03ee</td>\n",
       "      <td>Dormouse Coffee Shop</td>\n",
       "      <td>кофейня</td>\n",
       "      <td>Москва, улица Маршала Федоренко, 12</td>\n",
       "      <td>Северный административный округ</td>\n",
       "      <td>ежедневно, 09:00–22:00</td>\n",
       "      <td>5.0</td>\n",
       "      <td>0</td>\n",
       "      <td>NaN</td>\n",
       "    </tr>\n",
       "    <tr>\n",
       "      <th>4</th>\n",
       "      <td>a163aada139c4c7f87b0b1c0b466a50f</td>\n",
       "      <td>Иль Марко</td>\n",
       "      <td>пиццерия</td>\n",
       "      <td>Москва, Правобережная улица, 1Б</td>\n",
       "      <td>Северный административный округ</td>\n",
       "      <td>ежедневно, 10:00–22:00</td>\n",
       "      <td>5.0</td>\n",
       "      <td>1</td>\n",
       "      <td>148.0</td>\n",
       "    </tr>\n",
       "  </tbody>\n",
       "</table>\n",
       "</div>"
      ],
      "text/plain": [
       "                                 id                  name  category  \\\n",
       "0  0c3e3439a8c64ea5bf6ecd6ca6ae19f0                WoWфли      кафе   \n",
       "1  045780ada3474c57a2112e505d74b633        Четыре комнаты  ресторан   \n",
       "2  1070b6b59144425896c65889347fcff6                 Хазри      кафе   \n",
       "3  03ac7cd772104f65b58b349dc59f03ee  Dormouse Coffee Shop   кофейня   \n",
       "4  a163aada139c4c7f87b0b1c0b466a50f             Иль Марко  пиццерия   \n",
       "\n",
       "                               address                         district  \\\n",
       "0           Москва, улица Дыбенко, 7/1  Северный административный округ   \n",
       "1   Москва, улица Дыбенко, 36, корп. 1  Северный административный округ   \n",
       "2       Москва, Клязьминская улица, 15  Северный административный округ   \n",
       "3  Москва, улица Маршала Федоренко, 12  Северный административный округ   \n",
       "4      Москва, Правобережная улица, 1Б  Северный административный округ   \n",
       "\n",
       "                                               hours  rating  chain  seats  \n",
       "0                             ежедневно, 10:00–22:00     5.0      0    NaN  \n",
       "1                             ежедневно, 10:00–22:00     4.5      0    4.0  \n",
       "2  пн-чт 11:00–02:00; пт,сб 11:00–05:00; вс 11:00...     4.6      0   45.0  \n",
       "3                             ежедневно, 09:00–22:00     5.0      0    NaN  \n",
       "4                             ежедневно, 10:00–22:00     5.0      1  148.0  "
      ]
     },
     "execution_count": 4,
     "metadata": {},
     "output_type": "execute_result"
    }
   ],
   "source": [
    "# Выводим первые пять строк методом head()\n",
    "inf_df.head()"
   ]
  },
  {
   "cell_type": "markdown",
   "id": "95d2422d",
   "metadata": {},
   "source": [
    "Судя по первому знакомству с данными, значения в столбцах соответствуют своему описанию."
   ]
  },
  {
   "cell_type": "code",
   "execution_count": 5,
   "id": "dd415c80",
   "metadata": {
    "id": "dd415c80"
   },
   "outputs": [
    {
     "name": "stdout",
     "output_type": "stream",
     "text": [
      "<class 'pandas.core.frame.DataFrame'>\n",
      "RangeIndex: 4058 entries, 0 to 4057\n",
      "Data columns (total 5 columns):\n",
      " #   Column             Non-Null Count  Dtype  \n",
      "---  ------             --------------  -----  \n",
      " 0   id                 4058 non-null   object \n",
      " 1   price              3315 non-null   object \n",
      " 2   avg_bill           3816 non-null   object \n",
      " 3   middle_avg_bill    3149 non-null   float64\n",
      " 4   middle_coffee_cup  535 non-null    float64\n",
      "dtypes: float64(2), object(3)\n",
      "memory usage: 158.6+ KB\n"
     ]
    }
   ],
   "source": [
    "# Выведем информацию методом info()\n",
    "pr_df.info()"
   ]
  },
  {
   "cell_type": "markdown",
   "id": "dce5714c",
   "metadata": {},
   "source": [
    "- датасет с ценами содержит 4058 строк и 5 столбцов\n",
    "- типы данных в столбцах `object` и `float64`\n",
    "- данные во всех столбцах кроме id имеют пропуски\n",
    "- типы данных приведены верно, но удобнее будет привести столбец `price` к типу `category`\n",
    "- данные приведены к языку snake case"
   ]
  },
  {
   "cell_type": "code",
   "execution_count": 6,
   "id": "3158ad37",
   "metadata": {
    "id": "3158ad37"
   },
   "outputs": [
    {
     "data": {
      "text/html": [
       "<div>\n",
       "<style scoped>\n",
       "    .dataframe tbody tr th:only-of-type {\n",
       "        vertical-align: middle;\n",
       "    }\n",
       "\n",
       "    .dataframe tbody tr th {\n",
       "        vertical-align: top;\n",
       "    }\n",
       "\n",
       "    .dataframe thead th {\n",
       "        text-align: right;\n",
       "    }\n",
       "</style>\n",
       "<table border=\"1\" class=\"dataframe\">\n",
       "  <thead>\n",
       "    <tr style=\"text-align: right;\">\n",
       "      <th></th>\n",
       "      <th>id</th>\n",
       "      <th>price</th>\n",
       "      <th>avg_bill</th>\n",
       "      <th>middle_avg_bill</th>\n",
       "      <th>middle_coffee_cup</th>\n",
       "    </tr>\n",
       "  </thead>\n",
       "  <tbody>\n",
       "    <tr>\n",
       "      <th>0</th>\n",
       "      <td>045780ada3474c57a2112e505d74b633</td>\n",
       "      <td>выше среднего</td>\n",
       "      <td>Средний счёт:1500–1600 ₽</td>\n",
       "      <td>1550.0</td>\n",
       "      <td>NaN</td>\n",
       "    </tr>\n",
       "    <tr>\n",
       "      <th>1</th>\n",
       "      <td>1070b6b59144425896c65889347fcff6</td>\n",
       "      <td>средние</td>\n",
       "      <td>Средний счёт:от 1000 ₽</td>\n",
       "      <td>1000.0</td>\n",
       "      <td>NaN</td>\n",
       "    </tr>\n",
       "    <tr>\n",
       "      <th>2</th>\n",
       "      <td>03ac7cd772104f65b58b349dc59f03ee</td>\n",
       "      <td>NaN</td>\n",
       "      <td>Цена чашки капучино:155–185 ₽</td>\n",
       "      <td>NaN</td>\n",
       "      <td>170.0</td>\n",
       "    </tr>\n",
       "    <tr>\n",
       "      <th>3</th>\n",
       "      <td>a163aada139c4c7f87b0b1c0b466a50f</td>\n",
       "      <td>средние</td>\n",
       "      <td>Средний счёт:400–600 ₽</td>\n",
       "      <td>500.0</td>\n",
       "      <td>NaN</td>\n",
       "    </tr>\n",
       "    <tr>\n",
       "      <th>4</th>\n",
       "      <td>8a343546b24e4a499ad96eb7d0797a8a</td>\n",
       "      <td>средние</td>\n",
       "      <td>NaN</td>\n",
       "      <td>NaN</td>\n",
       "      <td>NaN</td>\n",
       "    </tr>\n",
       "  </tbody>\n",
       "</table>\n",
       "</div>"
      ],
      "text/plain": [
       "                                 id          price  \\\n",
       "0  045780ada3474c57a2112e505d74b633  выше среднего   \n",
       "1  1070b6b59144425896c65889347fcff6        средние   \n",
       "2  03ac7cd772104f65b58b349dc59f03ee            NaN   \n",
       "3  a163aada139c4c7f87b0b1c0b466a50f        средние   \n",
       "4  8a343546b24e4a499ad96eb7d0797a8a        средние   \n",
       "\n",
       "                        avg_bill  middle_avg_bill  middle_coffee_cup  \n",
       "0       Средний счёт:1500–1600 ₽           1550.0                NaN  \n",
       "1         Средний счёт:от 1000 ₽           1000.0                NaN  \n",
       "2  Цена чашки капучино:155–185 ₽              NaN              170.0  \n",
       "3         Средний счёт:400–600 ₽            500.0                NaN  \n",
       "4                            NaN              NaN                NaN  "
      ]
     },
     "execution_count": 6,
     "metadata": {},
     "output_type": "execute_result"
    }
   ],
   "source": [
    "# Выводим первые пять строк методом head()\n",
    "pr_df.head()"
   ]
  },
  {
   "cell_type": "markdown",
   "id": "3ed9915c",
   "metadata": {},
   "source": [
    "Судя по первому знакомству с данными, значения в столбцах соответствуют своему описанию."
   ]
  },
  {
   "cell_type": "code",
   "execution_count": 7,
   "id": "3408e303",
   "metadata": {
    "id": "3408e303"
   },
   "outputs": [
    {
     "name": "stdout",
     "output_type": "stream",
     "text": [
      "<class 'pandas.core.frame.DataFrame'>\n",
      "Int64Index: 8406 entries, 0 to 8405\n",
      "Data columns (total 13 columns):\n",
      " #   Column             Non-Null Count  Dtype  \n",
      "---  ------             --------------  -----  \n",
      " 0   id                 8406 non-null   object \n",
      " 1   name               8406 non-null   object \n",
      " 2   category           8406 non-null   object \n",
      " 3   address            8406 non-null   object \n",
      " 4   district           8406 non-null   object \n",
      " 5   hours              7870 non-null   object \n",
      " 6   rating             8406 non-null   float64\n",
      " 7   chain              8406 non-null   int64  \n",
      " 8   seats              4795 non-null   float64\n",
      " 9   price              3315 non-null   object \n",
      " 10  avg_bill           3816 non-null   object \n",
      " 11  middle_avg_bill    3149 non-null   float64\n",
      " 12  middle_coffee_cup  535 non-null    float64\n",
      "dtypes: float64(4), int64(1), object(8)\n",
      "memory usage: 919.4+ KB\n"
     ]
    },
    {
     "data": {
      "text/html": [
       "<div>\n",
       "<style scoped>\n",
       "    .dataframe tbody tr th:only-of-type {\n",
       "        vertical-align: middle;\n",
       "    }\n",
       "\n",
       "    .dataframe tbody tr th {\n",
       "        vertical-align: top;\n",
       "    }\n",
       "\n",
       "    .dataframe thead th {\n",
       "        text-align: right;\n",
       "    }\n",
       "</style>\n",
       "<table border=\"1\" class=\"dataframe\">\n",
       "  <thead>\n",
       "    <tr style=\"text-align: right;\">\n",
       "      <th></th>\n",
       "      <th>id</th>\n",
       "      <th>name</th>\n",
       "      <th>category</th>\n",
       "      <th>address</th>\n",
       "      <th>district</th>\n",
       "      <th>hours</th>\n",
       "      <th>rating</th>\n",
       "      <th>chain</th>\n",
       "      <th>seats</th>\n",
       "      <th>price</th>\n",
       "      <th>avg_bill</th>\n",
       "      <th>middle_avg_bill</th>\n",
       "      <th>middle_coffee_cup</th>\n",
       "    </tr>\n",
       "  </thead>\n",
       "  <tbody>\n",
       "    <tr>\n",
       "      <th>0</th>\n",
       "      <td>0c3e3439a8c64ea5bf6ecd6ca6ae19f0</td>\n",
       "      <td>WoWфли</td>\n",
       "      <td>кафе</td>\n",
       "      <td>Москва, улица Дыбенко, 7/1</td>\n",
       "      <td>Северный административный округ</td>\n",
       "      <td>ежедневно, 10:00–22:00</td>\n",
       "      <td>5.0</td>\n",
       "      <td>0</td>\n",
       "      <td>NaN</td>\n",
       "      <td>NaN</td>\n",
       "      <td>NaN</td>\n",
       "      <td>NaN</td>\n",
       "      <td>NaN</td>\n",
       "    </tr>\n",
       "    <tr>\n",
       "      <th>1</th>\n",
       "      <td>045780ada3474c57a2112e505d74b633</td>\n",
       "      <td>Четыре комнаты</td>\n",
       "      <td>ресторан</td>\n",
       "      <td>Москва, улица Дыбенко, 36, корп. 1</td>\n",
       "      <td>Северный административный округ</td>\n",
       "      <td>ежедневно, 10:00–22:00</td>\n",
       "      <td>4.5</td>\n",
       "      <td>0</td>\n",
       "      <td>4.0</td>\n",
       "      <td>выше среднего</td>\n",
       "      <td>Средний счёт:1500–1600 ₽</td>\n",
       "      <td>1550.0</td>\n",
       "      <td>NaN</td>\n",
       "    </tr>\n",
       "    <tr>\n",
       "      <th>2</th>\n",
       "      <td>1070b6b59144425896c65889347fcff6</td>\n",
       "      <td>Хазри</td>\n",
       "      <td>кафе</td>\n",
       "      <td>Москва, Клязьминская улица, 15</td>\n",
       "      <td>Северный административный округ</td>\n",
       "      <td>пн-чт 11:00–02:00; пт,сб 11:00–05:00; вс 11:00...</td>\n",
       "      <td>4.6</td>\n",
       "      <td>0</td>\n",
       "      <td>45.0</td>\n",
       "      <td>средние</td>\n",
       "      <td>Средний счёт:от 1000 ₽</td>\n",
       "      <td>1000.0</td>\n",
       "      <td>NaN</td>\n",
       "    </tr>\n",
       "    <tr>\n",
       "      <th>3</th>\n",
       "      <td>03ac7cd772104f65b58b349dc59f03ee</td>\n",
       "      <td>Dormouse Coffee Shop</td>\n",
       "      <td>кофейня</td>\n",
       "      <td>Москва, улица Маршала Федоренко, 12</td>\n",
       "      <td>Северный административный округ</td>\n",
       "      <td>ежедневно, 09:00–22:00</td>\n",
       "      <td>5.0</td>\n",
       "      <td>0</td>\n",
       "      <td>NaN</td>\n",
       "      <td>NaN</td>\n",
       "      <td>Цена чашки капучино:155–185 ₽</td>\n",
       "      <td>NaN</td>\n",
       "      <td>170.0</td>\n",
       "    </tr>\n",
       "    <tr>\n",
       "      <th>4</th>\n",
       "      <td>a163aada139c4c7f87b0b1c0b466a50f</td>\n",
       "      <td>Иль Марко</td>\n",
       "      <td>пиццерия</td>\n",
       "      <td>Москва, Правобережная улица, 1Б</td>\n",
       "      <td>Северный административный округ</td>\n",
       "      <td>ежедневно, 10:00–22:00</td>\n",
       "      <td>5.0</td>\n",
       "      <td>1</td>\n",
       "      <td>148.0</td>\n",
       "      <td>средние</td>\n",
       "      <td>Средний счёт:400–600 ₽</td>\n",
       "      <td>500.0</td>\n",
       "      <td>NaN</td>\n",
       "    </tr>\n",
       "  </tbody>\n",
       "</table>\n",
       "</div>"
      ],
      "text/plain": [
       "                                 id                  name  category  \\\n",
       "0  0c3e3439a8c64ea5bf6ecd6ca6ae19f0                WoWфли      кафе   \n",
       "1  045780ada3474c57a2112e505d74b633        Четыре комнаты  ресторан   \n",
       "2  1070b6b59144425896c65889347fcff6                 Хазри      кафе   \n",
       "3  03ac7cd772104f65b58b349dc59f03ee  Dormouse Coffee Shop   кофейня   \n",
       "4  a163aada139c4c7f87b0b1c0b466a50f             Иль Марко  пиццерия   \n",
       "\n",
       "                               address                         district  \\\n",
       "0           Москва, улица Дыбенко, 7/1  Северный административный округ   \n",
       "1   Москва, улица Дыбенко, 36, корп. 1  Северный административный округ   \n",
       "2       Москва, Клязьминская улица, 15  Северный административный округ   \n",
       "3  Москва, улица Маршала Федоренко, 12  Северный административный округ   \n",
       "4      Москва, Правобережная улица, 1Б  Северный административный округ   \n",
       "\n",
       "                                               hours  rating  chain  seats  \\\n",
       "0                             ежедневно, 10:00–22:00     5.0      0    NaN   \n",
       "1                             ежедневно, 10:00–22:00     4.5      0    4.0   \n",
       "2  пн-чт 11:00–02:00; пт,сб 11:00–05:00; вс 11:00...     4.6      0   45.0   \n",
       "3                             ежедневно, 09:00–22:00     5.0      0    NaN   \n",
       "4                             ежедневно, 10:00–22:00     5.0      1  148.0   \n",
       "\n",
       "           price                       avg_bill  middle_avg_bill  \\\n",
       "0            NaN                            NaN              NaN   \n",
       "1  выше среднего       Средний счёт:1500–1600 ₽           1550.0   \n",
       "2        средние         Средний счёт:от 1000 ₽           1000.0   \n",
       "3            NaN  Цена чашки капучино:155–185 ₽              NaN   \n",
       "4        средние         Средний счёт:400–600 ₽            500.0   \n",
       "\n",
       "   middle_coffee_cup  \n",
       "0                NaN  \n",
       "1                NaN  \n",
       "2                NaN  \n",
       "3              170.0  \n",
       "4                NaN  "
      ]
     },
     "execution_count": 7,
     "metadata": {},
     "output_type": "execute_result"
    }
   ],
   "source": [
    "# Объединим датасеты в один для более удобной работы и проверим вид нового датасета при помощи head() и info()\n",
    "df = inf_df.merge(pr_df, on = 'id', how = 'left')\n",
    "df.info()\n",
    "df.head()"
   ]
  },
  {
   "cell_type": "markdown",
   "id": "3e0eb851",
   "metadata": {},
   "source": [
    "Мы объединили датафреймы в один при помощи левой связи, чтобы не потерять данные с пропусками. Соединение прошло корректно."
   ]
  },
  {
   "cell_type": "markdown",
   "id": "956e82e2",
   "metadata": {
    "id": "956e82e2"
   },
   "source": [
    "##  Предобработка данных\n",
    "\n",
    " Приведение данных к подходящему типу, работа с пропусками и дубликатами."
   ]
  },
  {
   "cell_type": "markdown",
   "id": "db66c073",
   "metadata": {
    "id": "67956690"
   },
   "source": [
    "### Приведение данных к нужному типу."
   ]
  },
  {
   "cell_type": "code",
   "execution_count": 8,
   "id": "b5f2a94d",
   "metadata": {
    "id": "b5f2a94d"
   },
   "outputs": [],
   "source": [
    "# Приведем столбец seats к типу данных int64\n",
    "# В столбце есть пропуски, чтобы они не мешали в изменении типа данных используем `errors='coerce'`\n",
    "df['seats'] = pd.to_numeric(df['seats'], errors='coerce').astype('Int64')"
   ]
  },
  {
   "cell_type": "code",
   "execution_count": 9,
   "id": "c592c530",
   "metadata": {},
   "outputs": [
    {
     "name": "stdout",
     "output_type": "stream",
     "text": [
      "0 1\n"
     ]
    }
   ],
   "source": [
    "# Столбец chain приводим к int8, но необходимо убедиться, что в нем нет аномальных значений\n",
    "mn = df['chain'].min()\n",
    "mx = df['chain'].max()\n",
    "print(mn, mx)"
   ]
  },
  {
   "cell_type": "markdown",
   "id": "bc5471f1",
   "metadata": {},
   "source": [
    "Значения соответствуют заявленым, можно менять тип данных."
   ]
  },
  {
   "cell_type": "code",
   "execution_count": 10,
   "id": "620d2f08",
   "metadata": {
    "id": "620d2f08"
   },
   "outputs": [],
   "source": [
    "df['chain'] = df['chain'].astype('int8')"
   ]
  },
  {
   "cell_type": "code",
   "execution_count": 11,
   "id": "3aaaab0c",
   "metadata": {},
   "outputs": [],
   "source": [
    "# Приведем столбец category к типу данных category\n",
    "df['category'] = df['category'].astype('category')"
   ]
  },
  {
   "cell_type": "code",
   "execution_count": 12,
   "id": "da727562",
   "metadata": {},
   "outputs": [],
   "source": [
    "# Приведем price к category\n",
    "df['price'] = df['price'].astype('category')"
   ]
  },
  {
   "cell_type": "code",
   "execution_count": 13,
   "id": "d16c16ce",
   "metadata": {},
   "outputs": [
    {
     "name": "stdout",
     "output_type": "stream",
     "text": [
      "<class 'pandas.core.frame.DataFrame'>\n",
      "Int64Index: 8406 entries, 0 to 8405\n",
      "Data columns (total 13 columns):\n",
      " #   Column             Non-Null Count  Dtype   \n",
      "---  ------             --------------  -----   \n",
      " 0   id                 8406 non-null   object  \n",
      " 1   name               8406 non-null   object  \n",
      " 2   category           8406 non-null   category\n",
      " 3   address            8406 non-null   object  \n",
      " 4   district           8406 non-null   object  \n",
      " 5   hours              7870 non-null   object  \n",
      " 6   rating             8406 non-null   float64 \n",
      " 7   chain              8406 non-null   int8    \n",
      " 8   seats              4795 non-null   Int64   \n",
      " 9   price              3315 non-null   category\n",
      " 10  avg_bill           3816 non-null   object  \n",
      " 11  middle_avg_bill    3149 non-null   float64 \n",
      " 12  middle_coffee_cup  535 non-null    float64 \n",
      "dtypes: Int64(1), category(2), float64(3), int8(1), object(6)\n",
      "memory usage: 755.8+ KB\n"
     ]
    }
   ],
   "source": [
    "# Проверяем корректность смены типов данных\n",
    "df.info()"
   ]
  },
  {
   "cell_type": "markdown",
   "id": "c4ba3b1d",
   "metadata": {},
   "source": [
    "Данные успешно приведены к нужному типу."
   ]
  },
  {
   "cell_type": "markdown",
   "id": "cb24ed21",
   "metadata": {},
   "source": [
    "### Работа с пропусками"
   ]
  },
  {
   "cell_type": "code",
   "execution_count": 14,
   "id": "3d8840ca",
   "metadata": {
    "id": "3d8840ca"
   },
   "outputs": [
    {
     "data": {
      "text/plain": [
       "id                      0\n",
       "name                    0\n",
       "category                0\n",
       "address                 0\n",
       "district                0\n",
       "hours                 536\n",
       "rating                  0\n",
       "chain                   0\n",
       "seats                3611\n",
       "price                5091\n",
       "avg_bill             4590\n",
       "middle_avg_bill      5257\n",
       "middle_coffee_cup    7871\n",
       "dtype: int64"
      ]
     },
     "execution_count": 14,
     "metadata": {},
     "output_type": "execute_result"
    }
   ],
   "source": [
    "# Посчитаем пропуски в абсолютном и относительном значениях\n",
    "df.isna().sum() # абсолютное значение"
   ]
  },
  {
   "cell_type": "code",
   "execution_count": 15,
   "id": "2ea145ca",
   "metadata": {
    "id": "2ea145ca"
   },
   "outputs": [
    {
     "data": {
      "text/plain": [
       "id                   0.000000\n",
       "name                 0.000000\n",
       "category             0.000000\n",
       "address              0.000000\n",
       "district             0.000000\n",
       "hours                0.063764\n",
       "rating               0.000000\n",
       "chain                0.000000\n",
       "seats                0.429574\n",
       "price                0.605639\n",
       "avg_bill             0.546039\n",
       "middle_avg_bill      0.625387\n",
       "middle_coffee_cup    0.936355\n",
       "dtype: float64"
      ]
     },
     "execution_count": 15,
     "metadata": {},
     "output_type": "execute_result"
    }
   ],
   "source": [
    "df.isna().sum() / df.shape[0]# относительное значение"
   ]
  },
  {
   "cell_type": "markdown",
   "id": "b1af6248",
   "metadata": {
    "id": "d9e7c358"
   },
   "source": [
    "- в столбце `hours` пропусков не так много, как в остальных - 6%\n",
    "- в столбце `seats` 43% пропусков\n",
    "- в столбце `avg_bill` 55% пропусков\n",
    "- в столбце `price` 61% пропусков\n",
    "- в столбце `middle_avg_bill` 63% пропусков\n",
    "- в столбце `middle_coffee_cup` 94% пропусков\n",
    "В перечисленных столбцах очень много пропусков - от 43 до 94%. Разберемся с природой пропусков и обработаем данные от них."
   ]
  },
  {
   "cell_type": "code",
   "execution_count": 16,
   "id": "d353e552",
   "metadata": {},
   "outputs": [
    {
     "name": "stdout",
     "output_type": "stream",
     "text": [
      "                                    id                        name  \\\n",
      "84    3793bd736bbb4dd08f734d53bfa57b24            Meat Doner Kebab   \n",
      "177   3fb68f4204274347b94b5cb397fedce7                      Арамье   \n",
      "196   bfd0d5a3a91f43e9a43f4a5fe96144f1                Донер-Шашлык   \n",
      "203   78f050b65d4146ef932b734db72e1e86                  Тандыр № 1   \n",
      "211   4636272b73bd40c59c156725492f2c05            Неаполитан пицца   \n",
      "...                                ...                         ...   \n",
      "8118  deb866a144a04546a16f9ec508a25aa7                        Бико   \n",
      "8168  54ad4021be444c358be987072f51e7d0            Чайхана УЧ Кудук   \n",
      "8172  b1f7555a82a34a0fb7c42f0818addd99                  Масса кофе   \n",
      "8336  595fefac108748ae9d158d93cf376c70  Сочная шаурма в Кузьминках   \n",
      "8362  6b613565645e4c05a70ddd7d2badd502                      Достор   \n",
      "\n",
      "             category                                      address  \\\n",
      "84           булочная                    Москва, улица Лескова, 22   \n",
      "177          булочная  Москва, улица 800-летия Москвы, 22, корп. 2   \n",
      "196          ресторан                    Москва, улица Лескова, 22   \n",
      "203              кафе                   Москва, улица Лескова, 22Г   \n",
      "211              кафе                   Москва, улица Пришвина, 23   \n",
      "...               ...                                          ...   \n",
      "8118         булочная    Москва, улица Симоновский Вал, 13, стр. 3   \n",
      "8168          кофейня   Москва, улица Симоновский Вал, 26, корп. 1   \n",
      "8172          кофейня              Москва, Холодильный переулок, 2   \n",
      "8336  быстрое питание          Москва, Волгоградский проспект, 102   \n",
      "8362             кафе               Москва, Вешняковская улица, 43   \n",
      "\n",
      "                                     district  \\\n",
      "84    Северо-Восточный административный округ   \n",
      "177           Северный административный округ   \n",
      "196   Северо-Восточный административный округ   \n",
      "203   Северо-Восточный административный округ   \n",
      "211   Северо-Восточный административный округ   \n",
      "...                                       ...   \n",
      "8118     Юго-Восточный административный округ   \n",
      "8168             Южный административный округ   \n",
      "8172             Южный административный округ   \n",
      "8336     Юго-Восточный административный округ   \n",
      "8362         Восточный административный округ   \n",
      "\n",
      "                                     hours  rating  chain  seats    price  \\\n",
      "84                ежедневно, круглосуточно     4.5      0      0      NaN   \n",
      "177                 ежедневно, 09:00–21:00     4.0      1      0      NaN   \n",
      "196               ежедневно, круглосуточно     4.5      0      0      NaN   \n",
      "203               ежедневно, круглосуточно     4.0      1      0      NaN   \n",
      "211                 ежедневно, 12:00–23:00     4.3      0      0      NaN   \n",
      "...                                    ...     ...    ...    ...      ...   \n",
      "8118                ежедневно, 08:00–20:00     1.3      0      0      NaN   \n",
      "8168                ежедневно, 09:00–00:00     4.3      0      0      NaN   \n",
      "8172  пн-пт 08:00–20:00; сб,вс 09:00–20:00     4.3      0      0  средние   \n",
      "8336              ежедневно, круглосуточно     3.9      0      0      NaN   \n",
      "8362                ежедневно, 09:00–00:00     4.1      0      0  средние   \n",
      "\n",
      "                           avg_bill  middle_avg_bill  middle_coffee_cup  \n",
      "84               Средний счёт:300 ₽            300.0                NaN  \n",
      "177                             NaN              NaN                NaN  \n",
      "196                             NaN              NaN                NaN  \n",
      "203                             NaN              NaN                NaN  \n",
      "211                             NaN              NaN                NaN  \n",
      "...                             ...              ...                ...  \n",
      "8118                            NaN              NaN                NaN  \n",
      "8168                            NaN              NaN                NaN  \n",
      "8172  Цена чашки капучино:100–210 ₽              NaN              155.0  \n",
      "8336         Средний счёт:120–130 ₽            125.0                NaN  \n",
      "8362         Средний счёт:300–800 ₽            550.0                NaN  \n",
      "\n",
      "[136 rows x 13 columns]\n"
     ]
    }
   ],
   "source": [
    "d = df[(df['seats'] == 0)]\n",
    "print(d)"
   ]
  },
  {
   "cell_type": "markdown",
   "id": "c4d5f04d",
   "metadata": {
    "id": "c4d5f04d"
   },
   "source": [
    "- пропуски в столбце `hours`  похожи на случайные пропуски, их не так много, а понять причину пропусков невозможно - такое количество пропусков в данном столбце не окажет сильного влияни на анализ данных, оставим их как есть\n",
    "- пропуски в столбце `seats` можно связать с отсутствием посадочных мест, однако в данных есть 136 строк со значением 0 в данном столбце и заменять 43% данных нулями некорректно - придется оставить данные как есть\n",
    "- пропуски в столбцах с ценовыми значениями тоже невозможно заполнить корректно, так как причина появления данных пропусков под вопросом, а восстановить информацию нет возможности, оставляем их\n",
    "- можно предположить, что пропуски в столбце `middle_coffee_cup` характерны для заведений, которые не являются кофейней "
   ]
  },
  {
   "cell_type": "markdown",
   "id": "cb3e5bf0",
   "metadata": {
    "id": "d8a8a963"
   },
   "source": [
    "### Работа с дубликатами"
   ]
  },
  {
   "cell_type": "raw",
   "id": "ee3f2244",
   "metadata": {},
   "source": [
    "Сначала найдем неявные дубликаты и очистим от них данные"
   ]
  },
  {
   "cell_type": "code",
   "execution_count": 17,
   "id": "42d1e685",
   "metadata": {
    "id": "42d1e685"
   },
   "outputs": [
    {
     "name": "stdout",
     "output_type": "stream",
     "text": [
      "Уникальные значения в столбце category:\n",
      "['бар,паб', 'булочная', 'быстрое питание', 'кафе', 'кофейня', 'пиццерия', 'ресторан', 'столовая']\n",
      "Categories (8, object): ['бар,паб', 'булочная', 'быстрое питание', 'кафе', 'кофейня', 'пиццерия', 'ресторан', 'столовая']\n",
      "Уникальные значения в столбце district:\n",
      "['Восточный административный округ' 'Западный административный округ'\n",
      " 'Северный административный округ'\n",
      " 'Северо-Восточный административный округ'\n",
      " 'Северо-Западный административный округ'\n",
      " 'Центральный административный округ'\n",
      " 'Юго-Восточный административный округ'\n",
      " 'Юго-Западный административный округ' 'Южный административный округ']\n",
      "Уникальные значения в столбце chain:\n",
      "[0 1]\n"
     ]
    }
   ],
   "source": [
    "# Проверяем уникальные значения в столбцах\n",
    "for column in ['category', 'district', 'chain']:\n",
    "    print(f'Уникальные значения в столбце {column}:')\n",
    "    print(df[column].sort_values().unique())"
   ]
  },
  {
   "cell_type": "code",
   "execution_count": 18,
   "id": "0a6ca3bc",
   "metadata": {},
   "outputs": [
    {
     "data": {
      "text/plain": [
       "0"
      ]
     },
     "execution_count": 18,
     "metadata": {},
     "output_type": "execute_result"
    }
   ],
   "source": [
    "# Проверяем наличие дубликатов в столбце id\n",
    "df.duplicated(subset='id').sum()"
   ]
  },
  {
   "cell_type": "code",
   "execution_count": 19,
   "id": "8b4dbc18",
   "metadata": {},
   "outputs": [
    {
     "name": "stdout",
     "output_type": "stream",
     "text": [
      "'В парке вкуснее' и 'В парке вкуснее!' - схожесть: 96.77%\n",
      "'9 Bar Coffee' и '9 Bar Coffe' - схожесть: 95.65%\n",
      "'Хинкали Gали!' и 'Хинкали Gали' - схожесть: 96.00%\n",
      "'Хинкали-Gали!' и 'Хинкали-Gали' - схожесть: 96.00%\n",
      "'Хинкали-Gали!' и 'Хинкали-Gали' - схожесть: 96.00%\n",
      "'Алло! Пицца' и 'Алло Пицца' - схожесть: 95.24%\n",
      "'Глобус ресторан' и 'Глобус, ресторан' - схожесть: 96.77%\n",
      "'Доминос пицца' и 'Домино'с пицца' - схожесть: 96.30%\n",
      "'Центр Плов' и 'Центр Плова' - схожесть: 95.24%\n",
      "'Хинкали-Gали!' и 'Хинкали-Gали' - схожесть: 96.00%\n",
      "'Чайхона № 1' и 'Чайхона №1' - схожесть: 95.24%\n",
      "'Чайхона № 1' и 'Чайхона №1' - схожесть: 95.24%\n",
      "'Чайхона № 1' и 'Чайхона №1' - схожесть: 95.24%\n",
      "'Чайхона № 1' и 'Чайхона №1' - схожесть: 95.24%\n",
      "'Чайхона № 1' и 'Чайхона №1' - схожесть: 95.24%\n",
      "'Чайхана Халал' и 'Чайхана Халаль' - схожесть: 96.30%\n",
      "'Чайхана Халал' и 'Чайхана Халаль' - схожесть: 96.30%\n",
      "'Чайхана Халаль' и 'Чайхана Халал' - схожесть: 96.30%\n",
      "'Алло! Пицца' и 'Алло Пицца' - схожесть: 95.24%\n",
      "'Чайхана Райан' и 'Чайхана Райхан' - схожесть: 96.30%\n",
      "'В парке вкуснее!' и 'В парке вкуснее' - схожесть: 96.77%\n",
      "'В парке вкуснее!' и 'В парке вкуснее' - схожесть: 96.77%\n",
      "'В парке вкуснее!' и 'В парке вкуснее' - схожесть: 96.77%\n",
      "'В парке вкуснее!' и 'В парке вкуснее' - схожесть: 96.77%\n",
      "'В парке вкуснее' и 'В парке вкуснее!' - схожесть: 96.77%\n",
      "'Чайхона №1' и 'Чайхона № 1' - схожесть: 95.24%\n",
      "'Чайхона №1' и 'Чайхона № 1' - схожесть: 95.24%\n",
      "'Чайхона №1' и 'Чайхона № 1' - схожесть: 95.24%\n",
      "'Чайхона №1' и 'Чайхона № 1' - схожесть: 95.24%\n",
      "'9 Bar Coffe' и '9 Bar Coffee' - схожесть: 95.65%\n",
      "'9 Bar Coffe' и '9 Bar Coffee' - схожесть: 95.65%\n",
      "'9 Bar Coffe' и '9 Bar Coffee' - схожесть: 95.65%\n",
      "'9 Bar Coffe' и '9 Bar Coffee' - схожесть: 95.65%\n",
      "'9 Bar Coffe' и '9 Bar Coffee' - схожесть: 95.65%\n",
      "'9 Bar Coffe' и '9 Bar Coffee' - схожесть: 95.65%\n",
      "'9 Bar Coffe' и '9 Bar Coffee' - схожесть: 95.65%\n",
      "'Кафетериус № 6' и 'Кафетериус № 26' - схожесть: 96.55%\n",
      "'Хинкали Gали' и 'Хинкали Gали!' - схожесть: 96.00%\n",
      "'Алло! Пицца' и 'Алло Пицца' - схожесть: 95.24%\n",
      "'Jeffrey’s Coffeeshop' и 'Jeffrey's Coffeeshop' - схожесть: 95.00%\n",
      "'Jeffrey’s Coffeeshop' и 'Jeffrey's Coffeeshop' - схожесть: 95.00%\n",
      "'Jeffrey’s Coffeeshop' и 'Jeffrey's Coffeeshop' - схожесть: 95.00%\n",
      "'Алло! Пицца' и 'Алло Пицца' - схожесть: 95.24%\n",
      "'9 Bar Coffee' и '9 Bar Coffe' - схожесть: 95.65%\n",
      "'Corner cafe & kitchen' и 'Corner cafe&kitchen' - схожесть: 95.00%\n",
      "'Чайхана Халаль' и 'Чайхана Халал' - схожесть: 96.30%\n",
      "'Jeffrey's Coffeeshop' и 'Jeffrey’s Coffeeshop' - схожесть: 95.00%\n",
      "'Хинкали-Gали' и 'Хинкали-Gали!' - схожесть: 96.00%\n",
      "'Хинкали-Gали' и 'Хинкали-Gали!' - схожесть: 96.00%\n",
      "'Хинкали-Gали' и 'Хинкали-Gали!' - схожесть: 96.00%\n",
      "'Хинкали-Gали' и 'Хинкали-Gали!' - схожесть: 96.00%\n",
      "'Хинкали-Gали' и 'Хинкали-Gали!' - схожесть: 96.00%\n",
      "'Хинкали-Gали!' и 'Хинкали-Gали' - схожесть: 96.00%\n",
      "'Раковарня Клешни и Хвосты' и 'Раковарня Клешни и хвосты' - схожесть: 96.00%\n",
      "'Раковарня Клешни и Хвосты' и 'Раковарня Клешни и хвосты' - схожесть: 96.00%\n",
      "'9 Bar Coffee' и '9 Bar Coffe' - схожесть: 95.65%\n",
      "'Кафетериус № 26' и 'Кафетериус № 6' - схожесть: 96.55%\n",
      "'Раковарня Клешни и хвосты' и 'Раковарня Клешни и Хвосты' - схожесть: 96.00%\n",
      "'Хлеб Насущный Экспресс' и 'Хлеб Насущный экспресс' - схожесть: 95.45%\n",
      "'Центр Плова' и 'Центр Плов' - схожесть: 95.24%\n",
      "'Алло! Пицца' и 'Алло Пицца' - схожесть: 95.24%\n",
      "'Домино'с пицца' и 'Доминос пицца' - схожесть: 96.30%\n",
      "'Алло! Пицца' и 'Алло Пицца' - схожесть: 95.24%\n",
      "'Есть Хинкали&Пить Вино' и 'Есть Хинкали & Пить Вино' - схожесть: 95.65%\n",
      "'Чайхона № 1' и 'Чайхона №1' - схожесть: 95.24%\n",
      "'Чайхона № 1' и 'Чайхона №1' - схожесть: 95.24%\n",
      "'Чайхона № 1' и 'Чайхона №1' - схожесть: 95.24%\n",
      "'Чайхона № 1' и 'Чайхона №1' - схожесть: 95.24%\n",
      "'Чайхона № 1' и 'Чайхона №1' - схожесть: 95.24%\n",
      "'Чайхона №1' и 'Чайхона № 1' - схожесть: 95.24%\n",
      "'Чайхона №1' и 'Чайхона № 1' - схожесть: 95.24%\n",
      "'Чайхона №1' и 'Чайхона № 1' - схожесть: 95.24%\n",
      "'Чайхона №1' и 'Чайхона № 1' - схожесть: 95.24%\n",
      "'Есть Хинкали & Пить Вино' и 'Есть Хинкали&Пить Вино' - схожесть: 95.65%\n",
      "'Есть Хинкали & Пить Вино' и 'Есть Хинкали&Пить Вино' - схожесть: 95.65%\n",
      "'Есть Хинкали & Пить Вино' и 'Есть Хинкали&Пить Вино' - схожесть: 95.65%\n",
      "'Corner cafe&kitchen' и 'Corner cafe & kitchen' - схожесть: 95.00%\n",
      "'9 Bar Coffee' и '9 Bar Coffe' - схожесть: 95.65%\n",
      "'Есть Хинкали&Пить Вино' и 'Есть Хинкали & Пить Вино' - схожесть: 95.65%\n",
      "'PiNzeria by Bontempi' и 'Pinzeria by Bontempi' - схожесть: 95.00%\n",
      "'Чайхона №1' и 'Чайхона № 1' - схожесть: 95.24%\n",
      "'Чайхона №1' и 'Чайхона № 1' - схожесть: 95.24%\n",
      "'Чайхона №1' и 'Чайхона № 1' - схожесть: 95.24%\n",
      "'Чайхона №1' и 'Чайхона № 1' - схожесть: 95.24%\n",
      "'Pinzeria by Bontempi' и 'PiNzeria by Bontempi' - схожесть: 95.00%\n",
      "'Хинкали-Gали!' и 'Хинкали-Gали' - схожесть: 96.00%\n",
      "'Есть Хинкали&Пить Вино' и 'Есть Хинкали & Пить Вино' - схожесть: 95.65%\n",
      "'9 Bar Coffee' и '9 Bar Coffe' - схожесть: 95.65%\n",
      "'Хлеб Насущный экспресс' и 'Хлеб Насущный Экспресс' - схожесть: 95.45%\n",
      "'Чайхона № 1' и 'Чайхона №1' - схожесть: 95.24%\n",
      "'Чайхона № 1' и 'Чайхона №1' - схожесть: 95.24%\n",
      "'Чайхона № 1' и 'Чайхона №1' - схожесть: 95.24%\n",
      "'Чайхона № 1' и 'Чайхона №1' - схожесть: 95.24%\n",
      "'Чайхона № 1' и 'Чайхона №1' - схожесть: 95.24%\n",
      "'9 Bar Coffee' и '9 Bar Coffe' - схожесть: 95.65%\n",
      "'9 Bar Coffee' и '9 Bar Coffe' - схожесть: 95.65%\n",
      "'Алло! Пицца' и 'Алло Пицца' - схожесть: 95.24%\n",
      "'Чайхана Райхан' и 'Чайхана Райан' - схожесть: 96.30%\n",
      "'Чайхона №1' и 'Чайхона № 1' - схожесть: 95.24%\n",
      "'Чайхона №1' и 'Чайхона № 1' - схожесть: 95.24%\n",
      "'Чайхона №1' и 'Чайхона № 1' - схожесть: 95.24%\n",
      "'Чайхона №1' и 'Чайхона № 1' - схожесть: 95.24%\n",
      "'Jeffrey's Coffeeshop' и 'Jeffrey’s Coffeeshop' - схожесть: 95.00%\n",
      "'Алло! Пицца' и 'Алло Пицца' - схожесть: 95.24%\n",
      "'Jeffrey's Coffeeshop' и 'Jeffrey’s Coffeeshop' - схожесть: 95.00%\n",
      "'Чайхона №1' и 'Чайхона № 1' - схожесть: 95.24%\n",
      "'Чайхона №1' и 'Чайхона № 1' - схожесть: 95.24%\n",
      "'Чайхона №1' и 'Чайхона № 1' - схожесть: 95.24%\n",
      "'Чайхона №1' и 'Чайхона № 1' - схожесть: 95.24%\n",
      "'Алло! Пицца' и 'Алло Пицца' - схожесть: 95.24%\n",
      "'Раковарня Клешни и хвосты' и 'Раковарня Клешни и Хвосты' - схожесть: 96.00%\n",
      "'Алло Пицца' и 'Алло! Пицца' - схожесть: 95.24%\n",
      "'Алло Пицца' и 'Алло! Пицца' - схожесть: 95.24%\n",
      "'Алло Пицца' и 'Алло! Пицца' - схожесть: 95.24%\n",
      "'Алло Пицца' и 'Алло! Пицца' - схожесть: 95.24%\n",
      "'Алло Пицца' и 'Алло! Пицца' - схожесть: 95.24%\n",
      "'Алло Пицца' и 'Алло! Пицца' - схожесть: 95.24%\n",
      "'Алло Пицца' и 'Алло! Пицца' - схожесть: 95.24%\n",
      "'Алло Пицца' и 'Алло! Пицца' - схожесть: 95.24%\n",
      "'Алло Пицца' и 'Алло! Пицца' - схожесть: 95.24%\n",
      "'Алло Пицца' и 'Алло! Пицца' - схожесть: 95.24%\n",
      "'Алло Пицца' и 'Алло! Пицца' - схожесть: 95.24%\n",
      "'Алло Пицца' и 'Алло! Пицца' - схожесть: 95.24%\n",
      "'Алло Пицца' и 'Алло! Пицца' - схожесть: 95.24%\n",
      "'Чайхона № 1' и 'Чайхона №1' - схожесть: 95.24%\n",
      "'Чайхона № 1' и 'Чайхона №1' - схожесть: 95.24%\n",
      "'Чайхона № 1' и 'Чайхона №1' - схожесть: 95.24%\n",
      "'Чайхона № 1' и 'Чайхона №1' - схожесть: 95.24%\n",
      "'Чайхона № 1' и 'Чайхона №1' - схожесть: 95.24%\n",
      "'В парке вкуснее' и 'В парке вкуснее!' - схожесть: 96.77%\n",
      "'В парке вкуснее' и 'В парке вкуснее!' - схожесть: 96.77%\n",
      "'Алло! Пицца' и 'Алло Пицца' - схожесть: 95.24%\n",
      "'Алло! Пицца' и 'Алло Пицца' - схожесть: 95.24%\n",
      "'Алло! Пицца' и 'Алло Пицца' - схожесть: 95.24%\n",
      "'Алло! Пицца' и 'Алло Пицца' - схожесть: 95.24%\n",
      "'Глобус, ресторан' и 'Глобус ресторан' - схожесть: 96.77%\n"
     ]
    }
   ],
   "source": [
    "import difflib\n",
    "\n",
    "# Функция для поиска неявных дубликатов\n",
    "def find_duplicates_difflib(df, column, threshold=0.95):\n",
    "    duplicates = []\n",
    "    names = df[column].tolist()\n",
    "    \n",
    "    for name in names:\n",
    "        matches = difflib.get_close_matches(name, names, n=len(names), cutoff=threshold)\n",
    "        for match in matches:\n",
    "            if match != name:\n",
    "                score = difflib.SequenceMatcher(None, name, match).ratio() * 100\n",
    "                duplicates.append((name, match, score))\n",
    "\n",
    "    return duplicates\n",
    "\n",
    "# Поиск неявных дубликатов\n",
    "duplicates = find_duplicates_difflib(df, 'name', threshold=0.95)\n",
    "\n",
    "# Вывод результатов\n",
    "for original, match, score in duplicates:\n",
    "    print(f\"'{original}' и '{match}' - схожесть: {score:.2f}%\")\n"
   ]
  },
  {
   "cell_type": "markdown",
   "id": "f8e87116",
   "metadata": {
    "id": "61304e83"
   },
   "source": [
    "По уникальным значениям дубликаты не найдены, в столбцах, которые это предполагают, уникальные значения. Все id уникальны. Однако есть опечатки в названиях, которые необходимо будет исправить. В дальнейшем, проводя обработку от дубликатов, создадим копию датафрейма, для того, чтобы мы могли проанализировать разницу между очищенным и изначальным датафреймом."
   ]
  },
  {
   "cell_type": "code",
   "execution_count": 20,
   "id": "a9073b4e",
   "metadata": {},
   "outputs": [],
   "source": [
    "# создаем копию датафрейма\n",
    "df_l = df.copy()"
   ]
  },
  {
   "cell_type": "code",
   "execution_count": 21,
   "id": "2c193fff",
   "metadata": {},
   "outputs": [],
   "source": [
    "# Замена наименований в столбцах\n",
    "df_l['name'] = df_l['name'].replace('В парке вкуснее!', 'В парке вкуснее')\n",
    "df_l['name'] = df_l['name'].replace('9 Bar Coffe', '9 Bar Coffee')\n",
    "df_l['name'] = df_l['name'].replace('Хинкали Gали!', 'Хинкали Gали')\n",
    "df_l['name'] = df_l['name'].replace('Алло Пицца', 'Алло! Пицца')\n",
    "df_l['name'] = df_l['name'].replace('Глобус, ресторан', 'Глобус ресторан')\n",
    "df_l['name'] = df_l['name'].replace('Доминос пицца', 'Домино\\'с пицца')\n",
    "df_l['name'] = df_l['name'].replace('Центр Плова', 'Центр Плов')\n",
    "df_l['name'] = df_l['name'].replace('Чайхона № 1', 'Чайхона №1')\n",
    "df_l['name'] = df_l['name'].replace('Чайхана Халал', 'Чайхана Халаль')\n",
    "df_l['name'] = df_l['name'].replace('Jeffrey’s Coffeeshop', 'Jeffrey\\'s Coffeeshop')\n",
    "df_l['name'] = df_l['name'].replace('Раковарня Клешни и хвосты', 'Раковарня Клешни и Хвосты')\n",
    "df_l['name'] = df_l['name'].replace('Хлеб Насущный экспресс', 'Хлеб Насущный Экспресс')\n",
    "df_l['name'] = df_l['name'].replace('Есть Хинкали&Пить Вино', 'Есть Хинкали & Пить Вино')\n",
    "df_l['name'] = df_l['name'].replace('Corner cafe & kitchen', 'Corner cafe&kitchen')\n",
    "df_l['name'] = df_l['name'].replace('PiNzeria by Bontempi', 'Pinzeria by Bontempi')\n",
    "df_l['name'] = df_l['name'].replace('Хинкали-Gали!', 'Хинкали Gали')\n",
    "df_l['name'] = df_l['name'].replace('Хинкали-Gали', 'Хинкали Gали')"
   ]
  },
  {
   "cell_type": "code",
   "execution_count": 22,
   "id": "640b2ac3",
   "metadata": {},
   "outputs": [
    {
     "name": "stdout",
     "output_type": "stream",
     "text": [
      "'Чайхана Райан' и 'Чайхана Райхан' - схожесть: 96.30%\n",
      "'Кафетериус № 6' и 'Кафетериус № 26' - схожесть: 96.55%\n",
      "'Кафетериус № 26' и 'Кафетериус № 6' - схожесть: 96.55%\n",
      "'Чайхана Райхан' и 'Чайхана Райан' - схожесть: 96.30%\n"
     ]
    }
   ],
   "source": [
    "# Проверим замену тем же кодом\n",
    "import difflib\n",
    "\n",
    "# Функция для поиска неявных дубликатов\n",
    "def find_duplicates_difflib(df_l, column, threshold=0.95):\n",
    "    duplicates = []\n",
    "    names = df_l[column].tolist()\n",
    "    \n",
    "    for name in names:\n",
    "        matches = difflib.get_close_matches(name, names, n=len(names), cutoff=threshold)\n",
    "        for match in matches:\n",
    "            if match != name:\n",
    "                score = difflib.SequenceMatcher(None, name, match).ratio() * 100\n",
    "                duplicates.append((name, match, score))\n",
    "\n",
    "    return duplicates\n",
    "\n",
    "# Поиск неявных дубликатов\n",
    "duplicates = find_duplicates_difflib(df_l, 'name', threshold=0.95)\n",
    "\n",
    "# Вывод результатов\n",
    "for original, match, score in duplicates:\n",
    "    print(f\"'{original}' и '{match}' - схожесть: {score:.2f}%\")"
   ]
  },
  {
   "cell_type": "markdown",
   "id": "adecc172",
   "metadata": {},
   "source": [
    "Мы исправили ошибки в названиях. Исправляя названия, я проверяла реальное написание названий данных точек. Чайхана Райан и Чайхана Райхан обе существуют, также как и Кафетериусы 6 и 26. Теперь немного снизим порог схожести и попробуем найти еще дубликаты."
   ]
  },
  {
   "cell_type": "code",
   "execution_count": 23,
   "id": "0aae6369",
   "metadata": {},
   "outputs": [
    {
     "name": "stdout",
     "output_type": "stream",
     "text": [
      "'Шашлычный двор № 1' и 'Шашлычный дворик № 1' - схожесть: 94.74%\n",
      "'Чайхана-24' и 'Чайхана24' - схожесть: 94.74%\n",
      "'Здоровое Питание' и 'Здоровое питание' - схожесть: 93.75%\n",
      "'Крошка Картошка' и 'Крошка картошка' - схожесть: 93.33%\n",
      "'Восточный двор' и 'Восточный дворик' - схожесть: 93.33%\n",
      "'Main Food' и 'MainFood' - схожесть: 94.12%\n",
      "'Подсолнух' и 'Подсолнухи' - схожесть: 94.74%\n",
      "'Чайхана 24' и 'Чайхана24' - схожесть: 94.74%\n",
      "'Carrots and Beans' и 'Carrots and beans' - схожесть: 94.12%\n",
      "'I Coffee' и 'IQ Coffee' - схожесть: 94.12%\n",
      "'Хлеб да Выпечка' и 'Хлеб да выпечка' - схожесть: 93.33%\n",
      "'Франклинс Бургер' и 'Франклинс бургер' - схожесть: 93.75%\n",
      "'Донер 24' и 'Донер24' - схожесть: 93.33%\n",
      "'Церковная трапеза' и 'Церковная трапезная' - схожесть: 94.44%\n",
      "'Лепим и Варим Пельменная на рынке' и 'Лепим и Варим Пельменная на рынке № 2' - схожесть: 94.29%\n",
      "'Кафетериус № 26' и 'Кафетериус № 6' - схожесть: 96.55%\n",
      "'Кафе 35' и 'Кафе 365' - схожесть: 93.33%\n",
      "'Чайхана Райан' и 'Чайхана Райхан' - схожесть: 96.30%\n",
      "'Семейная Пекарня' и 'Семейная пекарня' - схожесть: 93.75%\n",
      "'Трдельник' и 'Трдельникъ' - схожесть: 94.74%\n",
      "'Чайхана Бишкек Сити' и 'Чайхона Бишкек Сити' - схожесть: 94.74%\n",
      "'Rd Cafe' и 'Red Cafe' - схожесть: 93.33%\n",
      "'Багратион' и 'Багратиони' - схожесть: 94.74%\n",
      "'Суши Стор' и 'СушиСтор' - схожесть: 94.12%\n",
      "'Кочевник' и 'Кочевники' - схожесть: 94.12%\n",
      "'Хинкали' и 'Хинкали+' - схожесть: 93.33%\n",
      "'Чайхана Зилола' и 'Чайхана Зилола 2' - схожесть: 93.33%\n",
      "'Хачапури' и 'Хачапурия' - схожесть: 94.12%\n",
      "'Cofe Fest' и 'CofeFest' - схожесть: 94.12%\n",
      "'Хинкальная Экспресс' и 'Хинкальная экспресс' - схожесть: 94.74%\n",
      "'Хинкали & хачапури' и 'Хинкали хачапури' - схожесть: 94.12%\n",
      "'Кафе кондитерская' и 'Кафе-кондитерская' - схожесть: 94.12%\n",
      "'Гастрорюмочная Шесть You Шесть' и 'Гастрорюмочная Шесть-You-Шесть' - схожесть: 93.33%\n",
      "'Советские Времена' и 'Советские времена' - схожесть: 94.12%\n",
      "'Шашлык на Углях' и 'Шашлык на углях' - схожесть: 93.33%\n",
      "'Чайхана Бишкек Сити' и 'Чайхана Бишкек сити' - схожесть: 94.74%\n",
      "'Meat Лав' и 'MeatЛав' - схожесть: 93.33%\n",
      "'Вкусняша' и 'Вкусняшка' - схожесть: 94.12%\n",
      "'Шашлычный двор' и 'Шашлычный дворик' - схожесть: 93.33%\n",
      "'It's СоТ - Кофейня' и 'It's СоТ-Кофейня' - схожесть: 94.12%\n",
      "'Бистро 2' и 'Бистро 24' - схожесть: 94.12%\n",
      "'Шаурма 24' и 'Шаурма24' - схожесть: 94.12%\n",
      "'На мангале' и 'Намангале' - схожесть: 94.74%\n",
      "'Стардог' и 'Стардогс' - схожесть: 93.33%\n"
     ]
    }
   ],
   "source": [
    "import difflib\n",
    "import pandas as pd\n",
    "\n",
    "# Функция для поиска неявных дубликатов\n",
    "def find_duplicates_difflib(df_l, column, threshold=0.93):\n",
    "    duplicates = set()  # Используем множество для уникальных дубликатов\n",
    "    names = df_l[column].tolist()\n",
    "    \n",
    "    for name in names:\n",
    "        matches = difflib.get_close_matches(name, names, n=len(names), cutoff=threshold)\n",
    "        for match in matches:\n",
    "            if match != name:\n",
    "                score = difflib.SequenceMatcher(None, name, match).ratio() * 100\n",
    "                # Добавляем только уникальные пары (в порядке оригинала и совпадения)\n",
    "                duplicates.add((min(name, match), max(name, match), score))\n",
    "\n",
    "    return list(duplicates)  # Преобразуем множество обратно в список\n",
    "\n",
    "# Поиск неявных дубликатов\n",
    "duplicates = find_duplicates_difflib(df_l, 'name', threshold=0.93)\n",
    "\n",
    "# Вывод результатов\n",
    "for original, match, score in duplicates:\n",
    "    print(f\"'{original}' и '{match}' - схожесть: {score:.2f}%\")\n"
   ]
  },
  {
   "cell_type": "markdown",
   "id": "9ea8d382",
   "metadata": {},
   "source": [
    "В данных много опечаток, которые связаны с ошибкой в регистре. Напишем все нызвания в нижнем регистре, чтобы убрать дубликаты."
   ]
  },
  {
   "cell_type": "code",
   "execution_count": 24,
   "id": "4e5fa81f",
   "metadata": {},
   "outputs": [],
   "source": [
    "# приводим все названия в датафрейме к нижнему регистру\n",
    "df_l = df_l.applymap(lambda x: x.lower() if isinstance(x, str) else x)"
   ]
  },
  {
   "cell_type": "code",
   "execution_count": 25,
   "id": "0ab4639f",
   "metadata": {},
   "outputs": [
    {
     "name": "stdout",
     "output_type": "stream",
     "text": [
      "'вкусняша' и 'вкусняшка' - схожесть: 94.12%\n",
      "'чайхана бишкек сити' и 'чайхона бишкек сити' - схожесть: 94.74%\n",
      "'хинкали' и 'хинкали+' - схожесть: 93.33%\n",
      "'хинкали хачапури' и 'хинкали. хачапури' - схожесть: 96.97%\n",
      "'la cafe' и 'lav cafe' - схожесть: 93.33%\n",
      "'meat лав' и 'meatлав' - схожесть: 93.33%\n",
      "'шашлычный двор' и 'шашлычный дворик' - схожесть: 93.33%\n",
      "'вкинобар' и 'кинобар' - схожесть: 93.33%\n",
      "'церковная трапеза' и 'церковная трапезная' - схожесть: 94.44%\n",
      "'чайхана 24' и 'чайхана24' - схожесть: 94.74%\n",
      "'шашлычный двор № 1' и 'шашлычный дворик № 1' - схожесть: 94.74%\n",
      "'чайхана райан' и 'чайхана райхан' - схожесть: 96.30%\n",
      "'eat street' и 'meat street' - схожесть: 95.24%\n",
      "'хинкали & хачапури' и 'хинкали хачапури' - схожесть: 94.12%\n",
      "'суши стор' и 'сушистор' - схожесть: 94.12%\n",
      "'coffee in' и 'coffee inn' - схожесть: 94.74%\n",
      "'гастрорюмочная шесть you шесть' и 'гастрорюмочная шесть-you-шесть' - схожесть: 93.33%\n",
      "'шаурма 24' и 'шаурма24' - схожесть: 94.12%\n",
      "'восточный двор' и 'восточный дворик' - схожесть: 93.33%\n",
      "'на мангале' и 'намангале' - схожесть: 94.74%\n",
      "'rd cafe' и 'red cafe' - схожесть: 93.33%\n",
      "'багратион' и 'багратиони' - схожесть: 94.74%\n",
      "'мореморе' и 'омореморе' - схожесть: 94.12%\n",
      "'суши сет' и 'сушисет' - схожесть: 93.33%\n",
      "'трдельник' и 'трдельникъ' - схожесть: 94.74%\n",
      "'чайхана ош сити' и 'чайхона ош сити' - схожесть: 93.33%\n",
      "'чайхана зилола' и 'чайхана зилола 2' - схожесть: 93.33%\n",
      "'shake up' и 'shakeup' - схожесть: 93.33%\n",
      "'хачапури' и 'хачапурия' - схожесть: 94.12%\n",
      "'кафе кондитерская' и 'кафе-кондитерская' - схожесть: 94.12%\n",
      "'it's сот - кофейня' и 'it's сот-кофейня' - схожесть: 94.12%\n",
      "'хинкали & хачапури' и 'хинкали и хачапури' - схожесть: 94.44%\n",
      "'кафе 35' и 'кафе 365' - схожесть: 93.33%\n",
      "'кружка паб' и 'кружкапаб' - схожесть: 94.74%\n",
      "'кафетериус № 26' и 'кафетериус № 6' - схожесть: 96.55%\n",
      "'кофе-порт' и 'кофепорт' - схожесть: 94.12%\n",
      "'кочевник' и 'кочевники' - схожесть: 94.12%\n",
      "'стардог' и 'стардогс' - схожесть: 93.33%\n",
      "'кафе пекарня' и 'кафе, пекарня' - схожесть: 96.00%\n",
      "'бистро 2' и 'бистро 24' - схожесть: 94.12%\n",
      "'чебуреки и манты' и 'чебуреки манты' - схожесть: 93.33%\n",
      "'лепим и варим пельменная на рынке' и 'лепим и варим пельменная на рынке № 2' - схожесть: 94.29%\n",
      "'центр плов' и 'центр плова' - схожесть: 95.24%\n",
      "'main food' и 'mainfood' - схожесть: 94.12%\n",
      "'чайхана-24' и 'чайхана24' - схожесть: 94.74%\n",
      "'cofe fest' и 'cofefest' - схожесть: 94.12%\n",
      "'хинкали и хачапури' и 'хинкали хачапури' - схожесть: 94.12%\n",
      "'донер 24' и 'донер24' - схожесть: 93.33%\n",
      "'сити пицца' и 'ситипицца' - схожесть: 94.74%\n",
      "'i coffee' и 'iq coffee' - схожесть: 94.12%\n",
      "'подсолнух' и 'подсолнухи' - схожесть: 94.74%\n"
     ]
    }
   ],
   "source": [
    "import difflib\n",
    "import pandas as pd\n",
    "\n",
    "# Функция для поиска неявных дубликатов\n",
    "def find_duplicates_difflib(df_l, column, threshold=0.93):\n",
    "    duplicates = set()  # Используем множество для уникальных дубликатов\n",
    "    names = df_l[column].tolist()\n",
    "    \n",
    "    for name in names:\n",
    "        matches = difflib.get_close_matches(name, names, n=len(names), cutoff=threshold)\n",
    "        for match in matches:\n",
    "            if match != name:\n",
    "                score = difflib.SequenceMatcher(None, name, match).ratio() * 100\n",
    "                # Добавляем только уникальные пары (в порядке оригинала и совпадения)\n",
    "                duplicates.add((min(name, match), max(name, match), score))\n",
    "\n",
    "    return list(duplicates)  # Преобразуем множество обратно в список\n",
    "\n",
    "# Поиск неявных дубликатов\n",
    "duplicates = find_duplicates_difflib(df_l, 'name', threshold=0.93)\n",
    "\n",
    "# Вывод результатов\n",
    "for original, match, score in duplicates:\n",
    "    print(f\"'{original}' и '{match}' - схожесть: {score:.2f}%\")"
   ]
  },
  {
   "cell_type": "code",
   "execution_count": 26,
   "id": "94fdddcf",
   "metadata": {},
   "outputs": [],
   "source": [
    "df_l['name'] = df_l['name'].replace('кофе порт', 'кофе-порт')\n",
    "df_l['name'] = df_l['name'].replace('кофепорт', 'кофе-порт')\n",
    "df_l['name'] = df_l['name'].replace('сушисет', 'суши сет')\n",
    "df_l['name'] = df_l['name'].replace('вкинобар', 'кинобар')\n",
    "df_l['name'] = df_l['name'].replace('coffee inn', 'coffee in')\n",
    "df_l['name'] = df_l['name'].replace('main food', 'mainfood')\n",
    "df_l['name'] = df_l['name'].replace('кафе, пекарня', 'кафе пекарня')\n",
    "df_l['name'] = df_l['name'].replace('shakeup', 'shake up')\n",
    "df_l['name'] = df_l['name'].replace('eat street', 'meat street')\n",
    "df_l['name'] = df_l['name'].replace('чайхана ош сити', 'чайхона ош сити')\n",
    "df_l['name'] = df_l['name'].replace('сушистор', 'суши стор')\n",
    "df_l['name'] = df_l['name'].replace('it\\'s сот - кофейня', 'it\\'s сот-кофейня')\n",
    "df_l['name'] = df_l['name'].replace('кафе-кондитерская', 'кафе кондитерская')\n",
    "df_l['name'] = df_l['name'].replace('ситипицца', 'сити пицца')\n",
    "df_l['name'] = df_l['name'].replace('багратиони', 'багратион')\n",
    "df_l['name'] = df_l['name'].replace('чебуреки манты', 'чебуреки и манты')\n",
    "df_l['name'] = df_l['name'].replace('кружкапаб', 'кружка паб')\n",
    "df_l['name'] = df_l['name'].replace('кочевники', 'кочевник')\n",
    "df_l['name'] = df_l['name'].replace('хинкали и хачапури', 'хинкали & хачапури')\n",
    "df_l['name'] = df_l['name'].replace('намангале', 'на мангале')\n",
    "df_l['name'] = df_l['name'].replace('чайхана халаль24', 'чайхана халаль 24')\n",
    "df_l['name'] = df_l['name'].replace('чайхана бишкек сити', 'чайхона бишкек сити')\n",
    "df_l['name'] = df_l['name'].replace('lav cafe', 'la cafe')\n",
    "df_l['name'] = df_l['name'].replace('coffee bay', 'coffee way')\n",
    "df_l['name'] = df_l['name'].replace('омореморе', 'мореморе')\n",
    "df_l['name'] = df_l['name'].replace('буфет', 'буффет')\n",
    "df_l['name'] = df_l['name'].replace('cofefest', 'cofe fest')\n",
    "df_l['name'] = df_l['name'].replace('чайхона востока', 'чайхона востока 24')\n",
    "df_l['name'] = df_l['name'].replace('cafe13', 'cafe 13')\n",
    "df_l['name'] = df_l['name'].replace('шаурма24', 'шаурма 24')\n",
    "df_l['name'] = df_l['name'].replace('донер тандыр', 'донер-тандыр')\n",
    "df_l['name'] = df_l['name'].replace('чайхана Зилола 2', 'чайхана Зилола')\n",
    "df_l['name'] = df_l['name'].replace('meatлав', 'meat лав')\n",
    "df_l['name'] = df_l['name'].replace('хинкали хачапури', 'хинкали & хачапури')\n",
    "df_l['name'] = df_l['name'].replace('донер кебаб', 'донер-кебаб')\n",
    "df_l['name'] = df_l['name'].replace('подсолнухи', 'подсолнух')\n",
    "df_l['name'] = df_l['name'].replace('кебабс', 'кебаб')\n",
    "df_l['name'] = df_l['name'].replace('фо бо и том ям', 'фо бо & том ям')\n",
    "df_l['name'] = df_l['name'].replace('кафе 35', 'кафе 365')\n",
    "df_l['name'] = df_l['name'].replace('local', 'locals')\n",
    "df_l['name'] = df_l['name'].replace('канти', 'кантим')\n",
    "df_l['name'] = df_l['name'].replace('донер24', 'донер 24')\n",
    "df_l['name'] = df_l['name'].replace('самарканд', 'я самарканд')\n",
    "df_l['name'] = df_l['name'].replace('чайхана24', 'чайхана 24')\n",
    "df_l['name'] = df_l['name'].replace('чайхана-24', 'чайхана 24')\n",
    "df_l['name'] = df_l['name'].replace('церковная трапеза', 'церковная трапезная')\n",
    "df_l['name'] = df_l['name'].replace('вкусное', 'вкусно')\n",
    "df_l['name'] = df_l['name'].replace('чайхона халва', 'чайхана халва')\n",
    "df_l['name'] = df_l['name'].replace('донер-хаус', 'донер хаус')\n",
    "df_l['name'] = df_l['name'].replace('чайхона 24', 'чайхана 24')\n",
    "df_l['name'] = df_l['name'].replace('кофе&moloko', 'кофе & moloko')\n",
    "df_l['name'] = df_l['name'].replace('чайхана халаль', 'чайхана халаль24')\n",
    "df_l['name'] = df_l['name'].replace('хинкали хачапури', 'хинкали & хачапури')\n",
    "df_l['name'] = df_l['name'].replace('трдельникъ', 'трдельник')\n",
    "df_l['name'] = df_l['name'].replace('кофе, пекарня', 'кафе, пекарня')\n",
    "df_l['name'] = df_l['name'].replace('яндекс лавка', 'яндекс.лавка')\n",
    "df_l['name'] = df_l['name'].replace('кафе столовая', 'кафе-столовая')\n",
    "df_l['name'] = df_l['name'].replace('бистро 2', 'бистро 24')\n",
    "df_l['name'] = df_l['name'].replace('сладкое', 'сладко')\n",
    "df_l['name'] = df_l['name'].replace('bufet', 'buffet')\n",
    "df_l['name'] = df_l['name'].replace('сезоны', 'сезон')\n",
    "df_l['name'] = df_l['name'].replace('дом 8а', 'дом 8')\n",
    "df_l['name'] = df_l['name'].replace('хинкали. хачапури', 'хинкали хачапури')\n",
    "df_l['name'] = df_l['name'].replace('столовая - буфетъ', 'столовая-буфет')\n",
    "df_l['name'] = df_l['name'].replace('аль бухари', 'аль-бухари')\n",
    "df_l['name'] = df_l['name'].replace('батон', 'батони')\n",
    "df_l['name'] = df_l['name'].replace('бистрот', 'бистро')\n",
    "df_l['name'] = df_l['name'].replace('онегинъ', 'онегин')\n",
    "df_l['name'] = df_l['name'].replace('гастрорюмочная шесть-you-шесть', 'гастрорюмочная шесть you шесть')\n",
    "df_l['name'] = df_l['name'].replace('донер-хаус', 'донер хаус')\n",
    "df_l['name'] = df_l['name'].replace('стардог', 'стардогс')\n",
    "df_l['name'] = df_l['name'].replace('перекресток', 'перекрёсток')\n",
    "df_l['name'] = df_l['name'].replace('festa & тесто', 'festa&тесто')\n",
    "df_l['name'] = df_l['name'].replace('red cafe', 'rd cafe')\n",
    "df_l['name'] = df_l['name'].replace('чайхана-24', 'чайхана24')"
   ]
  },
  {
   "cell_type": "code",
   "execution_count": 27,
   "id": "75429655",
   "metadata": {},
   "outputs": [
    {
     "name": "stdout",
     "output_type": "stream",
     "text": [
      "'чайхана халаль 24' и 'чайхана халаль24' - схожесть: 96.97%\n",
      "'вкусняша' и 'вкусняшка' - схожесть: 94.12%\n",
      "'хачапури' и 'хачапурия' - схожесть: 94.12%\n",
      "'лепим и варим пельменная на рынке' и 'лепим и варим пельменная на рынке № 2' - схожесть: 94.29%\n",
      "'шашлычный двор № 1' и 'шашлычный дворик № 1' - схожесть: 94.74%\n",
      "'хинкали' и 'хинкали+' - схожесть: 93.33%\n",
      "'центр плов' и 'центр плова' - схожесть: 95.24%\n",
      "'восточный двор' и 'восточный дворик' - схожесть: 93.33%\n",
      "'кафетериус № 26' и 'кафетериус № 6' - схожесть: 96.55%\n",
      "'шашлычный двор' и 'шашлычный дворик' - схожесть: 93.33%\n",
      "'кафе пекарня' и 'кафе, пекарня' - схожесть: 96.00%\n",
      "'чайхана зилола' и 'чайхана зилола 2' - схожесть: 93.33%\n",
      "'чайхана райан' и 'чайхана райхан' - схожесть: 96.30%\n",
      "'i coffee' и 'iq coffee' - схожесть: 94.12%\n",
      "'хинкали & хачапури' и 'хинкали хачапури' - схожесть: 94.12%\n"
     ]
    }
   ],
   "source": [
    "import difflib\n",
    "import pandas as pd\n",
    "\n",
    "# Функция для поиска неявных дубликатов\n",
    "def find_duplicates_difflib(df_l, column, threshold=0.93):\n",
    "    duplicates = set()  # Используем множество для уникальных дубликатов\n",
    "    names = df_l[column].tolist()\n",
    "    \n",
    "    for name in names:\n",
    "        matches = difflib.get_close_matches(name, names, n=len(names), cutoff=threshold)\n",
    "        for match in matches:\n",
    "            if match != name:\n",
    "                score = difflib.SequenceMatcher(None, name, match).ratio() * 100\n",
    "                # Добавляем только уникальные пары (в порядке оригинала и совпадения)\n",
    "                duplicates.add((min(name, match), max(name, match), score))\n",
    "\n",
    "    return list(duplicates)  # Преобразуем множество обратно в список\n",
    "\n",
    "# Поиск неявных дубликатов\n",
    "duplicates = find_duplicates_difflib(df_l, 'name', threshold=0.93)\n",
    "\n",
    "# Вывод результатов\n",
    "for original, match, score in duplicates:\n",
    "    print(f\"'{original}' и '{match}' - схожесть: {score:.2f}%\")"
   ]
  },
  {
   "cell_type": "markdown",
   "id": "7a1238d9",
   "metadata": {},
   "source": [
    "Мы исправили опечатки. Те названия, что остались, могут действительно встречаться, поэтому мы их не трогаем."
   ]
  },
  {
   "cell_type": "code",
   "execution_count": 28,
   "id": "8a7ffb6c",
   "metadata": {},
   "outputs": [
    {
     "data": {
      "text/plain": [
       "0"
      ]
     },
     "execution_count": 28,
     "metadata": {},
     "output_type": "execute_result"
    }
   ],
   "source": [
    "df.duplicated().sum()"
   ]
  },
  {
   "cell_type": "markdown",
   "id": "5db10b1a",
   "metadata": {},
   "source": [
    "Явных дубликатов нет. Неявные устранены. Создадим новый столбец `is_24_7`, который будет отражать, круглосуточные и работают ли ежедневно заведения или нет."
   ]
  },
  {
   "cell_type": "code",
   "execution_count": 29,
   "id": "65fa546a",
   "metadata": {},
   "outputs": [],
   "source": [
    "df_l['is_24_7'] = df_l['hours'] == 'ежедневно, круглосуточно'"
   ]
  },
  {
   "cell_type": "code",
   "execution_count": 30,
   "id": "af80044f",
   "metadata": {},
   "outputs": [],
   "source": [
    "df_l.reset_index(drop=True, inplace=True)"
   ]
  },
  {
   "cell_type": "code",
   "execution_count": 31,
   "id": "19341db1",
   "metadata": {
    "scrolled": true
   },
   "outputs": [
    {
     "name": "stdout",
     "output_type": "stream",
     "text": [
      "<class 'pandas.core.frame.DataFrame'>\n",
      "RangeIndex: 8406 entries, 0 to 8405\n",
      "Data columns (total 14 columns):\n",
      " #   Column             Non-Null Count  Dtype  \n",
      "---  ------             --------------  -----  \n",
      " 0   id                 8406 non-null   object \n",
      " 1   name               8406 non-null   object \n",
      " 2   category           8406 non-null   object \n",
      " 3   address            8406 non-null   object \n",
      " 4   district           8406 non-null   object \n",
      " 5   hours              7870 non-null   object \n",
      " 6   rating             8406 non-null   float64\n",
      " 7   chain              8406 non-null   int64  \n",
      " 8   seats              4795 non-null   object \n",
      " 9   price              3315 non-null   object \n",
      " 10  avg_bill           3816 non-null   object \n",
      " 11  middle_avg_bill    3149 non-null   float64\n",
      " 12  middle_coffee_cup  535 non-null    float64\n",
      " 13  is_24_7            8406 non-null   bool   \n",
      "dtypes: bool(1), float64(3), int64(1), object(9)\n",
      "memory usage: 862.1+ KB\n"
     ]
    },
    {
     "data": {
      "text/html": [
       "<div>\n",
       "<style scoped>\n",
       "    .dataframe tbody tr th:only-of-type {\n",
       "        vertical-align: middle;\n",
       "    }\n",
       "\n",
       "    .dataframe tbody tr th {\n",
       "        vertical-align: top;\n",
       "    }\n",
       "\n",
       "    .dataframe thead th {\n",
       "        text-align: right;\n",
       "    }\n",
       "</style>\n",
       "<table border=\"1\" class=\"dataframe\">\n",
       "  <thead>\n",
       "    <tr style=\"text-align: right;\">\n",
       "      <th></th>\n",
       "      <th>id</th>\n",
       "      <th>name</th>\n",
       "      <th>category</th>\n",
       "      <th>address</th>\n",
       "      <th>district</th>\n",
       "      <th>hours</th>\n",
       "      <th>rating</th>\n",
       "      <th>chain</th>\n",
       "      <th>seats</th>\n",
       "      <th>price</th>\n",
       "      <th>avg_bill</th>\n",
       "      <th>middle_avg_bill</th>\n",
       "      <th>middle_coffee_cup</th>\n",
       "      <th>is_24_7</th>\n",
       "    </tr>\n",
       "  </thead>\n",
       "  <tbody>\n",
       "    <tr>\n",
       "      <th>8401</th>\n",
       "      <td>0342ad1a45ed41ba89dcba246a8267e5</td>\n",
       "      <td>суши мания</td>\n",
       "      <td>кафе</td>\n",
       "      <td>москва, профсоюзная улица, 56</td>\n",
       "      <td>юго-западный административный округ</td>\n",
       "      <td>ежедневно, 09:00–02:00</td>\n",
       "      <td>4.4</td>\n",
       "      <td>0</td>\n",
       "      <td>86</td>\n",
       "      <td>NaN</td>\n",
       "      <td>NaN</td>\n",
       "      <td>NaN</td>\n",
       "      <td>NaN</td>\n",
       "      <td>False</td>\n",
       "    </tr>\n",
       "    <tr>\n",
       "      <th>8402</th>\n",
       "      <td>ee6bb7c3650e47bd8186fca08eda1091</td>\n",
       "      <td>миславнес</td>\n",
       "      <td>кафе</td>\n",
       "      <td>москва, пролетарский проспект, 19, корп. 1</td>\n",
       "      <td>южный административный округ</td>\n",
       "      <td>ежедневно, 08:00–22:00</td>\n",
       "      <td>4.8</td>\n",
       "      <td>0</td>\n",
       "      <td>150</td>\n",
       "      <td>NaN</td>\n",
       "      <td>NaN</td>\n",
       "      <td>NaN</td>\n",
       "      <td>NaN</td>\n",
       "      <td>False</td>\n",
       "    </tr>\n",
       "    <tr>\n",
       "      <th>8403</th>\n",
       "      <td>62e8c64d4c89467aba608e39ef87616b</td>\n",
       "      <td>самовар</td>\n",
       "      <td>кафе</td>\n",
       "      <td>москва, люблинская улица, 112а, стр. 1</td>\n",
       "      <td>юго-восточный административный округ</td>\n",
       "      <td>ежедневно, круглосуточно</td>\n",
       "      <td>3.9</td>\n",
       "      <td>0</td>\n",
       "      <td>150</td>\n",
       "      <td>NaN</td>\n",
       "      <td>средний счёт:от 150 ₽</td>\n",
       "      <td>150.0</td>\n",
       "      <td>NaN</td>\n",
       "      <td>True</td>\n",
       "    </tr>\n",
       "    <tr>\n",
       "      <th>8404</th>\n",
       "      <td>06a0db5ecd4842d48cd6350aa923e297</td>\n",
       "      <td>чайхана sabr</td>\n",
       "      <td>кафе</td>\n",
       "      <td>москва, люблинская улица, 112а, стр. 1</td>\n",
       "      <td>юго-восточный административный округ</td>\n",
       "      <td>ежедневно, круглосуточно</td>\n",
       "      <td>4.2</td>\n",
       "      <td>1</td>\n",
       "      <td>150</td>\n",
       "      <td>NaN</td>\n",
       "      <td>NaN</td>\n",
       "      <td>NaN</td>\n",
       "      <td>NaN</td>\n",
       "      <td>True</td>\n",
       "    </tr>\n",
       "    <tr>\n",
       "      <th>8405</th>\n",
       "      <td>9d56f8f7a7f74df1a925bc0fd2de8aae</td>\n",
       "      <td>kebab time</td>\n",
       "      <td>кафе</td>\n",
       "      <td>москва, россошанский проезд, 6</td>\n",
       "      <td>южный административный округ</td>\n",
       "      <td>ежедневно, круглосуточно</td>\n",
       "      <td>3.9</td>\n",
       "      <td>0</td>\n",
       "      <td>12</td>\n",
       "      <td>NaN</td>\n",
       "      <td>NaN</td>\n",
       "      <td>NaN</td>\n",
       "      <td>NaN</td>\n",
       "      <td>True</td>\n",
       "    </tr>\n",
       "  </tbody>\n",
       "</table>\n",
       "</div>"
      ],
      "text/plain": [
       "                                    id          name category  \\\n",
       "8401  0342ad1a45ed41ba89dcba246a8267e5    суши мания     кафе   \n",
       "8402  ee6bb7c3650e47bd8186fca08eda1091     миславнес     кафе   \n",
       "8403  62e8c64d4c89467aba608e39ef87616b       самовар     кафе   \n",
       "8404  06a0db5ecd4842d48cd6350aa923e297  чайхана sabr     кафе   \n",
       "8405  9d56f8f7a7f74df1a925bc0fd2de8aae    kebab time     кафе   \n",
       "\n",
       "                                         address  \\\n",
       "8401               москва, профсоюзная улица, 56   \n",
       "8402  москва, пролетарский проспект, 19, корп. 1   \n",
       "8403      москва, люблинская улица, 112а, стр. 1   \n",
       "8404      москва, люблинская улица, 112а, стр. 1   \n",
       "8405              москва, россошанский проезд, 6   \n",
       "\n",
       "                                  district                     hours  rating  \\\n",
       "8401   юго-западный административный округ    ежедневно, 09:00–02:00     4.4   \n",
       "8402          южный административный округ    ежедневно, 08:00–22:00     4.8   \n",
       "8403  юго-восточный административный округ  ежедневно, круглосуточно     3.9   \n",
       "8404  юго-восточный административный округ  ежедневно, круглосуточно     4.2   \n",
       "8405          южный административный округ  ежедневно, круглосуточно     3.9   \n",
       "\n",
       "      chain seats price               avg_bill  middle_avg_bill  \\\n",
       "8401      0    86   NaN                    NaN              NaN   \n",
       "8402      0   150   NaN                    NaN              NaN   \n",
       "8403      0   150   NaN  средний счёт:от 150 ₽            150.0   \n",
       "8404      1   150   NaN                    NaN              NaN   \n",
       "8405      0    12   NaN                    NaN              NaN   \n",
       "\n",
       "      middle_coffee_cup  is_24_7  \n",
       "8401                NaN    False  \n",
       "8402                NaN    False  \n",
       "8403                NaN     True  \n",
       "8404                NaN     True  \n",
       "8405                NaN     True  "
      ]
     },
     "execution_count": 31,
     "metadata": {},
     "output_type": "execute_result"
    }
   ],
   "source": [
    "df_l.info()\n",
    "df_l.tail()"
   ]
  },
  {
   "cell_type": "code",
   "execution_count": 32,
   "id": "d5d25efc",
   "metadata": {},
   "outputs": [
    {
     "name": "stdout",
     "output_type": "stream",
     "text": [
      "0.0\n"
     ]
    }
   ],
   "source": [
    "# Подсчет количества данных\n",
    "df_len = len(df)\n",
    "df_l_len = len(df_l)\n",
    "\n",
    "# Вычисление количества удаленных строк\n",
    "len_dr = df_len - df_l_len\n",
    "\n",
    "# Вычисление процента удаленных данных\n",
    "len_cl = (len_dr / df_len) * 100\n",
    "print(len_cl)"
   ]
  },
  {
   "cell_type": "code",
   "execution_count": 33,
   "id": "a543cbbc",
   "metadata": {},
   "outputs": [
    {
     "name": "stdout",
     "output_type": "stream",
     "text": [
      "<class 'pandas.core.frame.DataFrame'>\n",
      "Int64Index: 8406 entries, 0 to 8405\n",
      "Data columns (total 13 columns):\n",
      " #   Column             Non-Null Count  Dtype   \n",
      "---  ------             --------------  -----   \n",
      " 0   id                 8406 non-null   object  \n",
      " 1   name               8406 non-null   object  \n",
      " 2   category           8406 non-null   category\n",
      " 3   address            8406 non-null   object  \n",
      " 4   district           8406 non-null   object  \n",
      " 5   hours              7870 non-null   object  \n",
      " 6   rating             8406 non-null   float64 \n",
      " 7   chain              8406 non-null   int8    \n",
      " 8   seats              4795 non-null   Int64   \n",
      " 9   price              3315 non-null   category\n",
      " 10  avg_bill           3816 non-null   object  \n",
      " 11  middle_avg_bill    3149 non-null   float64 \n",
      " 12  middle_coffee_cup  535 non-null    float64 \n",
      "dtypes: Int64(1), category(2), float64(3), int8(1), object(6)\n",
      "memory usage: 755.8+ KB\n",
      "<class 'pandas.core.frame.DataFrame'>\n",
      "RangeIndex: 8406 entries, 0 to 8405\n",
      "Data columns (total 14 columns):\n",
      " #   Column             Non-Null Count  Dtype  \n",
      "---  ------             --------------  -----  \n",
      " 0   id                 8406 non-null   object \n",
      " 1   name               8406 non-null   object \n",
      " 2   category           8406 non-null   object \n",
      " 3   address            8406 non-null   object \n",
      " 4   district           8406 non-null   object \n",
      " 5   hours              7870 non-null   object \n",
      " 6   rating             8406 non-null   float64\n",
      " 7   chain              8406 non-null   int64  \n",
      " 8   seats              4795 non-null   object \n",
      " 9   price              3315 non-null   object \n",
      " 10  avg_bill           3816 non-null   object \n",
      " 11  middle_avg_bill    3149 non-null   float64\n",
      " 12  middle_coffee_cup  535 non-null    float64\n",
      " 13  is_24_7            8406 non-null   bool   \n",
      "dtypes: bool(1), float64(3), int64(1), object(9)\n",
      "memory usage: 862.1+ KB\n"
     ]
    }
   ],
   "source": [
    "df.info()\n",
    "df_l.info()"
   ]
  },
  {
   "cell_type": "markdown",
   "id": "a970fe1e",
   "metadata": {},
   "source": [
    "Заметим, что в `df_l`, с которым мы работаем, неверные типы данных. Исправим их"
   ]
  },
  {
   "cell_type": "code",
   "execution_count": 34,
   "id": "8e0bcc45",
   "metadata": {},
   "outputs": [],
   "source": [
    "df_l['seats'] = pd.to_numeric(df_l['seats'], errors='coerce').astype('Int64')\n",
    "df_l['chain'] = df_l['chain'].astype('int8')\n",
    "df_l['category'] = df_l['category'].astype('category')\n",
    "df_l['price'] = df_l['price'].astype('category')"
   ]
  },
  {
   "cell_type": "code",
   "execution_count": 35,
   "id": "84a5f45c",
   "metadata": {},
   "outputs": [
    {
     "name": "stdout",
     "output_type": "stream",
     "text": [
      "<class 'pandas.core.frame.DataFrame'>\n",
      "RangeIndex: 8406 entries, 0 to 8405\n",
      "Data columns (total 14 columns):\n",
      " #   Column             Non-Null Count  Dtype   \n",
      "---  ------             --------------  -----   \n",
      " 0   id                 8406 non-null   object  \n",
      " 1   name               8406 non-null   object  \n",
      " 2   category           8406 non-null   category\n",
      " 3   address            8406 non-null   object  \n",
      " 4   district           8406 non-null   object  \n",
      " 5   hours              7870 non-null   object  \n",
      " 6   rating             8406 non-null   float64 \n",
      " 7   chain              8406 non-null   int8    \n",
      " 8   seats              4795 non-null   Int64   \n",
      " 9   price              3315 non-null   category\n",
      " 10  avg_bill           3816 non-null   object  \n",
      " 11  middle_avg_bill    3149 non-null   float64 \n",
      " 12  middle_coffee_cup  535 non-null    float64 \n",
      " 13  is_24_7            8406 non-null   bool    \n",
      "dtypes: Int64(1), bool(1), category(2), float64(3), int8(1), object(6)\n",
      "memory usage: 698.4+ KB\n"
     ]
    }
   ],
   "source": [
    "df_l.info()"
   ]
  },
  {
   "cell_type": "markdown",
   "id": "562f30ab",
   "metadata": {
    "id": "562f30ab"
   },
   "source": [
    "---\n",
    "\n",
    "### Промежуточный вывод\n"
   ]
  },
  {
   "cell_type": "markdown",
   "id": "2af707ad",
   "metadata": {
    "id": "4e587ce1"
   },
   "source": [
    "В данных были неявные дубликаты, связанные с опечатками - они были успешно заменены. Пропуски есть и в достаточно большом количестве, однако безопасно заменить или удалить их невозможно. <br>\n",
    "Был создан новый столбец `is_24_7`, показывающий круглосуточные и работают ли ежедневно заведения или нет. <br>\n",
    "В процессе предобработки данных количество строк осталось те(в нашем случае это работа с дубликатами)."
   ]
  },
  {
   "cell_type": "markdown",
   "id": "6953e84c",
   "metadata": {
    "id": "6953e84c"
   },
   "source": [
    "## 3. Исследовательский анализ данных\n",
    "\n",
    "Проведение исследовательского анализа данных при помощи визулизаций. Оценка показателей заведений в разрезе категорий и т д. "
   ]
  },
  {
   "cell_type": "markdown",
   "id": "8555d840",
   "metadata": {
    "id": "8555d840"
   },
   "source": [
    "---\n",
    "\n",
    "### Задача 1\n",
    "\n",
    "Какие категории заведений представлены в данных? Исследуем количество объектов общественного питания по каждой категории."
   ]
  },
  {
   "cell_type": "code",
   "execution_count": 36,
   "id": "ef2bffe9",
   "metadata": {
    "id": "ef2bffe9"
   },
   "outputs": [
    {
     "data": {
      "text/plain": [
       "['кафе', 'ресторан', 'кофейня', 'пиццерия', 'бар,паб', 'быстрое питание', 'булочная', 'столовая']\n",
       "Categories (8, object): ['кафе', 'ресторан', 'кофейня', 'пиццерия', 'бар,паб', 'быстрое питание', 'булочная', 'столовая']"
      ]
     },
     "execution_count": 36,
     "metadata": {},
     "output_type": "execute_result"
    }
   ],
   "source": [
    "# Проверим, какие категории заведений представлены в данных\n",
    "df_l['category'].unique()"
   ]
  },
  {
   "cell_type": "code",
   "execution_count": 37,
   "id": "71ab5e91",
   "metadata": {
    "id": "71ab5e91"
   },
   "outputs": [
    {
     "data": {
      "text/plain": [
       "category\n",
       "бар,паб             765\n",
       "булочная            256\n",
       "быстрое питание     603\n",
       "кафе               2378\n",
       "кофейня            1413\n",
       "пиццерия            633\n",
       "ресторан           2043\n",
       "столовая            315\n",
       "Name: id, dtype: int64"
      ]
     },
     "execution_count": 37,
     "metadata": {},
     "output_type": "execute_result"
    }
   ],
   "source": [
    "# Посмотрим на числовые значения заведений в каждой категории\n",
    "df_l.groupby('category')['id'].nunique()"
   ]
  },
  {
   "cell_type": "markdown",
   "id": "35107044",
   "metadata": {},
   "source": [
    "Рапределение неравномерное, большая часть заведений - кафе, рестораны или кофейни. Построим визуализацию, чтобы визуально оценить распределние."
   ]
  },
  {
   "cell_type": "code",
   "execution_count": 38,
   "id": "63360b97",
   "metadata": {
    "id": "63360b97"
   },
   "outputs": [
    {
     "data": {
      "image/png": "[encoded data removed]",
      "text/plain": [
       "<Figure size 864x288 with 1 Axes>"
      ]
     },
     "metadata": {
      "needs_background": "light"
     },
     "output_type": "display_data"
    }
   ],
   "source": [
    "# Создаём контейнер графика matplotlib и задаём его размер\n",
    "plt.figure(figsize=(12, 4))\n",
    "\n",
    "# Строим столбчатую диаграмму с помощью pandas через plot(kind='bar')\n",
    "df_l['category'].value_counts().plot(\n",
    "               kind='bar', # Тип графика - столбчатая диаграмма\n",
    "               rot=0, # Градус вращения подписи по оси Х\n",
    "               legend=False, # Выключаем легенду\n",
    "               title=f'Распределение заведений по категориям'\n",
    ")\n",
    "\n",
    "# Настраиваем оформление графика\n",
    "plt.xlabel('Категория')\n",
    "plt.ylabel('Количество заведений')\n",
    "# Добавляем сетку графика\n",
    "plt.grid()\n",
    "\n",
    "# Выводим график\n",
    "plt.show()"
   ]
  },
  {
   "cell_type": "markdown",
   "id": "99a5c53a",
   "metadata": {},
   "source": [
    "Наши наблюдения подтвердились, меньшую часть от заведений занимают булочные и столовые(менее 500 заведений), а большую кафе, рестораны и кофейни. Кафе и ресторанов более 2000, кофеен чуть меньше 1500."
   ]
  },
  {
   "cell_type": "markdown",
   "id": "6821e1d0",
   "metadata": {
    "id": "6821e1d0"
   },
   "source": [
    "---\n",
    "\n",
    "### Задача 2\n",
    "\n",
    "Какие административные районы Москвы присутствуют в данных? Исследуем распределение количества заведений по административным районам Москвы, а также отдельно распределение заведений каждой категории в Центральном административном округе Москвы."
   ]
  },
  {
   "cell_type": "code",
   "execution_count": 39,
   "id": "e62f31be",
   "metadata": {
    "id": "e62f31be"
   },
   "outputs": [
    {
     "data": {
      "text/plain": [
       "array(['северный административный округ',\n",
       "       'северо-восточный административный округ',\n",
       "       'северо-западный административный округ',\n",
       "       'западный административный округ',\n",
       "       'центральный административный округ',\n",
       "       'восточный административный округ',\n",
       "       'юго-восточный административный округ',\n",
       "       'южный административный округ',\n",
       "       'юго-западный административный округ'], dtype=object)"
      ]
     },
     "execution_count": 39,
     "metadata": {},
     "output_type": "execute_result"
    }
   ],
   "source": [
    "# Виды районов, которые присутствуют в данных\n",
    "df_l['district'].unique()"
   ]
  },
  {
   "cell_type": "code",
   "execution_count": 40,
   "id": "0a290cd1",
   "metadata": {
    "id": "0a290cd1"
   },
   "outputs": [
    {
     "data": {
      "text/plain": [
       "district\n",
       "восточный административный округ            798\n",
       "западный административный округ             851\n",
       "северный административный округ             900\n",
       "северо-восточный административный округ     891\n",
       "северо-западный административный округ      409\n",
       "центральный административный округ         2242\n",
       "юго-восточный административный округ        714\n",
       "юго-западный административный округ         709\n",
       "южный административный округ                892\n",
       "Name: id, dtype: int64"
      ]
     },
     "execution_count": 40,
     "metadata": {},
     "output_type": "execute_result"
    }
   ],
   "source": [
    "# Исследуем численное распределение заведений по административным районам\n",
    "df_l.groupby('district')['id'].nunique()"
   ]
  },
  {
   "cell_type": "code",
   "execution_count": 41,
   "id": "41f1654a",
   "metadata": {
    "id": "41f1654a",
    "scrolled": true
   },
   "outputs": [
    {
     "data": {
      "image/png": "[encoded data removed]",
      "text/plain": [
       "<Figure size 720x360 with 1 Axes>"
      ]
     },
     "metadata": {
      "needs_background": "light"
     },
     "output_type": "display_data"
    }
   ],
   "source": [
    "# Визуализация распредления заведений по административным районам\n",
    "# Создаём контейнер графика matplotlib и задаём его размер\n",
    "plt.figure(figsize=(10, 5))\n",
    "\n",
    "# Строим столбчатую диаграмму с помощью pandas через plot(kind='bar')\n",
    "df_l['district'].value_counts().plot(\n",
    "               kind='barh', # Тип графика - столбчатая диаграмма\n",
    "               rot=0, # Градус вращения подписи по оси Х\n",
    "               legend=False, # Выключаем легенду\n",
    "               title=f'Распределение заведений по районам'\n",
    ")\n",
    "\n",
    "# Настраиваем оформление графика\n",
    "plt.xlabel('Количество заведений')\n",
    "plt.ylabel('Административный район')\n",
    "# Добавляем сетку графика\n",
    "plt.grid()\n",
    "\n",
    "# Выводим график\n",
    "plt.show()"
   ]
  },
  {
   "cell_type": "markdown",
   "id": "3b2a9f08",
   "metadata": {},
   "source": [
    "В центральном административном округе находится большая часть заведений(более 2000) - количество заведений в данном районе превышает количество в других более чем в два раза(в остальных значения колеблются примерно от 700 до 900). В остальных дистриктах значения распредедлены равномерно. Меньше всего заведений в северо-западном округе(чуть менее 500). "
   ]
  },
  {
   "cell_type": "code",
   "execution_count": 42,
   "id": "95de4fd9",
   "metadata": {},
   "outputs": [
    {
     "data": {
      "image/png": "[encoded data removed]",
      "text/plain": [
       "<Figure size 792x288 with 1 Axes>"
      ]
     },
     "metadata": {
      "needs_background": "light"
     },
     "output_type": "display_data"
    }
   ],
   "source": [
    "# Визуализация по категориям заведений в центральном округе\n",
    "\n",
    "# Для начала отфильтруем датафрейм, оставив в нем только данные центрального округа\n",
    "f_df = df_l[df_l['district'] == 'центральный административный округ']\n",
    "\n",
    "# Создаём контейнер графика matplotlib и задаём его размер\n",
    "plt.figure(figsize=(11, 4))\n",
    "\n",
    "# Строим столбчатую диаграмму с помощью pandas через plot(kind='bar')\n",
    "f_df['category'].value_counts().plot(\n",
    "               kind='bar', # Тип графика - столбчатая диаграмма\n",
    "               rot=0, # Градус вращения подписи по оси Х\n",
    "               legend=False, # Выключаем легенду\n",
    "               title=f'Распределение заведений по категориям в центральном округе'\n",
    ")\n",
    "\n",
    "# Настраиваем оформление графика\n",
    "plt.xlabel('Категория')\n",
    "plt.ylabel('Количество заведений в центральном округе')\n",
    "# Добавляем сетку графика\n",
    "plt.grid()\n",
    "\n",
    "# Выводим график\n",
    "plt.show()"
   ]
  },
  {
   "cell_type": "markdown",
   "id": "04ffeda5",
   "metadata": {},
   "source": [
    "В цетральном округе распределение по категория похоже на распредление по всем округам, однако здесь количество кафе(более 450) и кофеен(более 400) превышают рестораны(более 650). Столовых и булочных также меньше всего. "
   ]
  },
  {
   "cell_type": "markdown",
   "id": "7c824f58",
   "metadata": {
    "id": "7c824f58"
   },
   "source": [
    "---\n",
    "\n",
    "### Задача 3\n",
    "\n",
    "Изучим соотношение сетевых и несетевых заведений в целом по всем данным и в разрезе категорий заведения. Каких заведений больше — сетевых или несетевых? Какие категории заведений чаще являются сетевыми?"
   ]
  },
  {
   "cell_type": "code",
   "execution_count": 43,
   "id": "ef442d1a",
   "metadata": {
    "id": "ef442d1a"
   },
   "outputs": [
    {
     "data": {
      "image/png": "[encoded data removed]",
      "text/plain": [
       "<Figure size 576x432 with 1 Axes>"
      ]
     },
     "metadata": {},
     "output_type": "display_data"
    }
   ],
   "source": [
    "# Визуализация соотношения сетевых и несетевых заведений\n",
    "# Создаём контейнер графика matplotlib и задаём его размер\n",
    "plt.figure(figsize=(8, 6))\n",
    "\n",
    "# Получаем количество сетевых и несетевых заведений\n",
    "counts = df_l['chain'].value_counts()\n",
    "\n",
    "# Определяем метки для легенды на основе значений в counts\n",
    "labels = counts.index.map({1: 'Сетевое', 0: 'Несетевое'})\n",
    "\n",
    "# Строим круговую диаграмму\n",
    "counts.plot(\n",
    "    kind='pie',  # Круговая диаграмма\n",
    "    autopct='%1.1f%%',  # Формат отображения процентов\n",
    "    startangle=90,  # Начальный угол для отображения\n",
    "    labels=labels,  # Добавляем метки для легенды\n",
    "    legend=True,  # Включаем легенду\n",
    "    title='Соотношение сетевых и несетевых заведений'\n",
    ")\n",
    "\n",
    "# Настраиваем оформление графика\n",
    "plt.ylabel('')  # Убираем метку по оси Y\n",
    "plt.grid(False)  # Отключаем сетку\n",
    "\n",
    "# Выводим график\n",
    "plt.show()\n"
   ]
  },
  {
   "cell_type": "markdown",
   "id": "87b69cf1",
   "metadata": {
    "id": "0de29fa2"
   },
   "source": [
    "Несетевых заведений больше, чем сетевых. Значения составляют 62% и 38% соответственно. Учитывая, что для маленьких сетевых заведений могут встречаться ошибки, можно предположить, что значение сетевых в реальности чуть больше"
   ]
  },
  {
   "cell_type": "code",
   "execution_count": 44,
   "id": "a139bd72",
   "metadata": {
    "id": "a139bd72"
   },
   "outputs": [
    {
     "data": {
      "image/png": "[encoded data removed]",
      "text/plain": [
       "<Figure size 720x216 with 1 Axes>"
      ]
     },
     "metadata": {
      "needs_background": "light"
     },
     "output_type": "display_data"
    }
   ],
   "source": [
    "# Изучим распределение сетевых и несетевых заведений в разрезе категорий при помощи стобчатой диаграммы\n",
    "grouped = df.groupby('category')['chain'].value_counts().unstack(fill_value=0)\n",
    "\n",
    "# Суммируем значения по каждой категории для сортировки\n",
    "grouped['total'] = grouped.sum(axis=1)\n",
    "\n",
    "# Сортируем по общему количеству заведений\n",
    "grouped = grouped.sort_values(by='total', ascending=False).drop(columns='total')\n",
    "\n",
    "# Строим столбчатую диаграмму\n",
    "grouped.plot(kind='bar',\n",
    "               title='Распределение сетевых и несетевых заведений в разрезе категорий',\n",
    "               legend=True,\n",
    "               ylabel='Количество заведений',\n",
    "               xlabel='Категория',\n",
    "               rot=0,\n",
    "               figsize=(10, 3))\n",
    "\n",
    "plt.grid()\n",
    "\n",
    "# Выводим график\n",
    "plt.show()\n"
   ]
  },
  {
   "cell_type": "markdown",
   "id": "d13d9e6d",
   "metadata": {},
   "source": [
    "В графике выше синий цвет отражает количество несетевых заведений, а оранжевый сетевых. Во всех категориях кроме булочных, кофеен и пиццерий количество несетевых превышает количество сетевых. "
   ]
  },
  {
   "cell_type": "markdown",
   "id": "5913c3e3",
   "metadata": {
    "id": "5913c3e3"
   },
   "source": [
    "---\n",
    "\n",
    "### Задача 4\n",
    "\n",
    "Исследуем количество посадочных мест в заведениях. Встречаются ли в данных аномальные значения или выбросы? Если да, то с чем они могут быть связаны? Приведем для каждой категории заведений наиболее типичное для него количество посадочных мест.\n"
   ]
  },
  {
   "cell_type": "code",
   "execution_count": 45,
   "id": "6cb238d2",
   "metadata": {
    "id": "6cb238d2"
   },
   "outputs": [
    {
     "data": {
      "text/plain": [
       "0"
      ]
     },
     "execution_count": 45,
     "metadata": {},
     "output_type": "execute_result"
    }
   ],
   "source": [
    "df_l['seats'].min()"
   ]
  },
  {
   "cell_type": "code",
   "execution_count": 46,
   "id": "062b55d8",
   "metadata": {
    "id": "062b55d8"
   },
   "outputs": [
    {
     "data": {
      "text/plain": [
       "1288"
      ]
     },
     "execution_count": 46,
     "metadata": {},
     "output_type": "execute_result"
    }
   ],
   "source": [
    "df_l['seats'].max()"
   ]
  },
  {
   "cell_type": "markdown",
   "id": "eaad3666",
   "metadata": {},
   "source": [
    "1288 посадочных - сомнительно. Думаю, что это аномальное значение, и скорее всего есть еще аномальные значения. Построим ящик с усами, чтобы увидеть аномальные значения и распределения значений в разрезе категорий. "
   ]
  },
  {
   "cell_type": "code",
   "execution_count": 47,
   "id": "90efaac7",
   "metadata": {},
   "outputs": [
    {
     "data": {
      "image/png": "[encoded data removed]",
      "text/plain": [
       "<Figure size 1008x288 with 1 Axes>"
      ]
     },
     "metadata": {
      "needs_background": "light"
     },
     "output_type": "display_data"
    }
   ],
   "source": [
    "# Создаём контейнер графика matplotlib и задаём его размер\n",
    "plt.figure(figsize=(14, 4))\n",
    "\n",
    "# Строим диаграмму размаха значений в столбце score\n",
    "df_l.boxplot(column='seats', vert=False)\n",
    "\n",
    "# Добавляем заголовок и метки оси\n",
    "plt.title('Распределение количества посадочных мест')\n",
    "plt.xlabel('Посадочные места')\n",
    "# Выводим график\n",
    "plt.show()"
   ]
  },
  {
   "cell_type": "markdown",
   "id": "9ee71326",
   "metadata": {
    "id": "ceadf25b"
   },
   "source": [
    "Данные имеют достаточно много аномальных отклоненений. Изучив дополнительную информацию в открытых источниках и проанализировав график, я убрала бы из анализа значения выше 350. Так как 350 мест, включая летнюю веранду, иметь в целом возможно. Также количество аномальных значений уменьшается после данного показателя. Возможно в аномальных значениях опечатка. "
   ]
  },
  {
   "cell_type": "code",
   "execution_count": null,
   "id": "4bd31368",
   "metadata": {},
   "outputs": [],
   "source": [
    "# Построим столбчатую диаграмму, чтобы проанализировать медианный показатель мест для категорий.\n",
    "# Фильтрация данных\n",
    "filtered_df = df_l[df_l['seats'] < 350]\n",
    "\n",
    "# Вычисление медианного значения\n",
    "median_values = filtered_df.groupby('category')['seats'].median().reset_index()\n",
    "\n",
    "# Сортировка по медианному количеству посадочных мест\n",
    "median_values = median_values.sort_values(by='seats', ascending=False)\n",
    "\n",
    "# Создаём контейнер графика matplotlib и задаём его размер\n",
    "plt.figure(figsize=(14, 4))\n",
    "\n",
    "# Построение столбчатой диаграммы\n",
    "plt.bar(median_values['category'], median_values['seats'])\n",
    "plt.xlabel('Категория')\n",
    "plt.ylabel('Медианное количество посадочных мест')\n",
    "plt.title('Медианное количество посадочных мест по категориям')\n",
    "plt.grid()\n",
    "\n",
    "# Поворот меток по оси x для лучшей читаемости\n",
    "plt.xticks(rotation=45)\n",
    "\n",
    "# Вывод графика\n",
    "plt.show()\n"
   ]
  },
  {
   "cell_type": "code",
   "execution_count": null,
   "id": "805f9150",
   "metadata": {},
   "outputs": [],
   "source": [
    "# Построим столбчатую диаграмму, чтобы проанализировать средний показатель мест для категорий.\n",
    "\n",
    "\n",
    "# Вычисление среднего значения\n",
    "mean_values = filtered_df.groupby('category')['seats'].mean().reset_index()\n",
    "\n",
    "# Сортировка по среднему значению посадочных мест\n",
    "mean_values = mean_values.sort_values(by='seats', ascending=False)\n",
    "# Создаём контейнер графика matplotlib и задаём его размер\n",
    "plt.figure(figsize=(14, 4))\n",
    "# Построение столбчатой диаграммы\n",
    "plt.bar(mean_values['category'], mean_values['seats'])\n",
    "plt.xlabel('Категория')\n",
    "plt.ylabel('Среднеее количество посадочных мест')\n",
    "plt.title('Среднее количество посадочных мест по категориям')\n",
    "plt.grid()\n",
    "plt.show()"
   ]
  },
  {
   "cell_type": "markdown",
   "id": "dcd9795c",
   "metadata": {},
   "source": [
    "Выше были построены графики по среднему и по медианному значению посадочных мест по категориям заведений. Средние значения выше медианных из-за более высокого разброса. Будем ориентироваться на медианный показатель. Из-за выбросов в данных среднее не является качественным способом определения типичного количества посадочных мест. <br>\n",
    "Больше всего посадочных мест приходится на бары, рестораны, кофейни и столовые(70-80). Меньше всего посадочных мест требуется в булочных и пиццериях(~50). "
   ]
  },
  {
   "cell_type": "markdown",
   "id": "8ed065ea",
   "metadata": {
    "id": "8ed065ea"
   },
   "source": [
    "---\n",
    "\n",
    "### Задача 5\n",
    "\n",
    "Исследуем рейтинг заведений. Визуализируем распределение средних рейтингов по категориям заведений. Сильно ли различаются усреднённые рейтинги для разных типов общепита?"
   ]
  },
  {
   "cell_type": "code",
   "execution_count": null,
   "id": "cc5206f8",
   "metadata": {
    "id": "cc5206f8"
   },
   "outputs": [],
   "source": [
    "# Исследуем средний рейтинг заведений по категориям\n",
    "# Вычисление среднего значения\n",
    "mn_values = df_l.groupby('category')['rating'].mean().reset_index()\n",
    "\n",
    "# Создаём контейнер графика matplotlib и задаём его размер\n",
    "plt.figure(figsize=(14, 4))\n",
    "# Построение столбчатой диаграммы\n",
    "plt.bar(mn_values['category'], mn_values['rating'])\n",
    "plt.xlabel('Категория')\n",
    "plt.ylabel('Средний рейтинг')\n",
    "plt.title('Средний рейтинг по категориям')\n",
    "plt.grid()\n",
    "plt.show()"
   ]
  },
  {
   "cell_type": "markdown",
   "id": "016b3487",
   "metadata": {
    "id": "3e0ec5d7"
   },
   "source": [
    "Средний рейтинг по всем категориям выше 4, но не доходит до 4,5. Здесь в целом значения по всем категориям приблизительно одинаковые. Самый низкий рейтинг имеет категория быстрого питания, а самый высокий - бары и пабы. "
   ]
  },
  {
   "cell_type": "markdown",
   "id": "dd9702d9",
   "metadata": {
    "id": "dd9702d9"
   },
   "source": [
    "---\n",
    "\n",
    "### Задача 6\n",
    "\n",
    "Изучим, с какими данными показывают самую сильную корреляцию рейтинги заведений? Построем и визуализируем матрицу корреляции рейтинга заведения с разными данными: его категория, положение (административный район Москвы), статус сетевого заведения, количество мест, ценовая категория и признак, является ли заведения круглосуточным. Выберем самую сильную связь и проверим её."
   ]
  },
  {
   "cell_type": "code",
   "execution_count": null,
   "id": "dd7b6767",
   "metadata": {},
   "outputs": [],
   "source": [
    "from phik import phik_matrix\n",
    "correlation_matrix = df_l[['district', 'category', 'is_24_7', 'rating',\n",
    "                              'chain', 'seats', 'price']].phik_matrix()\n",
    "df_heatmap = correlation_matrix.loc[correlation_matrix.index !='rating'][['rating']].sort_values(by='rating', \n",
    "                                                                                                 ascending=False)\n",
    "sns.heatmap(df_heatmap, annot=True, fmt='.2f', cmap='coolwarm', cbar=False, linewidths=0.5)\n",
    "plt.xlabel('Рейтинг')\n",
    "plt.ylabel('Данные')\n",
    "plt.title('Тепловая карта корреляции между рейтингом и другими данными')\n",
    "plt.show()"
   ]
  },
  {
   "cell_type": "markdown",
   "id": "70162901",
   "metadata": {
    "id": "8f0379af"
   },
   "source": [
    "Тепловая карта показывает, что количество мест никак не влияет на райтинг заведения. В целом все перечисленные признаки минимально влияют на рейтинг заведения. Самая высокая корреляция замечена между ценовой категорией и рейтингом. Сделаем визуализацию, чтобы оценить эту связь."
   ]
  },
  {
   "cell_type": "code",
   "execution_count": null,
   "id": "1a65a84d",
   "metadata": {
    "id": "1a65a84d"
   },
   "outputs": [],
   "source": [
    "# Создаем столбчатую диаграмму\n",
    "plt.figure(figsize=(8, 5))\n",
    "sns.barplot(data=df_l, x='price', y='rating')\n",
    "\n",
    "# Настройка заголовка и меток осей\n",
    "plt.title('Средний рейтинг по ценовым категориям')\n",
    "plt.xlabel('Ценовая категория')\n",
    "plt.ylabel('Средний рейтинг')\n",
    "plt.grid(axis='y')\n",
    "plt.show()"
   ]
  },
  {
   "cell_type": "markdown",
   "id": "91c3de1b",
   "metadata": {},
   "source": [
    "Корреляция показывает, что чем выше ценовая категория, тем выше рейтинг."
   ]
  },
  {
   "cell_type": "markdown",
   "id": "370de703",
   "metadata": {
    "id": "370de703"
   },
   "source": [
    "---\n",
    "\n",
    "### Задача 7\n",
    "\n",
    "Сгруппируем данные по названиям заведений и найдем топ-15 популярных сетей в Москве. Для них посчитаем значения среднего рейтинга. Под популярностью понимается количество заведений этой сети в регионе. К какой категории заведений они относятся?"
   ]
  },
  {
   "cell_type": "code",
   "execution_count": null,
   "id": "5d828a9a",
   "metadata": {
    "id": "5d828a9a"
   },
   "outputs": [],
   "source": [
    "# Фильтрация данных по признаку chain\n",
    "filtrd_df = df_l[df_l['chain'] == 1]\n",
    "# Извлечение названий сетей из колонки name\n",
    "filtrd_df['name_s'] = filtrd_df['name'].str.split(' - ').str[0]\n",
    "# Считаем количество заведений и средний рейтинг для каждой сети\n",
    "chain_stats = filtrd_df.groupby('name_s').agg(\n",
    "    number_of_outlets=('name', 'count'),\n",
    "    average_rating=('rating', 'mean'),\n",
    "    category_s=('category', 'first')\n",
    ").reset_index()\n",
    "\n",
    "# Находим топ-15 популярных сетей по количеству заведений\n",
    "top_chains = chain_stats.nlargest(15, 'number_of_outlets')\n",
    "\n",
    "# Выводим результаты\n",
    "print(top_chains)"
   ]
  },
  {
   "cell_type": "code",
   "execution_count": null,
   "id": "774348d5",
   "metadata": {
    "id": "774348d5"
   },
   "outputs": [],
   "source": [
    "# Создаем цветовую карту для категорий\n",
    "category_colors = {\n",
    "    'кафе': 'blue',\n",
    "    'кофейня': 'green',\n",
    "    'пиццерия': 'purple',\n",
    "    'булочная': 'orange',\n",
    "    'ресторан': 'yellow',\n",
    "    'быстрое питание': 'red',\n",
    "}\n",
    "\n",
    "# Сортируем DataFrame по среднему рейтингу\n",
    "top_chains_sorted = top_chains.sort_values(by='average_rating', ascending=False)\n",
    "\n",
    "# Создаем диаграмму для анализа среднего рейтинга\n",
    "plt.figure(figsize=(16, 8))\n",
    "sns.barplot(x='average_rating', y='name_s', data=top_chains_sorted, \n",
    "            palette=[category_colors[cat] for cat in top_chains_sorted['category_s']])\n",
    "plt.xlabel('Средний рейтинг')\n",
    "plt.ylabel('Сети')\n",
    "plt.title('Средний рейтинг сетей')\n",
    "plt.legend(handles=[plt.Rectangle((0,0),1,1, color=color) for color in category_colors.values()],\n",
    "           labels=category_colors.keys())\n",
    "plt.show()\n"
   ]
  },
  {
   "cell_type": "markdown",
   "id": "85a90a94",
   "metadata": {
    "id": "85a90a94"
   },
   "source": [
    "---\n",
    "\n",
    "### Задача 8\n",
    "\n",
    "Изучим вариацию среднего чека заведения (столбец `middle_avg_bill`) в зависимости от района Москвы. Проанализируем цены в Центральном административном округе и других. Как удалённость от центра влияет на цены в заведениях?\n"
   ]
  },
  {
   "cell_type": "code",
   "execution_count": null,
   "id": "5fb4ffc6",
   "metadata": {
    "id": "5fb4ffc6"
   },
   "outputs": [],
   "source": [
    "# Создаём контейнер графика\n",
    "plt.figure(figsize=(10, 4))\n",
    "\n",
    "# Строим линейный график\n",
    "plt.plot(df_l['middle_avg_bill'],\n",
    "         df_l['district'],\n",
    "         marker='o', # Задаём стиль маркера\n",
    "         linestyle='', # Делаем линии между точками невидимыми\n",
    "         alpha=0.7)\n",
    "\n",
    "# Добавляем заголовок и метки осей\n",
    "plt.title('Взаимосвязь между средним чеком и районом Москвы')\n",
    "plt.xlabel('Средний чек')\n",
    "plt.ylabel('Район')\n",
    "plt.grid()\n",
    "\n",
    "\n",
    "# Отображаем график\n",
    "plt.show()"
   ]
  },
  {
   "cell_type": "markdown",
   "id": "116743e5",
   "metadata": {
    "id": "b98066c1"
   },
   "source": [
    "По данной визуализации можно заметить, что в центральном округе средний чек выше, чем в других. После центрального округа идут северный, северо-восточный и западный. Есть единичные выбросы с высокими чеками, что может говорить о наличии дорогого ресторана в округе или выбросе в данных."
   ]
  },
  {
   "cell_type": "markdown",
   "id": "480f3422",
   "metadata": {
    "id": "480f3422"
   },
   "source": [
    "## 4. Итоговый вывод и рекомендации"
   ]
  },
  {
   "cell_type": "markdown",
   "id": "66037034",
   "metadata": {},
   "source": [
    "В данной работе было произведено знакомство с данными, проверка и очистка данных от пропусков и дубликатов. При предобработке данных данные не были удалены. Датафреймы были объединены для удобства работы с данными<br>\n",
    "Далее был произведен исследовательский анализ, подкрепленный визуализациями, по поставленным задачам проекта."
   ]
  },
  {
   "cell_type": "markdown",
   "id": "c75c5e68",
   "metadata": {},
   "source": [
    "#### В процессе исследовательского анализа было выявлено: \n",
    "- меньшую часть от заведений Москвы занимают булочные и столовые(менее 500 заведений), а большую кафе, рестораны и кофейни. Кафе и ресторанов более 2000, кофеен чуть меньше 1500\n",
    "- в центральном административном округе находится большая часть заведений(более 2000) - количество заведений в данном районе превышает количество в других более чем в два раза(в остальных значения колеблются примерно от 700 до 900). В остальных дистриктах значения распредедлены равномерно. Меньше всего заведений в северо-западном округе(чуть менее 500). В центральном округе преобладают кафе, кофейни и рестораны\n",
    "- несетевых заведений в 1,5-1,7 раз больше, чем несетевых. Однако в категориях булочных, кофеен и пиццерий количество сетевых превышает количество несетевых\n",
    "- больше всего посадочных мест приходится на бары, рестораны, кофейни и столовые(70-80). Меньше всего посадочных мест требуется в булочных и пиццериях(~50)\n",
    "- средний рейтинг по всем категориям заведений выше 4, но не доходит до 4,5. Здесь в целом значения по всем категориям приблизительно одинаковые. Самый низкий рейтинг имеет категория быстрого питания, а самый высокий - бары и пабы\n",
    "- в целом на рейтинг не влиют показатели количества мест, сетевое заведение или нет и прочие признаки. Однако заметна корреляция между ценовой категорией и рейтингом - чем ниже ценовая категория, тем больше встречается негативных отзывов\n",
    "- в анализе 15-ти самых популярных заведений не найдено достаточных оснований, чтобы судить о рейтинге в разрезе категорий или количества точек сети\n",
    "- в центральном округе средний чек выше, чем в других. После центрального округа идут северный, северо-восточный и западный"
   ]
  },
  {
   "cell_type": "markdown",
   "id": "ac9ab64c",
   "metadata": {},
   "source": [
    "#### Рекомендации\n",
    "- ниша кофеен, ресторанов и кафе достаточно заполнена, чтобы с легкостью туда войти, особенно если это касается центрального административного округа\n",
    "- также ниша пиццерий, булочных и кофеен занята сетевыми гигантами, будет достаточно сложно пробиться в нее локальным заведением\n",
    "- если есть ограничения по количеству посадочных мест, можно задуматься об открытии булочной или пиццерии, однако, достаточно баров и кофеен в Москве имеет малое количество посадочных мест. Думаю, что выбор категории не должен отталкиваться от количества посадочных мест\n",
    "- если есть желание иметь заведение с достаточно высоким рейтингом, не стоит выбирать для открытия заведение с низкой ценовой категорией\n",
    "- бары и пабы имеют самый высокий показатель рейтинга среди категорий и малое количество точек в Москве. Возможно открыть бар или паб неплохая идея"
   ]
  }
 ],
 "metadata": {
  "ExecuteTimeLog": [
   {
    "duration": 5024,
    "start_time": "2025-05-01T23:38:04.001Z"
   },
   {
    "duration": 87,
    "start_time": "2025-05-01T23:42:08.561Z"
   },
   {
    "duration": 17,
    "start_time": "2025-05-01T23:51:09.438Z"
   },
   {
    "duration": 18,
    "start_time": "2025-05-01T23:51:17.081Z"
   },
   {
    "duration": 12,
    "start_time": "2025-05-01T23:51:21.017Z"
   },
   {
    "duration": 15,
    "start_time": "2025-05-01T23:51:24.343Z"
   },
   {
    "duration": 64,
    "start_time": "2025-05-02T17:06:30.269Z"
   },
   {
    "duration": 5429,
    "start_time": "2025-05-02T17:07:40.035Z"
   },
   {
    "duration": 293,
    "start_time": "2025-05-02T17:07:45.467Z"
   },
   {
    "duration": 18,
    "start_time": "2025-05-02T17:07:45.762Z"
   },
   {
    "duration": 17,
    "start_time": "2025-05-02T17:07:55.515Z"
   },
   {
    "duration": 11,
    "start_time": "2025-05-02T17:07:58.593Z"
   },
   {
    "duration": 11,
    "start_time": "2025-05-02T17:08:00.794Z"
   },
   {
    "duration": 13,
    "start_time": "2025-05-02T17:08:04.017Z"
   },
   {
    "duration": 35,
    "start_time": "2025-05-02T17:09:18.800Z"
   },
   {
    "duration": 34,
    "start_time": "2025-05-02T17:10:49.835Z"
   },
   {
    "duration": 5,
    "start_time": "2025-05-02T17:28:56.813Z"
   },
   {
    "duration": 4,
    "start_time": "2025-05-02T17:32:47.495Z"
   },
   {
    "duration": 4,
    "start_time": "2025-05-02T17:33:02.832Z"
   },
   {
    "duration": 3,
    "start_time": "2025-05-02T17:34:32.185Z"
   },
   {
    "duration": 4,
    "start_time": "2025-05-02T17:36:48.948Z"
   },
   {
    "duration": 5,
    "start_time": "2025-05-02T17:36:56.027Z"
   },
   {
    "duration": 4,
    "start_time": "2025-05-02T17:36:58.905Z"
   },
   {
    "duration": 5,
    "start_time": "2025-05-02T17:40:27.674Z"
   },
   {
    "duration": 7,
    "start_time": "2025-05-02T17:46:23.641Z"
   },
   {
    "duration": 8,
    "start_time": "2025-05-02T17:46:24.995Z"
   },
   {
    "duration": 24,
    "start_time": "2025-05-02T17:46:57.659Z"
   },
   {
    "duration": 10,
    "start_time": "2025-05-02T18:03:27.074Z"
   },
   {
    "duration": 18,
    "start_time": "2025-05-02T18:07:19.895Z"
   },
   {
    "duration": 11,
    "start_time": "2025-05-02T18:07:34.395Z"
   },
   {
    "duration": 11,
    "start_time": "2025-05-02T18:07:40.027Z"
   },
   {
    "duration": 2721,
    "start_time": "2025-05-02T18:10:22.837Z"
   },
   {
    "duration": 105,
    "start_time": "2025-05-02T18:10:25.560Z"
   },
   {
    "duration": 15,
    "start_time": "2025-05-02T18:10:27.375Z"
   },
   {
    "duration": 12,
    "start_time": "2025-05-02T18:10:30.636Z"
   },
   {
    "duration": 14,
    "start_time": "2025-05-02T18:10:32.858Z"
   },
   {
    "duration": 18,
    "start_time": "2025-05-02T18:10:34.665Z"
   },
   {
    "duration": 42,
    "start_time": "2025-05-02T18:10:36.151Z"
   },
   {
    "duration": 4,
    "start_time": "2025-05-02T18:10:49.086Z"
   },
   {
    "duration": 5,
    "start_time": "2025-05-02T18:10:49.917Z"
   },
   {
    "duration": 4,
    "start_time": "2025-05-02T18:10:54.252Z"
   },
   {
    "duration": 5,
    "start_time": "2025-05-02T18:10:55.775Z"
   },
   {
    "duration": 8,
    "start_time": "2025-05-02T18:12:29.236Z"
   },
   {
    "duration": 19,
    "start_time": "2025-05-02T18:12:39.350Z"
   },
   {
    "duration": 7,
    "start_time": "2025-05-02T18:14:04.502Z"
   },
   {
    "duration": 2729,
    "start_time": "2025-05-02T18:14:23.884Z"
   },
   {
    "duration": 87,
    "start_time": "2025-05-02T18:14:26.616Z"
   },
   {
    "duration": 15,
    "start_time": "2025-05-02T18:14:26.705Z"
   },
   {
    "duration": 17,
    "start_time": "2025-05-02T18:14:27.165Z"
   },
   {
    "duration": 12,
    "start_time": "2025-05-02T18:14:29.340Z"
   },
   {
    "duration": 10,
    "start_time": "2025-05-02T18:14:31.488Z"
   },
   {
    "duration": 46,
    "start_time": "2025-05-02T18:14:33.534Z"
   },
   {
    "duration": 6,
    "start_time": "2025-05-02T18:14:43.857Z"
   },
   {
    "duration": 5,
    "start_time": "2025-05-02T18:14:44.603Z"
   },
   {
    "duration": 4,
    "start_time": "2025-05-02T18:14:48.328Z"
   },
   {
    "duration": 5,
    "start_time": "2025-05-02T18:14:49.835Z"
   },
   {
    "duration": 5,
    "start_time": "2025-05-02T18:14:54.052Z"
   },
   {
    "duration": 5,
    "start_time": "2025-05-02T18:14:59.230Z"
   },
   {
    "duration": 5,
    "start_time": "2025-05-02T18:18:32.705Z"
   },
   {
    "duration": 15,
    "start_time": "2025-05-02T18:18:34.326Z"
   },
   {
    "duration": 11,
    "start_time": "2025-05-02T18:18:50.769Z"
   },
   {
    "duration": 12,
    "start_time": "2025-05-02T18:18:53.773Z"
   },
   {
    "duration": 104,
    "start_time": "2025-05-02T18:51:29.235Z"
   },
   {
    "duration": 6,
    "start_time": "2025-05-02T18:52:04.720Z"
   },
   {
    "duration": 16,
    "start_time": "2025-05-02T18:52:14.115Z"
   },
   {
    "duration": 6,
    "start_time": "2025-05-02T18:53:01.239Z"
   },
   {
    "duration": 6,
    "start_time": "2025-05-02T18:53:11.336Z"
   },
   {
    "duration": 6,
    "start_time": "2025-05-02T18:53:26.837Z"
   },
   {
    "duration": 14,
    "start_time": "2025-05-02T18:53:31.254Z"
   },
   {
    "duration": 17,
    "start_time": "2025-05-02T18:54:06.393Z"
   },
   {
    "duration": 19,
    "start_time": "2025-05-02T18:55:27.955Z"
   },
   {
    "duration": 5201,
    "start_time": "2025-05-03T06:42:00.802Z"
   },
   {
    "duration": 97,
    "start_time": "2025-05-03T06:42:10.808Z"
   },
   {
    "duration": 15,
    "start_time": "2025-05-03T06:42:11.340Z"
   },
   {
    "duration": 19,
    "start_time": "2025-05-03T06:42:21.018Z"
   },
   {
    "duration": 12,
    "start_time": "2025-05-03T06:42:23.241Z"
   },
   {
    "duration": 11,
    "start_time": "2025-05-03T06:44:12.033Z"
   },
   {
    "duration": 34,
    "start_time": "2025-05-03T06:44:14.007Z"
   },
   {
    "duration": 4,
    "start_time": "2025-05-03T06:44:30.167Z"
   },
   {
    "duration": 5,
    "start_time": "2025-05-03T06:44:33.794Z"
   },
   {
    "duration": 4,
    "start_time": "2025-05-03T06:44:37.597Z"
   },
   {
    "duration": 6,
    "start_time": "2025-05-03T06:44:38.238Z"
   },
   {
    "duration": 5,
    "start_time": "2025-05-03T06:44:38.878Z"
   },
   {
    "duration": 17,
    "start_time": "2025-05-03T06:44:39.998Z"
   },
   {
    "duration": 11,
    "start_time": "2025-05-03T06:45:39.116Z"
   },
   {
    "duration": 13,
    "start_time": "2025-05-03T06:45:52.462Z"
   },
   {
    "duration": 19,
    "start_time": "2025-05-03T06:46:04.814Z"
   },
   {
    "duration": 111,
    "start_time": "2025-05-03T07:07:16.302Z"
   },
   {
    "duration": 21,
    "start_time": "2025-05-03T07:07:23.556Z"
   },
   {
    "duration": 13,
    "start_time": "2025-05-03T07:08:38.835Z"
   },
   {
    "duration": 18,
    "start_time": "2025-05-03T07:13:12.917Z"
   },
   {
    "duration": 7,
    "start_time": "2025-05-03T07:18:33.522Z"
   },
   {
    "duration": 48,
    "start_time": "2025-05-03T21:44:04.568Z"
   },
   {
    "duration": 4736,
    "start_time": "2025-05-03T21:44:24.212Z"
   },
   {
    "duration": 92,
    "start_time": "2025-05-03T21:44:28.950Z"
   },
   {
    "duration": 16,
    "start_time": "2025-05-03T21:44:29.043Z"
   },
   {
    "duration": 25,
    "start_time": "2025-05-03T21:44:29.159Z"
   },
   {
    "duration": 11,
    "start_time": "2025-05-03T21:44:30.937Z"
   },
   {
    "duration": 10,
    "start_time": "2025-05-03T21:44:31.238Z"
   },
   {
    "duration": 42,
    "start_time": "2025-05-03T21:44:31.559Z"
   },
   {
    "duration": 4,
    "start_time": "2025-05-03T21:44:32.143Z"
   },
   {
    "duration": 4,
    "start_time": "2025-05-03T21:44:32.280Z"
   },
   {
    "duration": 4,
    "start_time": "2025-05-03T21:44:32.549Z"
   },
   {
    "duration": 6,
    "start_time": "2025-05-03T21:44:32.772Z"
   },
   {
    "duration": 5,
    "start_time": "2025-05-03T21:44:33.573Z"
   },
   {
    "duration": 14,
    "start_time": "2025-05-03T21:44:33.735Z"
   },
   {
    "duration": 10,
    "start_time": "2025-05-03T21:44:34.246Z"
   },
   {
    "duration": 13,
    "start_time": "2025-05-03T21:44:34.452Z"
   },
   {
    "duration": 25,
    "start_time": "2025-05-03T21:44:35.957Z"
   },
   {
    "duration": 17,
    "start_time": "2025-05-03T21:44:37.165Z"
   },
   {
    "duration": 6,
    "start_time": "2025-05-03T21:44:37.316Z"
   },
   {
    "duration": 15,
    "start_time": "2025-05-03T21:44:38.384Z"
   },
   {
    "duration": 13,
    "start_time": "2025-05-03T21:44:45.960Z"
   },
   {
    "duration": 15,
    "start_time": "2025-05-03T21:44:53.902Z"
   },
   {
    "duration": 14,
    "start_time": "2025-05-03T21:45:07.224Z"
   },
   {
    "duration": 13,
    "start_time": "2025-05-03T21:45:16.735Z"
   },
   {
    "duration": 2479,
    "start_time": "2025-05-03T22:16:15.947Z"
   },
   {
    "duration": 81,
    "start_time": "2025-05-03T22:16:18.428Z"
   },
   {
    "duration": 14,
    "start_time": "2025-05-03T22:16:18.511Z"
   },
   {
    "duration": 11,
    "start_time": "2025-05-03T22:16:24.019Z"
   },
   {
    "duration": 11,
    "start_time": "2025-05-03T22:16:25.420Z"
   },
   {
    "duration": 9,
    "start_time": "2025-05-03T22:16:26.725Z"
   },
   {
    "duration": 32,
    "start_time": "2025-05-03T22:16:28.392Z"
   },
   {
    "duration": 4,
    "start_time": "2025-05-03T22:16:32.843Z"
   },
   {
    "duration": 4,
    "start_time": "2025-05-03T22:16:33.684Z"
   },
   {
    "duration": 3,
    "start_time": "2025-05-03T22:16:34.895Z"
   },
   {
    "duration": 5,
    "start_time": "2025-05-03T22:16:35.428Z"
   },
   {
    "duration": 4,
    "start_time": "2025-05-03T22:16:36.095Z"
   },
   {
    "duration": 15,
    "start_time": "2025-05-03T22:16:36.674Z"
   },
   {
    "duration": 9,
    "start_time": "2025-05-03T22:16:38.880Z"
   },
   {
    "duration": 13,
    "start_time": "2025-05-03T22:16:39.467Z"
   },
   {
    "duration": 17,
    "start_time": "2025-05-03T22:16:41.199Z"
   },
   {
    "duration": 11,
    "start_time": "2025-05-03T22:16:50.676Z"
   },
   {
    "duration": 11,
    "start_time": "2025-05-03T22:16:56.666Z"
   },
   {
    "duration": 5,
    "start_time": "2025-05-03T22:20:10.578Z"
   },
   {
    "duration": 5,
    "start_time": "2025-05-03T22:25:15.871Z"
   },
   {
    "duration": 34,
    "start_time": "2025-05-03T22:25:48.065Z"
   },
   {
    "duration": 131,
    "start_time": "2025-05-03T22:30:34.614Z"
   },
   {
    "duration": 4800,
    "start_time": "2025-05-23T11:25:14.097Z"
   },
   {
    "duration": 99,
    "start_time": "2025-05-23T11:25:26.271Z"
   },
   {
    "duration": 16,
    "start_time": "2025-05-23T11:25:29.450Z"
   },
   {
    "duration": 18,
    "start_time": "2025-05-23T11:25:33.145Z"
   },
   {
    "duration": 12,
    "start_time": "2025-05-23T11:25:42.607Z"
   },
   {
    "duration": 10,
    "start_time": "2025-05-23T11:25:46.453Z"
   },
   {
    "duration": 38,
    "start_time": "2025-05-23T11:27:26.278Z"
   },
   {
    "duration": 6,
    "start_time": "2025-05-23T11:29:50.389Z"
   },
   {
    "duration": 4,
    "start_time": "2025-05-23T11:29:55.555Z"
   },
   {
    "duration": 5,
    "start_time": "2025-05-23T11:30:09.496Z"
   },
   {
    "duration": 6,
    "start_time": "2025-05-23T11:30:13.551Z"
   },
   {
    "duration": 5,
    "start_time": "2025-05-23T11:31:05.561Z"
   },
   {
    "duration": 22,
    "start_time": "2025-05-23T11:31:06.428Z"
   },
   {
    "duration": 9,
    "start_time": "2025-05-23T11:31:17.130Z"
   },
   {
    "duration": 13,
    "start_time": "2025-05-23T11:31:36.846Z"
   },
   {
    "duration": 19,
    "start_time": "2025-05-23T11:34:52.427Z"
   },
   {
    "duration": 13,
    "start_time": "2025-05-23T11:36:35.090Z"
   },
   {
    "duration": 9,
    "start_time": "2025-05-23T11:37:40.708Z"
   },
   {
    "duration": 110,
    "start_time": "2025-05-23T11:47:28.515Z"
   },
   {
    "duration": 87,
    "start_time": "2025-05-23T11:49:44.781Z"
   },
   {
    "duration": 103,
    "start_time": "2025-05-23T11:50:10.306Z"
   },
   {
    "duration": 3764,
    "start_time": "2025-05-23T11:51:55.655Z"
   },
   {
    "duration": 148,
    "start_time": "2025-05-23T11:52:09.826Z"
   },
   {
    "duration": 77,
    "start_time": "2025-05-23T11:52:29.292Z"
   },
   {
    "duration": 1244,
    "start_time": "2025-05-23T11:53:05.598Z"
   },
   {
    "duration": 80,
    "start_time": "2025-05-23T11:53:27.982Z"
   },
   {
    "duration": 1170,
    "start_time": "2025-05-23T11:53:47.227Z"
   },
   {
    "duration": 5319,
    "start_time": "2025-05-23T11:53:54.748Z"
   },
   {
    "duration": 88,
    "start_time": "2025-05-23T11:54:34.292Z"
   },
   {
    "duration": 3788,
    "start_time": "2025-05-23T11:56:08.107Z"
   },
   {
    "duration": 3186,
    "start_time": "2025-05-23T12:02:15.046Z"
   },
   {
    "duration": 107,
    "start_time": "2025-05-23T12:02:18.235Z"
   },
   {
    "duration": 17,
    "start_time": "2025-05-23T12:02:39.191Z"
   },
   {
    "duration": 17,
    "start_time": "2025-05-23T12:02:42.848Z"
   },
   {
    "duration": 12,
    "start_time": "2025-05-23T12:02:44.096Z"
   },
   {
    "duration": 10,
    "start_time": "2025-05-23T12:02:44.440Z"
   },
   {
    "duration": 36,
    "start_time": "2025-05-23T12:02:44.758Z"
   },
   {
    "duration": 5,
    "start_time": "2025-05-23T12:02:45.373Z"
   },
   {
    "duration": 4,
    "start_time": "2025-05-23T12:02:45.594Z"
   },
   {
    "duration": 4,
    "start_time": "2025-05-23T12:02:46.428Z"
   },
   {
    "duration": 6,
    "start_time": "2025-05-23T12:02:46.583Z"
   },
   {
    "duration": 5,
    "start_time": "2025-05-23T12:02:46.743Z"
   },
   {
    "duration": 16,
    "start_time": "2025-05-23T12:02:46.916Z"
   },
   {
    "duration": 11,
    "start_time": "2025-05-23T12:02:47.496Z"
   },
   {
    "duration": 12,
    "start_time": "2025-05-23T12:02:47.980Z"
   },
   {
    "duration": 18,
    "start_time": "2025-05-23T12:02:49.834Z"
   },
   {
    "duration": 13,
    "start_time": "2025-05-23T12:02:53.385Z"
   },
   {
    "duration": 8,
    "start_time": "2025-05-23T12:02:54.091Z"
   },
   {
    "duration": 3637,
    "start_time": "2025-05-23T12:02:55.071Z"
   },
   {
    "duration": 3607,
    "start_time": "2025-05-23T12:03:06.821Z"
   },
   {
    "duration": 109,
    "start_time": "2025-05-23T12:03:17.891Z"
   },
   {
    "duration": 75,
    "start_time": "2025-05-23T12:03:32.776Z"
   },
   {
    "duration": 3660,
    "start_time": "2025-05-23T12:03:37.353Z"
   },
   {
    "duration": 15,
    "start_time": "2025-05-23T12:03:42.413Z"
   },
   {
    "duration": 3650,
    "start_time": "2025-05-23T12:04:18.987Z"
   },
   {
    "duration": 1902,
    "start_time": "2025-05-23T12:04:22.640Z"
   },
   {
    "duration": 16,
    "start_time": "2025-05-23T12:04:27.341Z"
   },
   {
    "duration": 1900,
    "start_time": "2025-05-23T12:04:50.212Z"
   },
   {
    "duration": 86,
    "start_time": "2025-05-23T12:04:54.350Z"
   },
   {
    "duration": 18,
    "start_time": "2025-05-23T12:04:55.404Z"
   },
   {
    "duration": 14,
    "start_time": "2025-05-23T12:04:55.828Z"
   },
   {
    "duration": 12,
    "start_time": "2025-05-23T12:04:56.197Z"
   },
   {
    "duration": 10,
    "start_time": "2025-05-23T12:04:56.572Z"
   },
   {
    "duration": 40,
    "start_time": "2025-05-23T12:04:56.872Z"
   },
   {
    "duration": 5,
    "start_time": "2025-05-23T12:04:57.568Z"
   },
   {
    "duration": 5,
    "start_time": "2025-05-23T12:04:57.750Z"
   },
   {
    "duration": 4,
    "start_time": "2025-05-23T12:04:58.095Z"
   },
   {
    "duration": 6,
    "start_time": "2025-05-23T12:04:58.285Z"
   },
   {
    "duration": 5,
    "start_time": "2025-05-23T12:04:58.486Z"
   },
   {
    "duration": 17,
    "start_time": "2025-05-23T12:04:58.652Z"
   },
   {
    "duration": 10,
    "start_time": "2025-05-23T12:04:59.279Z"
   },
   {
    "duration": 9,
    "start_time": "2025-05-23T12:04:59.481Z"
   },
   {
    "duration": 19,
    "start_time": "2025-05-23T12:05:01.079Z"
   },
   {
    "duration": 14,
    "start_time": "2025-05-23T12:05:04.537Z"
   },
   {
    "duration": 7,
    "start_time": "2025-05-23T12:05:05.272Z"
   },
   {
    "duration": 3675,
    "start_time": "2025-05-23T12:05:07.760Z"
   },
   {
    "duration": 1935,
    "start_time": "2025-05-23T12:05:11.546Z"
   },
   {
    "duration": 14,
    "start_time": "2025-05-23T12:05:16.915Z"
   },
   {
    "duration": 1121,
    "start_time": "2025-05-23T12:05:29.856Z"
   },
   {
    "duration": 2114,
    "start_time": "2025-05-23T12:05:49.455Z"
   },
   {
    "duration": 1916,
    "start_time": "2025-05-23T12:05:54.124Z"
   },
   {
    "duration": 3313,
    "start_time": "2025-05-23T12:08:43.942Z"
   },
   {
    "duration": 87,
    "start_time": "2025-05-23T12:08:48.346Z"
   },
   {
    "duration": 16,
    "start_time": "2025-05-23T12:08:48.936Z"
   },
   {
    "duration": 18,
    "start_time": "2025-05-23T12:08:49.273Z"
   },
   {
    "duration": 11,
    "start_time": "2025-05-23T12:08:49.617Z"
   },
   {
    "duration": 11,
    "start_time": "2025-05-23T12:08:49.964Z"
   },
   {
    "duration": 35,
    "start_time": "2025-05-23T12:08:50.291Z"
   },
   {
    "duration": 5,
    "start_time": "2025-05-23T12:08:50.989Z"
   },
   {
    "duration": 4,
    "start_time": "2025-05-23T12:08:51.140Z"
   },
   {
    "duration": 4,
    "start_time": "2025-05-23T12:08:51.505Z"
   },
   {
    "duration": 5,
    "start_time": "2025-05-23T12:08:51.686Z"
   },
   {
    "duration": 4,
    "start_time": "2025-05-23T12:08:51.864Z"
   },
   {
    "duration": 17,
    "start_time": "2025-05-23T12:08:52.029Z"
   },
   {
    "duration": 11,
    "start_time": "2025-05-23T12:08:52.608Z"
   },
   {
    "duration": 12,
    "start_time": "2025-05-23T12:08:52.809Z"
   },
   {
    "duration": 19,
    "start_time": "2025-05-23T12:08:53.244Z"
   },
   {
    "duration": 13,
    "start_time": "2025-05-23T12:08:55.810Z"
   },
   {
    "duration": 10,
    "start_time": "2025-05-23T12:08:56.715Z"
   },
   {
    "duration": 3758,
    "start_time": "2025-05-23T12:08:57.835Z"
   },
   {
    "duration": 1929,
    "start_time": "2025-05-23T12:09:01.596Z"
   },
   {
    "duration": 1097,
    "start_time": "2025-05-23T12:09:03.531Z"
   },
   {
    "duration": 2168,
    "start_time": "2025-05-23T12:09:05.664Z"
   },
   {
    "duration": 1934,
    "start_time": "2025-05-23T12:09:07.835Z"
   },
   {
    "duration": 3097,
    "start_time": "2025-05-23T12:10:16.180Z"
   },
   {
    "duration": 89,
    "start_time": "2025-05-23T12:10:19.674Z"
   },
   {
    "duration": 18,
    "start_time": "2025-05-23T12:10:21.162Z"
   },
   {
    "duration": 18,
    "start_time": "2025-05-23T12:10:28.404Z"
   },
   {
    "duration": 12,
    "start_time": "2025-05-23T12:10:29.985Z"
   },
   {
    "duration": 10,
    "start_time": "2025-05-23T12:10:30.377Z"
   },
   {
    "duration": 37,
    "start_time": "2025-05-23T12:10:30.798Z"
   },
   {
    "duration": 6,
    "start_time": "2025-05-23T12:10:31.762Z"
   },
   {
    "duration": 4,
    "start_time": "2025-05-23T12:10:31.951Z"
   },
   {
    "duration": 5,
    "start_time": "2025-05-23T12:10:32.341Z"
   },
   {
    "duration": 6,
    "start_time": "2025-05-23T12:10:32.966Z"
   },
   {
    "duration": 16,
    "start_time": "2025-05-23T12:10:32.973Z"
   },
   {
    "duration": 50,
    "start_time": "2025-05-23T12:10:32.991Z"
   },
   {
    "duration": 10,
    "start_time": "2025-05-23T12:10:33.506Z"
   },
   {
    "duration": 13,
    "start_time": "2025-05-23T12:10:33.720Z"
   },
   {
    "duration": 21,
    "start_time": "2025-05-23T12:10:34.069Z"
   },
   {
    "duration": 14,
    "start_time": "2025-05-23T12:10:34.943Z"
   },
   {
    "duration": 7,
    "start_time": "2025-05-23T12:10:35.421Z"
   },
   {
    "duration": 3685,
    "start_time": "2025-05-23T12:10:35.610Z"
   },
   {
    "duration": 1896,
    "start_time": "2025-05-23T12:10:39.298Z"
   },
   {
    "duration": 1922,
    "start_time": "2025-05-23T12:11:16.120Z"
   },
   {
    "duration": 1092,
    "start_time": "2025-05-23T12:11:18.424Z"
   },
   {
    "duration": 2162,
    "start_time": "2025-05-23T12:11:20.458Z"
   },
   {
    "duration": 1904,
    "start_time": "2025-05-23T12:11:22.622Z"
   },
   {
    "duration": 3262,
    "start_time": "2025-05-23T12:12:30.091Z"
   },
   {
    "duration": 96,
    "start_time": "2025-05-23T12:12:33.356Z"
   },
   {
    "duration": 16,
    "start_time": "2025-05-23T12:12:34.232Z"
   },
   {
    "duration": 19,
    "start_time": "2025-05-23T12:12:34.578Z"
   },
   {
    "duration": 12,
    "start_time": "2025-05-23T12:12:34.888Z"
   },
   {
    "duration": 12,
    "start_time": "2025-05-23T12:12:35.203Z"
   },
   {
    "duration": 38,
    "start_time": "2025-05-23T12:12:35.509Z"
   },
   {
    "duration": 5,
    "start_time": "2025-05-23T12:12:36.165Z"
   },
   {
    "duration": 4,
    "start_time": "2025-05-23T12:12:36.330Z"
   },
   {
    "duration": 4,
    "start_time": "2025-05-23T12:12:36.891Z"
   },
   {
    "duration": 5,
    "start_time": "2025-05-23T12:12:37.054Z"
   },
   {
    "duration": 6,
    "start_time": "2025-05-23T12:12:37.212Z"
   },
   {
    "duration": 17,
    "start_time": "2025-05-23T12:12:37.385Z"
   },
   {
    "duration": 10,
    "start_time": "2025-05-23T12:12:37.874Z"
   },
   {
    "duration": 14,
    "start_time": "2025-05-23T12:12:38.054Z"
   },
   {
    "duration": 19,
    "start_time": "2025-05-23T12:12:38.384Z"
   },
   {
    "duration": 12,
    "start_time": "2025-05-23T12:12:40.486Z"
   },
   {
    "duration": 8,
    "start_time": "2025-05-23T12:12:41.128Z"
   },
   {
    "duration": 3616,
    "start_time": "2025-05-23T12:12:41.996Z"
   },
   {
    "duration": 1937,
    "start_time": "2025-05-23T12:12:45.615Z"
   },
   {
    "duration": 2127,
    "start_time": "2025-05-23T12:13:27.128Z"
   },
   {
    "duration": 83,
    "start_time": "2025-05-23T12:13:52.734Z"
   },
   {
    "duration": 3217,
    "start_time": "2025-05-23T12:17:58.560Z"
   },
   {
    "duration": 96,
    "start_time": "2025-05-23T12:18:03.099Z"
   },
   {
    "duration": 17,
    "start_time": "2025-05-23T12:18:03.268Z"
   },
   {
    "duration": 17,
    "start_time": "2025-05-23T12:18:03.600Z"
   },
   {
    "duration": 13,
    "start_time": "2025-05-23T12:18:03.956Z"
   },
   {
    "duration": 9,
    "start_time": "2025-05-23T12:18:04.301Z"
   },
   {
    "duration": 34,
    "start_time": "2025-05-23T12:18:04.669Z"
   },
   {
    "duration": 6,
    "start_time": "2025-05-23T12:18:05.350Z"
   },
   {
    "duration": 5,
    "start_time": "2025-05-23T12:18:05.537Z"
   },
   {
    "duration": 4,
    "start_time": "2025-05-23T12:18:05.952Z"
   },
   {
    "duration": 6,
    "start_time": "2025-05-23T12:18:06.359Z"
   },
   {
    "duration": 5,
    "start_time": "2025-05-23T12:18:06.575Z"
   },
   {
    "duration": 18,
    "start_time": "2025-05-23T12:18:07.005Z"
   },
   {
    "duration": 13,
    "start_time": "2025-05-23T12:18:07.508Z"
   },
   {
    "duration": 13,
    "start_time": "2025-05-23T12:18:07.729Z"
   },
   {
    "duration": 18,
    "start_time": "2025-05-23T12:18:09.553Z"
   },
   {
    "duration": 14,
    "start_time": "2025-05-23T12:18:12.301Z"
   },
   {
    "duration": 7,
    "start_time": "2025-05-23T12:18:13.058Z"
   },
   {
    "duration": 9,
    "start_time": "2025-05-23T12:18:26.697Z"
   },
   {
    "duration": 8,
    "start_time": "2025-05-23T12:18:44.173Z"
   },
   {
    "duration": 8,
    "start_time": "2025-05-23T12:18:52.778Z"
   },
   {
    "duration": 9,
    "start_time": "2025-05-23T12:19:07.141Z"
   },
   {
    "duration": 9,
    "start_time": "2025-05-23T12:19:41.172Z"
   },
   {
    "duration": 8,
    "start_time": "2025-05-23T12:19:56.754Z"
   },
   {
    "duration": 6,
    "start_time": "2025-05-23T12:20:52.024Z"
   },
   {
    "duration": 1914,
    "start_time": "2025-05-23T12:21:09.054Z"
   },
   {
    "duration": 86,
    "start_time": "2025-05-23T12:21:10.970Z"
   },
   {
    "duration": 16,
    "start_time": "2025-05-23T12:21:11.057Z"
   },
   {
    "duration": 13,
    "start_time": "2025-05-23T12:21:11.757Z"
   },
   {
    "duration": 1924,
    "start_time": "2025-05-23T12:21:21.538Z"
   },
   {
    "duration": 85,
    "start_time": "2025-05-23T12:21:32.992Z"
   },
   {
    "duration": 15,
    "start_time": "2025-05-23T12:21:34.107Z"
   },
   {
    "duration": 14,
    "start_time": "2025-05-23T12:21:34.824Z"
   },
   {
    "duration": 13,
    "start_time": "2025-05-23T12:21:35.195Z"
   },
   {
    "duration": 10,
    "start_time": "2025-05-23T12:21:35.548Z"
   },
   {
    "duration": 35,
    "start_time": "2025-05-23T12:21:35.894Z"
   },
   {
    "duration": 4,
    "start_time": "2025-05-23T12:21:36.586Z"
   },
   {
    "duration": 5,
    "start_time": "2025-05-23T12:21:36.761Z"
   },
   {
    "duration": 4,
    "start_time": "2025-05-23T12:21:37.119Z"
   },
   {
    "duration": 5,
    "start_time": "2025-05-23T12:21:37.265Z"
   },
   {
    "duration": 4,
    "start_time": "2025-05-23T12:21:37.424Z"
   },
   {
    "duration": 18,
    "start_time": "2025-05-23T12:21:37.575Z"
   },
   {
    "duration": 10,
    "start_time": "2025-05-23T12:21:38.061Z"
   },
   {
    "duration": 11,
    "start_time": "2025-05-23T12:21:38.203Z"
   },
   {
    "duration": 18,
    "start_time": "2025-05-23T12:21:38.592Z"
   },
   {
    "duration": 12,
    "start_time": "2025-05-23T12:21:40.884Z"
   },
   {
    "duration": 7,
    "start_time": "2025-05-23T12:21:41.103Z"
   },
   {
    "duration": 148217,
    "start_time": "2025-05-23T12:23:43.673Z"
   },
   {
    "duration": 122051,
    "start_time": "2025-05-23T12:41:00.861Z"
   },
   {
    "duration": 107870,
    "start_time": "2025-05-23T12:48:17.993Z"
   },
   {
    "duration": 73588,
    "start_time": "2025-05-23T12:50:42.131Z"
   },
   {
    "duration": 4,
    "start_time": "2025-05-23T13:00:22.849Z"
   },
   {
    "duration": 20,
    "start_time": "2025-05-23T13:22:55.699Z"
   },
   {
    "duration": 19,
    "start_time": "2025-05-23T13:23:03.106Z"
   },
   {
    "duration": 20,
    "start_time": "2025-05-23T13:23:10.950Z"
   },
   {
    "duration": 75882,
    "start_time": "2025-05-23T13:24:46.382Z"
   },
   {
    "duration": 19,
    "start_time": "2025-05-23T13:31:51.230Z"
   },
   {
    "duration": 77742,
    "start_time": "2025-05-23T13:31:52.797Z"
   },
   {
    "duration": 110209,
    "start_time": "2025-05-23T13:36:18.883Z"
   },
   {
    "duration": 114684,
    "start_time": "2025-05-23T13:43:41.083Z"
   },
   {
    "duration": 12,
    "start_time": "2025-05-23T13:46:28.344Z"
   },
   {
    "duration": 14,
    "start_time": "2025-05-23T13:46:31.181Z"
   },
   {
    "duration": 50,
    "start_time": "2025-05-24T06:08:08.273Z"
   },
   {
    "duration": 4756,
    "start_time": "2025-05-24T06:08:22.341Z"
   },
   {
    "duration": 94,
    "start_time": "2025-05-24T06:08:27.099Z"
   },
   {
    "duration": 16,
    "start_time": "2025-05-24T06:08:27.194Z"
   },
   {
    "duration": 16,
    "start_time": "2025-05-24T06:08:30.157Z"
   },
   {
    "duration": 11,
    "start_time": "2025-05-24T06:08:30.439Z"
   },
   {
    "duration": 10,
    "start_time": "2025-05-24T06:08:30.721Z"
   },
   {
    "duration": 35,
    "start_time": "2025-05-24T06:08:31.004Z"
   },
   {
    "duration": 6,
    "start_time": "2025-05-24T06:08:31.574Z"
   },
   {
    "duration": 283,
    "start_time": "2025-05-24T06:08:31.721Z"
   },
   {
    "duration": 149,
    "start_time": "2025-05-24T06:08:32.017Z"
   },
   {
    "duration": 23,
    "start_time": "2025-05-24T06:08:32.183Z"
   },
   {
    "duration": 4,
    "start_time": "2025-05-24T06:08:32.342Z"
   },
   {
    "duration": 16,
    "start_time": "2025-05-24T06:08:32.506Z"
   },
   {
    "duration": 9,
    "start_time": "2025-05-24T06:08:33.351Z"
   },
   {
    "duration": 150,
    "start_time": "2025-05-24T06:08:33.557Z"
   },
   {
    "duration": 17,
    "start_time": "2025-05-24T06:08:34.906Z"
   },
   {
    "duration": 13,
    "start_time": "2025-05-24T06:08:38.081Z"
   },
   {
    "duration": 7,
    "start_time": "2025-05-24T06:08:38.875Z"
   },
   {
    "duration": 71207,
    "start_time": "2025-05-24T06:08:39.641Z"
   },
   {
    "duration": 21,
    "start_time": "2025-05-24T06:09:50.862Z"
   },
   {
    "duration": 70488,
    "start_time": "2025-05-24T06:09:50.885Z"
   },
   {
    "duration": 96354,
    "start_time": "2025-05-24T06:11:09.239Z"
   },
   {
    "duration": 4869,
    "start_time": "2025-05-27T09:58:17.377Z"
   },
   {
    "duration": 93,
    "start_time": "2025-05-27T09:58:22.251Z"
   },
   {
    "duration": 16,
    "start_time": "2025-05-27T09:58:22.346Z"
   },
   {
    "duration": 17,
    "start_time": "2025-05-27T09:58:32.147Z"
   },
   {
    "duration": 11,
    "start_time": "2025-05-27T09:58:33.488Z"
   },
   {
    "duration": 10,
    "start_time": "2025-05-27T09:58:33.862Z"
   },
   {
    "duration": 35,
    "start_time": "2025-05-27T09:58:34.218Z"
   },
   {
    "duration": 6,
    "start_time": "2025-05-27T09:58:35.288Z"
   },
   {
    "duration": 5,
    "start_time": "2025-05-27T09:58:35.480Z"
   },
   {
    "duration": 4,
    "start_time": "2025-05-27T09:58:35.965Z"
   },
   {
    "duration": 6,
    "start_time": "2025-05-27T09:58:36.453Z"
   },
   {
    "duration": 5,
    "start_time": "2025-05-27T09:58:37.121Z"
   },
   {
    "duration": 16,
    "start_time": "2025-05-27T09:58:37.773Z"
   },
   {
    "duration": 11,
    "start_time": "2025-05-27T09:58:38.584Z"
   },
   {
    "duration": 13,
    "start_time": "2025-05-27T09:58:38.748Z"
   },
   {
    "duration": 19,
    "start_time": "2025-05-27T09:58:39.080Z"
   },
   {
    "duration": 13,
    "start_time": "2025-05-27T09:58:40.870Z"
   },
   {
    "duration": 7,
    "start_time": "2025-05-27T09:58:41.081Z"
   },
   {
    "duration": 71829,
    "start_time": "2025-05-27T09:58:41.287Z"
   },
   {
    "duration": 20,
    "start_time": "2025-05-27T10:00:08.581Z"
   },
   {
    "duration": 70748,
    "start_time": "2025-05-27T10:00:15.158Z"
   },
   {
    "duration": 63,
    "start_time": "2025-05-27T10:01:44.007Z"
   },
   {
    "duration": 96269,
    "start_time": "2025-05-27T10:01:49.507Z"
   },
   {
    "duration": 4318,
    "start_time": "2025-06-05T15:33:47.360Z"
   },
   {
    "duration": 94,
    "start_time": "2025-06-05T15:33:58.928Z"
   },
   {
    "duration": 15,
    "start_time": "2025-06-05T15:34:05.664Z"
   },
   {
    "duration": 2239,
    "start_time": "2025-06-05T15:34:23.836Z"
   },
   {
    "duration": 77,
    "start_time": "2025-06-05T15:34:26.077Z"
   },
   {
    "duration": 13,
    "start_time": "2025-06-05T15:34:26.156Z"
   },
   {
    "duration": 16,
    "start_time": "2025-06-05T15:34:45.103Z"
   },
   {
    "duration": 11,
    "start_time": "2025-06-05T15:34:56.264Z"
   },
   {
    "duration": 8,
    "start_time": "2025-06-05T15:35:01.780Z"
   },
   {
    "duration": 30,
    "start_time": "2025-06-05T15:35:07.888Z"
   },
   {
    "duration": 5,
    "start_time": "2025-06-05T15:36:14.435Z"
   },
   {
    "duration": 4,
    "start_time": "2025-06-05T15:36:54.919Z"
   },
   {
    "duration": 4,
    "start_time": "2025-06-05T15:37:01.974Z"
   },
   {
    "duration": 4,
    "start_time": "2025-06-05T15:37:21.315Z"
   },
   {
    "duration": 4,
    "start_time": "2025-06-05T15:37:23.916Z"
   },
   {
    "duration": 14,
    "start_time": "2025-06-05T15:37:24.814Z"
   },
   {
    "duration": 9,
    "start_time": "2025-06-05T15:37:51.974Z"
   },
   {
    "duration": 12,
    "start_time": "2025-06-05T15:38:14.162Z"
   },
   {
    "duration": 16,
    "start_time": "2025-06-05T15:39:16.814Z"
   },
   {
    "duration": 11,
    "start_time": "2025-06-05T15:42:28.709Z"
   },
   {
    "duration": 6,
    "start_time": "2025-06-05T15:42:34.308Z"
   },
   {
    "duration": 64002,
    "start_time": "2025-06-05T15:42:39.470Z"
   },
   {
    "duration": 20,
    "start_time": "2025-06-05T15:55:55.786Z"
   },
   {
    "duration": 65115,
    "start_time": "2025-06-05T15:55:58.335Z"
   },
   {
    "duration": 88827,
    "start_time": "2025-06-05T15:57:51.258Z"
   },
   {
    "duration": 2414,
    "start_time": "2025-06-05T16:10:03.418Z"
   },
   {
    "duration": 77,
    "start_time": "2025-06-05T16:10:07.510Z"
   },
   {
    "duration": 32,
    "start_time": "2025-06-05T16:10:07.650Z"
   },
   {
    "duration": 11,
    "start_time": "2025-06-05T16:10:08.010Z"
   },
   {
    "duration": 10,
    "start_time": "2025-06-05T16:10:09.026Z"
   },
   {
    "duration": 10,
    "start_time": "2025-06-05T16:10:10.422Z"
   },
   {
    "duration": 33,
    "start_time": "2025-06-05T16:10:11.810Z"
   },
   {
    "duration": 4,
    "start_time": "2025-06-05T16:10:13.725Z"
   },
   {
    "duration": 4,
    "start_time": "2025-06-05T16:10:13.930Z"
   },
   {
    "duration": 4,
    "start_time": "2025-06-05T16:10:17.219Z"
   },
   {
    "duration": 5,
    "start_time": "2025-06-05T16:10:17.383Z"
   },
   {
    "duration": 4,
    "start_time": "2025-06-05T16:10:17.534Z"
   },
   {
    "duration": 14,
    "start_time": "2025-06-05T16:10:17.749Z"
   },
   {
    "duration": 8,
    "start_time": "2025-06-05T16:10:22.842Z"
   },
   {
    "duration": 10,
    "start_time": "2025-06-05T16:10:27.676Z"
   },
   {
    "duration": 15,
    "start_time": "2025-06-05T16:10:31.933Z"
   },
   {
    "duration": 11,
    "start_time": "2025-06-05T16:10:43.727Z"
   },
   {
    "duration": 8,
    "start_time": "2025-06-05T16:10:46.935Z"
   },
   {
    "duration": 64225,
    "start_time": "2025-06-05T16:11:09.414Z"
   },
   {
    "duration": 3,
    "start_time": "2025-06-05T16:15:37.322Z"
   },
   {
    "duration": 19,
    "start_time": "2025-06-05T16:16:43.670Z"
   },
   {
    "duration": 66028,
    "start_time": "2025-06-05T16:17:36.862Z"
   },
   {
    "duration": 90120,
    "start_time": "2025-06-05T16:19:41.809Z"
   },
   {
    "duration": 48,
    "start_time": "2025-06-05T16:21:56.421Z"
   },
   {
    "duration": 89766,
    "start_time": "2025-06-05T16:22:35.065Z"
   },
   {
    "duration": 40,
    "start_time": "2025-06-05T17:29:36.949Z"
   },
   {
    "duration": 2246,
    "start_time": "2025-06-05T17:30:18.344Z"
   },
   {
    "duration": 80,
    "start_time": "2025-06-05T17:30:20.592Z"
   },
   {
    "duration": 15,
    "start_time": "2025-06-05T17:30:20.674Z"
   },
   {
    "duration": 11,
    "start_time": "2025-06-05T17:30:22.557Z"
   },
   {
    "duration": 10,
    "start_time": "2025-06-05T17:30:22.901Z"
   },
   {
    "duration": 9,
    "start_time": "2025-06-05T17:30:23.352Z"
   },
   {
    "duration": 34,
    "start_time": "2025-06-05T17:30:23.783Z"
   },
   {
    "duration": 6,
    "start_time": "2025-06-05T17:30:26.000Z"
   },
   {
    "duration": 2315,
    "start_time": "2025-06-05T17:30:36.192Z"
   },
   {
    "duration": 79,
    "start_time": "2025-06-05T17:30:38.509Z"
   },
   {
    "duration": 13,
    "start_time": "2025-06-05T17:30:53.961Z"
   },
   {
    "duration": 11,
    "start_time": "2025-06-05T17:30:55.158Z"
   },
   {
    "duration": 11,
    "start_time": "2025-06-05T17:30:55.552Z"
   },
   {
    "duration": 9,
    "start_time": "2025-06-05T17:30:59.764Z"
   },
   {
    "duration": 31,
    "start_time": "2025-06-05T17:31:01.100Z"
   },
   {
    "duration": 4,
    "start_time": "2025-06-05T17:31:03.823Z"
   },
   {
    "duration": 4,
    "start_time": "2025-06-05T17:31:04.582Z"
   },
   {
    "duration": 4,
    "start_time": "2025-06-05T17:31:06.207Z"
   },
   {
    "duration": 6,
    "start_time": "2025-06-05T17:31:06.383Z"
   },
   {
    "duration": 5,
    "start_time": "2025-06-05T17:31:06.603Z"
   },
   {
    "duration": 14,
    "start_time": "2025-06-05T17:31:06.803Z"
   },
   {
    "duration": 10,
    "start_time": "2025-06-05T17:31:07.404Z"
   },
   {
    "duration": 14,
    "start_time": "2025-06-05T17:31:08.022Z"
   },
   {
    "duration": 16,
    "start_time": "2025-06-05T17:31:09.825Z"
   },
   {
    "duration": 11,
    "start_time": "2025-06-05T17:31:12.378Z"
   },
   {
    "duration": 7,
    "start_time": "2025-06-05T17:31:13.127Z"
   },
   {
    "duration": 64702,
    "start_time": "2025-06-05T17:31:15.233Z"
   },
   {
    "duration": 8,
    "start_time": "2025-06-05T17:32:44.657Z"
   },
   {
    "duration": 20,
    "start_time": "2025-06-05T17:32:50.477Z"
   },
   {
    "duration": 64092,
    "start_time": "2025-06-05T17:32:53.984Z"
   },
   {
    "duration": 87899,
    "start_time": "2025-06-05T17:35:02.822Z"
   },
   {
    "duration": 44,
    "start_time": "2025-06-05T17:36:39.034Z"
   },
   {
    "duration": 48,
    "start_time": "2025-06-05T17:36:45.817Z"
   },
   {
    "duration": 87488,
    "start_time": "2025-06-05T17:36:51.278Z"
   },
   {
    "duration": 87466,
    "start_time": "2025-06-05T17:46:51.033Z"
   },
   {
    "duration": 73883,
    "start_time": "2025-06-05T17:48:53.209Z"
   },
   {
    "duration": 63,
    "start_time": "2025-06-05T17:58:22.997Z"
   },
   {
    "duration": 73358,
    "start_time": "2025-06-05T17:58:28.617Z"
   },
   {
    "duration": 64,
    "start_time": "2025-06-05T18:03:10.584Z"
   },
   {
    "duration": 73184,
    "start_time": "2025-06-05T18:03:35.615Z"
   },
   {
    "duration": 64,
    "start_time": "2025-06-05T18:06:23.961Z"
   },
   {
    "duration": 73429,
    "start_time": "2025-06-05T18:06:28.461Z"
   },
   {
    "duration": 15,
    "start_time": "2025-06-05T18:12:44.816Z"
   },
   {
    "duration": 5,
    "start_time": "2025-06-05T18:14:08.465Z"
   },
   {
    "duration": 14,
    "start_time": "2025-06-05T18:14:10.013Z"
   },
   {
    "duration": 4,
    "start_time": "2025-06-05T18:14:38.038Z"
   },
   {
    "duration": 25,
    "start_time": "2025-06-05T18:14:40.631Z"
   },
   {
    "duration": 24,
    "start_time": "2025-06-05T18:15:00.608Z"
   },
   {
    "duration": 2306,
    "start_time": "2025-06-05T18:16:57.958Z"
   },
   {
    "duration": 78,
    "start_time": "2025-06-05T18:17:00.266Z"
   },
   {
    "duration": 13,
    "start_time": "2025-06-05T18:17:00.346Z"
   },
   {
    "duration": 195,
    "start_time": "2025-06-05T18:17:00.361Z"
   },
   {
    "duration": 31,
    "start_time": "2025-06-05T18:17:00.558Z"
   },
   {
    "duration": 9,
    "start_time": "2025-06-05T18:17:01.580Z"
   },
   {
    "duration": 33,
    "start_time": "2025-06-05T18:17:01.961Z"
   },
   {
    "duration": 4,
    "start_time": "2025-06-05T18:17:03.263Z"
   },
   {
    "duration": 4,
    "start_time": "2025-06-05T18:17:03.443Z"
   },
   {
    "duration": 4,
    "start_time": "2025-06-05T18:17:03.815Z"
   },
   {
    "duration": 5,
    "start_time": "2025-06-05T18:17:04.041Z"
   },
   {
    "duration": 4,
    "start_time": "2025-06-05T18:17:04.457Z"
   },
   {
    "duration": 21,
    "start_time": "2025-06-05T18:17:04.637Z"
   },
   {
    "duration": 10,
    "start_time": "2025-06-05T18:17:05.251Z"
   },
   {
    "duration": 10,
    "start_time": "2025-06-05T18:17:05.464Z"
   },
   {
    "duration": 15,
    "start_time": "2025-06-05T18:17:06.627Z"
   },
   {
    "duration": 12,
    "start_time": "2025-06-05T18:17:09.175Z"
   },
   {
    "duration": 7,
    "start_time": "2025-06-05T18:17:09.396Z"
   },
   {
    "duration": 64033,
    "start_time": "2025-06-05T18:17:09.639Z"
   },
   {
    "duration": 3,
    "start_time": "2025-06-05T18:18:13.674Z"
   },
   {
    "duration": 19,
    "start_time": "2025-06-05T18:18:13.678Z"
   },
   {
    "duration": 63887,
    "start_time": "2025-06-05T18:18:13.699Z"
   },
   {
    "duration": 73081,
    "start_time": "2025-06-05T18:19:17.588Z"
   },
   {
    "duration": 46,
    "start_time": "2025-06-05T18:20:30.670Z"
   },
   {
    "duration": 73066,
    "start_time": "2025-06-05T18:20:30.717Z"
   },
   {
    "duration": 80,
    "start_time": "2025-06-05T18:21:43.785Z"
   },
   {
    "duration": 74501,
    "start_time": "2025-06-05T18:21:43.867Z"
   },
   {
    "duration": 15,
    "start_time": "2025-06-05T18:22:58.370Z"
   },
   {
    "duration": 78,
    "start_time": "2025-06-05T18:22:58.386Z"
   },
   {
    "duration": 120,
    "start_time": "2025-06-05T18:22:58.465Z"
   },
   {
    "duration": 3,
    "start_time": "2025-06-05T18:23:53.995Z"
   },
   {
    "duration": 4,
    "start_time": "2025-06-05T18:24:05.873Z"
   },
   {
    "duration": 24,
    "start_time": "2025-06-05T18:24:45.166Z"
   },
   {
    "duration": 52,
    "start_time": "2025-06-06T12:18:57.015Z"
   },
   {
    "duration": 4961,
    "start_time": "2025-06-06T12:19:15.018Z"
   },
   {
    "duration": 87,
    "start_time": "2025-06-06T12:19:19.982Z"
   },
   {
    "duration": 16,
    "start_time": "2025-06-06T12:19:20.071Z"
   },
   {
    "duration": 18,
    "start_time": "2025-06-06T12:19:25.607Z"
   },
   {
    "duration": 12,
    "start_time": "2025-06-06T12:19:25.866Z"
   },
   {
    "duration": 10,
    "start_time": "2025-06-06T12:19:26.166Z"
   },
   {
    "duration": 36,
    "start_time": "2025-06-06T12:19:26.446Z"
   },
   {
    "duration": 4,
    "start_time": "2025-06-06T12:19:27.014Z"
   },
   {
    "duration": 5,
    "start_time": "2025-06-06T12:19:27.156Z"
   },
   {
    "duration": 5,
    "start_time": "2025-06-06T12:19:27.465Z"
   },
   {
    "duration": 5,
    "start_time": "2025-06-06T12:19:27.625Z"
   },
   {
    "duration": 5,
    "start_time": "2025-06-06T12:19:27.778Z"
   },
   {
    "duration": 17,
    "start_time": "2025-06-06T12:19:27.935Z"
   },
   {
    "duration": 14,
    "start_time": "2025-06-06T12:19:28.363Z"
   },
   {
    "duration": 13,
    "start_time": "2025-06-06T12:19:28.508Z"
   },
   {
    "duration": 19,
    "start_time": "2025-06-06T12:19:28.811Z"
   },
   {
    "duration": 13,
    "start_time": "2025-06-06T12:19:29.405Z"
   },
   {
    "duration": 10,
    "start_time": "2025-06-06T12:19:29.535Z"
   },
   {
    "duration": 76835,
    "start_time": "2025-06-06T12:19:29.680Z"
   },
   {
    "duration": 5,
    "start_time": "2025-06-06T12:20:46.517Z"
   },
   {
    "duration": 29,
    "start_time": "2025-06-06T12:20:46.524Z"
   },
   {
    "duration": 76967,
    "start_time": "2025-06-06T12:20:46.555Z"
   },
   {
    "duration": 87080,
    "start_time": "2025-06-06T12:22:03.524Z"
   },
   {
    "duration": 53,
    "start_time": "2025-06-06T12:23:30.606Z"
   },
   {
    "duration": 86835,
    "start_time": "2025-06-06T12:23:30.660Z"
   },
   {
    "duration": 87,
    "start_time": "2025-06-06T12:24:57.497Z"
   },
   {
    "duration": 87138,
    "start_time": "2025-06-06T12:24:57.586Z"
   },
   {
    "duration": 19,
    "start_time": "2025-06-06T12:26:24.726Z"
   },
   {
    "duration": 5,
    "start_time": "2025-06-06T12:26:24.746Z"
   },
   {
    "duration": 35,
    "start_time": "2025-06-06T12:26:24.752Z"
   },
   {
    "duration": 4,
    "start_time": "2025-06-06T12:26:24.805Z"
   },
   {
    "duration": 31,
    "start_time": "2025-06-06T12:26:24.810Z"
   },
   {
    "duration": 6,
    "start_time": "2025-06-06T12:27:54.706Z"
   },
   {
    "duration": 4,
    "start_time": "2025-06-06T12:28:47.120Z"
   },
   {
    "duration": 75,
    "start_time": "2025-06-06T12:29:02.285Z"
   },
   {
    "duration": 10,
    "start_time": "2025-06-06T12:29:07.562Z"
   },
   {
    "duration": 10,
    "start_time": "2025-06-06T12:31:04.290Z"
   },
   {
    "duration": 173,
    "start_time": "2025-06-06T12:36:22.877Z"
   },
   {
    "duration": 163,
    "start_time": "2025-06-06T12:36:34.637Z"
   },
   {
    "duration": 186,
    "start_time": "2025-06-06T12:36:45.949Z"
   },
   {
    "duration": 7,
    "start_time": "2025-06-06T12:40:45.232Z"
   },
   {
    "duration": 9,
    "start_time": "2025-06-06T12:42:01.702Z"
   },
   {
    "duration": 212,
    "start_time": "2025-06-06T12:46:34.331Z"
   },
   {
    "duration": 208,
    "start_time": "2025-06-06T12:48:19.952Z"
   },
   {
    "duration": 211,
    "start_time": "2025-06-06T12:48:27.388Z"
   },
   {
    "duration": 209,
    "start_time": "2025-06-06T12:50:57.868Z"
   },
   {
    "duration": 292,
    "start_time": "2025-06-06T12:51:08.565Z"
   },
   {
    "duration": 205,
    "start_time": "2025-06-06T13:05:16.146Z"
   },
   {
    "duration": 213,
    "start_time": "2025-06-06T13:05:56.043Z"
   },
   {
    "duration": 189,
    "start_time": "2025-06-06T13:06:03.142Z"
   },
   {
    "duration": 131,
    "start_time": "2025-06-06T13:31:48.414Z"
   },
   {
    "duration": 124,
    "start_time": "2025-06-06T13:31:59.987Z"
   },
   {
    "duration": 250,
    "start_time": "2025-06-06T13:38:49.234Z"
   },
   {
    "duration": 317,
    "start_time": "2025-06-06T13:39:25.934Z"
   },
   {
    "duration": 284,
    "start_time": "2025-06-06T13:39:32.560Z"
   },
   {
    "duration": 285,
    "start_time": "2025-06-06T13:40:05.031Z"
   },
   {
    "duration": 276,
    "start_time": "2025-06-06T13:40:11.517Z"
   },
   {
    "duration": 373,
    "start_time": "2025-06-06T13:41:29.497Z"
   },
   {
    "duration": 277,
    "start_time": "2025-06-06T13:43:49.420Z"
   },
   {
    "duration": 283,
    "start_time": "2025-06-06T13:45:15.270Z"
   },
   {
    "duration": 284,
    "start_time": "2025-06-06T13:46:33.442Z"
   },
   {
    "duration": 199,
    "start_time": "2025-06-06T13:48:16.742Z"
   },
   {
    "duration": 207,
    "start_time": "2025-06-06T14:28:53.742Z"
   },
   {
    "duration": 207,
    "start_time": "2025-06-06T14:29:33.990Z"
   },
   {
    "duration": 6,
    "start_time": "2025-06-06T14:33:00.091Z"
   },
   {
    "duration": 6,
    "start_time": "2025-06-06T14:33:20.890Z"
   },
   {
    "duration": 6,
    "start_time": "2025-06-06T14:33:23.015Z"
   },
   {
    "duration": 866,
    "start_time": "2025-06-06T14:39:32.132Z"
   },
   {
    "duration": 786,
    "start_time": "2025-06-06T14:39:50.388Z"
   },
   {
    "duration": 129,
    "start_time": "2025-06-06T14:42:11.737Z"
   },
   {
    "duration": 2624,
    "start_time": "2025-06-06T14:42:53.228Z"
   },
   {
    "duration": 97,
    "start_time": "2025-06-06T14:42:55.854Z"
   },
   {
    "duration": 14,
    "start_time": "2025-06-06T14:42:55.953Z"
   },
   {
    "duration": 14,
    "start_time": "2025-06-06T14:43:02.991Z"
   },
   {
    "duration": 12,
    "start_time": "2025-06-06T14:43:04.130Z"
   },
   {
    "duration": 10,
    "start_time": "2025-06-06T14:43:05.371Z"
   },
   {
    "duration": 39,
    "start_time": "2025-06-06T14:43:08.160Z"
   },
   {
    "duration": 5,
    "start_time": "2025-06-06T14:43:19.794Z"
   },
   {
    "duration": 5,
    "start_time": "2025-06-06T14:43:23.194Z"
   },
   {
    "duration": 4,
    "start_time": "2025-06-06T14:43:24.318Z"
   },
   {
    "duration": 5,
    "start_time": "2025-06-06T14:43:25.078Z"
   },
   {
    "duration": 5,
    "start_time": "2025-06-06T14:43:26.799Z"
   },
   {
    "duration": 16,
    "start_time": "2025-06-06T14:43:27.455Z"
   },
   {
    "duration": 10,
    "start_time": "2025-06-06T14:43:35.550Z"
   },
   {
    "duration": 11,
    "start_time": "2025-06-06T14:43:36.498Z"
   },
   {
    "duration": 17,
    "start_time": "2025-06-06T14:43:42.335Z"
   },
   {
    "duration": 12,
    "start_time": "2025-06-06T14:43:47.553Z"
   },
   {
    "duration": 7,
    "start_time": "2025-06-06T14:43:47.691Z"
   },
   {
    "duration": 75962,
    "start_time": "2025-06-06T14:43:47.911Z"
   },
   {
    "duration": 3,
    "start_time": "2025-06-06T14:45:03.875Z"
   },
   {
    "duration": 152,
    "start_time": "2025-06-06T14:45:03.880Z"
   },
   {
    "duration": 76282,
    "start_time": "2025-06-06T14:45:04.034Z"
   },
   {
    "duration": 86467,
    "start_time": "2025-06-06T14:46:20.318Z"
   },
   {
    "duration": 60,
    "start_time": "2025-06-06T14:47:46.787Z"
   },
   {
    "duration": 86564,
    "start_time": "2025-06-06T14:47:46.849Z"
   },
   {
    "duration": 94,
    "start_time": "2025-06-06T14:49:13.415Z"
   },
   {
    "duration": 86873,
    "start_time": "2025-06-06T14:49:13.511Z"
   },
   {
    "duration": 25,
    "start_time": "2025-06-06T14:50:40.387Z"
   },
   {
    "duration": 4,
    "start_time": "2025-06-06T14:50:40.414Z"
   },
   {
    "duration": 30,
    "start_time": "2025-06-06T14:50:40.420Z"
   },
   {
    "duration": 4,
    "start_time": "2025-06-06T15:01:32.136Z"
   },
   {
    "duration": 26,
    "start_time": "2025-06-06T15:01:32.599Z"
   },
   {
    "duration": 13,
    "start_time": "2025-06-06T15:05:54.759Z"
   },
   {
    "duration": 18,
    "start_time": "2025-06-06T15:06:05.327Z"
   },
   {
    "duration": 6,
    "start_time": "2025-06-06T15:06:18.067Z"
   },
   {
    "duration": 7,
    "start_time": "2025-06-06T15:06:21.849Z"
   },
   {
    "duration": 190,
    "start_time": "2025-06-06T15:06:24.803Z"
   },
   {
    "duration": 6,
    "start_time": "2025-06-06T15:06:28.393Z"
   },
   {
    "duration": 9,
    "start_time": "2025-06-06T15:06:31.114Z"
   },
   {
    "duration": 226,
    "start_time": "2025-06-06T15:06:31.342Z"
   },
   {
    "duration": 188,
    "start_time": "2025-06-06T15:06:37.763Z"
   },
   {
    "duration": 254,
    "start_time": "2025-06-06T15:06:43.112Z"
   },
   {
    "duration": 215,
    "start_time": "2025-06-06T15:06:51.640Z"
   },
   {
    "duration": 210,
    "start_time": "2025-06-06T15:07:42.131Z"
   },
   {
    "duration": 211,
    "start_time": "2025-06-06T15:07:59.951Z"
   },
   {
    "duration": 5,
    "start_time": "2025-06-06T15:08:09.108Z"
   },
   {
    "duration": 4,
    "start_time": "2025-06-06T15:08:09.946Z"
   },
   {
    "duration": 120,
    "start_time": "2025-06-06T15:08:15.384Z"
   },
   {
    "duration": 137,
    "start_time": "2025-06-06T15:08:30.397Z"
   },
   {
    "duration": 134,
    "start_time": "2025-06-06T15:09:02.789Z"
   },
   {
    "duration": 2,
    "start_time": "2025-06-06T15:19:12.034Z"
   },
   {
    "duration": 5350,
    "start_time": "2025-06-07T10:47:18.342Z"
   },
   {
    "duration": 100,
    "start_time": "2025-06-07T10:47:23.694Z"
   },
   {
    "duration": 17,
    "start_time": "2025-06-07T10:47:23.796Z"
   },
   {
    "duration": 29,
    "start_time": "2025-06-07T10:47:23.815Z"
   },
   {
    "duration": 13,
    "start_time": "2025-06-07T10:47:23.846Z"
   },
   {
    "duration": 11,
    "start_time": "2025-06-07T10:47:31.060Z"
   },
   {
    "duration": 39,
    "start_time": "2025-06-07T10:47:34.076Z"
   },
   {
    "duration": 5,
    "start_time": "2025-06-07T10:47:36.337Z"
   },
   {
    "duration": 5,
    "start_time": "2025-06-07T10:47:36.495Z"
   },
   {
    "duration": 5,
    "start_time": "2025-06-07T10:47:36.784Z"
   },
   {
    "duration": 6,
    "start_time": "2025-06-07T10:47:36.929Z"
   },
   {
    "duration": 5,
    "start_time": "2025-06-07T10:47:37.074Z"
   },
   {
    "duration": 19,
    "start_time": "2025-06-07T10:47:37.199Z"
   },
   {
    "duration": 12,
    "start_time": "2025-06-07T10:47:37.626Z"
   },
   {
    "duration": 19,
    "start_time": "2025-06-07T10:47:37.778Z"
   },
   {
    "duration": 20,
    "start_time": "2025-06-07T10:47:38.079Z"
   },
   {
    "duration": 22,
    "start_time": "2025-06-07T10:47:38.687Z"
   },
   {
    "duration": 7,
    "start_time": "2025-06-07T10:47:38.850Z"
   },
   {
    "duration": 77376,
    "start_time": "2025-06-07T10:47:38.998Z"
   },
   {
    "duration": 4,
    "start_time": "2025-06-07T10:48:56.376Z"
   },
   {
    "duration": 23,
    "start_time": "2025-06-07T10:48:56.381Z"
   },
   {
    "duration": 78686,
    "start_time": "2025-06-07T10:48:56.406Z"
   },
   {
    "duration": 87342,
    "start_time": "2025-06-07T10:50:15.094Z"
   },
   {
    "duration": 60,
    "start_time": "2025-06-07T10:51:42.438Z"
   },
   {
    "duration": 86936,
    "start_time": "2025-06-07T10:51:42.500Z"
   },
   {
    "duration": 90,
    "start_time": "2025-06-07T10:53:09.438Z"
   },
   {
    "duration": 87287,
    "start_time": "2025-06-07T10:53:09.529Z"
   },
   {
    "duration": 19,
    "start_time": "2025-06-07T10:54:36.818Z"
   },
   {
    "duration": 5,
    "start_time": "2025-06-07T10:55:09.827Z"
   },
   {
    "duration": 31,
    "start_time": "2025-06-07T10:55:10.606Z"
   },
   {
    "duration": 4,
    "start_time": "2025-06-07T10:57:13.948Z"
   },
   {
    "duration": 28,
    "start_time": "2025-06-07T10:57:50.544Z"
   },
   {
    "duration": 15,
    "start_time": "2025-06-07T10:57:56.077Z"
   },
   {
    "duration": 19,
    "start_time": "2025-06-07T10:57:56.942Z"
   },
   {
    "duration": 6,
    "start_time": "2025-06-07T11:01:10.360Z"
   },
   {
    "duration": 9,
    "start_time": "2025-06-07T11:01:12.018Z"
   },
   {
    "duration": 214,
    "start_time": "2025-06-07T11:01:17.862Z"
   },
   {
    "duration": 7,
    "start_time": "2025-06-07T11:01:39.747Z"
   },
   {
    "duration": 9,
    "start_time": "2025-06-07T11:01:42.069Z"
   },
   {
    "duration": 216,
    "start_time": "2025-06-07T11:01:46.103Z"
   },
   {
    "duration": 195,
    "start_time": "2025-06-07T11:01:53.256Z"
   },
   {
    "duration": 135,
    "start_time": "2025-06-07T11:05:09.417Z"
   },
   {
    "duration": 229,
    "start_time": "2025-06-07T11:05:14.931Z"
   },
   {
    "duration": 5,
    "start_time": "2025-06-07T11:07:54.102Z"
   },
   {
    "duration": 5,
    "start_time": "2025-06-07T11:07:54.845Z"
   },
   {
    "duration": 140,
    "start_time": "2025-06-07T11:08:17.308Z"
   },
   {
    "duration": 193,
    "start_time": "2025-06-07T11:21:05.687Z"
   },
   {
    "duration": 270,
    "start_time": "2025-06-07T11:21:42.828Z"
   },
   {
    "duration": 175,
    "start_time": "2025-06-07T11:26:41.831Z"
   },
   {
    "duration": 139,
    "start_time": "2025-06-07T11:30:56.078Z"
   },
   {
    "duration": 143,
    "start_time": "2025-06-07T11:31:02.879Z"
   },
   {
    "duration": 192,
    "start_time": "2025-06-07T11:31:09.741Z"
   },
   {
    "duration": 189,
    "start_time": "2025-06-07T11:31:19.458Z"
   },
   {
    "duration": 1346,
    "start_time": "2025-06-07T11:42:28.559Z"
   },
   {
    "duration": 163,
    "start_time": "2025-06-07T11:42:42.773Z"
   },
   {
    "duration": 173,
    "start_time": "2025-06-07T11:43:00.452Z"
   },
   {
    "duration": 180,
    "start_time": "2025-06-07T11:43:10.050Z"
   },
   {
    "duration": 161,
    "start_time": "2025-06-07T11:43:19.631Z"
   },
   {
    "duration": 109,
    "start_time": "2025-06-07T12:08:58.557Z"
   },
   {
    "duration": 15,
    "start_time": "2025-06-07T12:13:10.098Z"
   },
   {
    "duration": 12,
    "start_time": "2025-06-07T12:14:15.565Z"
   },
   {
    "duration": 34,
    "start_time": "2025-06-07T12:15:43.290Z"
   },
   {
    "duration": 11,
    "start_time": "2025-06-07T12:16:18.501Z"
   },
   {
    "duration": 14,
    "start_time": "2025-06-07T12:16:26.750Z"
   },
   {
    "duration": 15,
    "start_time": "2025-06-07T12:17:27.310Z"
   },
   {
    "duration": 12,
    "start_time": "2025-06-07T12:17:35.990Z"
   },
   {
    "duration": 372,
    "start_time": "2025-06-07T12:18:50.743Z"
   },
   {
    "duration": 20,
    "start_time": "2025-06-07T12:20:41.872Z"
   },
   {
    "duration": 11,
    "start_time": "2025-06-07T12:21:54.763Z"
   },
   {
    "duration": 14,
    "start_time": "2025-06-07T12:25:30.905Z"
   },
   {
    "duration": 77,
    "start_time": "2025-06-07T12:26:42.972Z"
   },
   {
    "duration": 486,
    "start_time": "2025-06-07T12:27:33.243Z"
   },
   {
    "duration": 245,
    "start_time": "2025-06-07T12:34:17.120Z"
   },
   {
    "duration": 207,
    "start_time": "2025-06-07T12:34:31.879Z"
   },
   {
    "duration": 15,
    "start_time": "2025-06-07T12:37:39.130Z"
   },
   {
    "duration": 13,
    "start_time": "2025-06-07T12:37:59.143Z"
   },
   {
    "duration": 182,
    "start_time": "2025-06-07T12:40:33.420Z"
   },
   {
    "duration": 227,
    "start_time": "2025-06-07T12:44:21.975Z"
   },
   {
    "duration": 229,
    "start_time": "2025-06-07T12:44:54.334Z"
   },
   {
    "duration": 173,
    "start_time": "2025-06-07T12:45:31.068Z"
   },
   {
    "duration": 2753,
    "start_time": "2025-06-07T12:46:04.712Z"
   },
   {
    "duration": 103,
    "start_time": "2025-06-07T12:46:07.468Z"
   },
   {
    "duration": 16,
    "start_time": "2025-06-07T12:46:07.573Z"
   },
   {
    "duration": 13,
    "start_time": "2025-06-07T12:46:17.225Z"
   },
   {
    "duration": 12,
    "start_time": "2025-06-07T12:46:21.544Z"
   },
   {
    "duration": 10,
    "start_time": "2025-06-07T12:46:21.904Z"
   },
   {
    "duration": 39,
    "start_time": "2025-06-07T12:46:22.206Z"
   },
   {
    "duration": 5,
    "start_time": "2025-06-07T12:46:22.792Z"
   },
   {
    "duration": 4,
    "start_time": "2025-06-07T12:46:22.945Z"
   },
   {
    "duration": 4,
    "start_time": "2025-06-07T12:46:23.260Z"
   },
   {
    "duration": 6,
    "start_time": "2025-06-07T12:46:23.419Z"
   },
   {
    "duration": 6,
    "start_time": "2025-06-07T12:46:23.578Z"
   },
   {
    "duration": 19,
    "start_time": "2025-06-07T12:46:23.730Z"
   },
   {
    "duration": 12,
    "start_time": "2025-06-07T12:46:24.232Z"
   },
   {
    "duration": 12,
    "start_time": "2025-06-07T12:46:24.377Z"
   },
   {
    "duration": 18,
    "start_time": "2025-06-07T12:46:24.726Z"
   },
   {
    "duration": 14,
    "start_time": "2025-06-07T12:46:25.344Z"
   },
   {
    "duration": 7,
    "start_time": "2025-06-07T12:46:25.502Z"
   },
   {
    "duration": 76796,
    "start_time": "2025-06-07T12:46:25.668Z"
   },
   {
    "duration": 3,
    "start_time": "2025-06-07T12:47:42.467Z"
   },
   {
    "duration": 22,
    "start_time": "2025-06-07T12:47:42.472Z"
   },
   {
    "duration": 75700,
    "start_time": "2025-06-07T12:47:42.496Z"
   },
   {
    "duration": 86722,
    "start_time": "2025-06-07T12:48:58.198Z"
   },
   {
    "duration": 69,
    "start_time": "2025-06-07T12:50:24.921Z"
   },
   {
    "duration": 86698,
    "start_time": "2025-06-07T12:50:24.992Z"
   },
   {
    "duration": 95,
    "start_time": "2025-06-07T12:51:51.691Z"
   },
   {
    "duration": 88385,
    "start_time": "2025-06-07T12:51:51.788Z"
   },
   {
    "duration": 20,
    "start_time": "2025-06-07T12:53:20.180Z"
   },
   {
    "duration": 6,
    "start_time": "2025-06-07T12:53:20.203Z"
   },
   {
    "duration": 53,
    "start_time": "2025-06-07T12:53:20.211Z"
   },
   {
    "duration": 9,
    "start_time": "2025-06-07T12:53:20.266Z"
   },
   {
    "duration": 30,
    "start_time": "2025-06-07T12:53:20.276Z"
   },
   {
    "duration": 16,
    "start_time": "2025-06-07T12:53:20.307Z"
   },
   {
    "duration": 51,
    "start_time": "2025-06-07T12:53:20.325Z"
   },
   {
    "duration": 6,
    "start_time": "2025-06-07T12:53:20.378Z"
   },
   {
    "duration": 12,
    "start_time": "2025-06-07T12:53:20.386Z"
   },
   {
    "duration": 201,
    "start_time": "2025-06-07T12:53:20.400Z"
   },
   {
    "duration": 7,
    "start_time": "2025-06-07T12:53:20.602Z"
   },
   {
    "duration": 48,
    "start_time": "2025-06-07T12:53:20.610Z"
   },
   {
    "duration": 243,
    "start_time": "2025-06-07T12:53:20.660Z"
   },
   {
    "duration": 331,
    "start_time": "2025-06-07T12:53:20.904Z"
   },
   {
    "duration": 157,
    "start_time": "2025-06-07T12:53:21.237Z"
   },
   {
    "duration": 233,
    "start_time": "2025-06-07T12:53:21.396Z"
   },
   {
    "duration": 4,
    "start_time": "2025-06-07T12:53:21.631Z"
   },
   {
    "duration": 13,
    "start_time": "2025-06-07T12:53:21.637Z"
   },
   {
    "duration": 154,
    "start_time": "2025-06-07T12:53:21.660Z"
   },
   {
    "duration": 198,
    "start_time": "2025-06-07T12:53:21.815Z"
   },
   {
    "duration": 191,
    "start_time": "2025-06-07T12:53:22.014Z"
   },
   {
    "duration": 186,
    "start_time": "2025-06-07T12:53:22.207Z"
   },
   {
    "duration": 0,
    "start_time": "2025-06-07T12:53:22.395Z"
   },
   {
    "duration": 0,
    "start_time": "2025-06-07T12:53:22.396Z"
   },
   {
    "duration": 172,
    "start_time": "2025-06-07T13:41:20.924Z"
   },
   {
    "duration": 540,
    "start_time": "2025-06-07T13:41:37.698Z"
   },
   {
    "duration": 232,
    "start_time": "2025-06-07T13:41:44.409Z"
   },
   {
    "duration": 39,
    "start_time": "2025-06-07T13:48:46.633Z"
   },
   {
    "duration": 139,
    "start_time": "2025-06-07T13:49:34.041Z"
   },
   {
    "duration": 27,
    "start_time": "2025-06-07T13:52:59.601Z"
   },
   {
    "duration": 449,
    "start_time": "2025-06-07T13:53:19.825Z"
   },
   {
    "duration": 4560,
    "start_time": "2025-06-07T16:59:03.116Z"
   },
   {
    "duration": 330,
    "start_time": "2025-06-07T16:59:07.679Z"
   },
   {
    "duration": 15,
    "start_time": "2025-06-07T16:59:08.010Z"
   },
   {
    "duration": 15,
    "start_time": "2025-06-07T16:59:09.574Z"
   },
   {
    "duration": 10,
    "start_time": "2025-06-07T16:59:10.373Z"
   },
   {
    "duration": 9,
    "start_time": "2025-06-07T16:59:10.859Z"
   },
   {
    "duration": 35,
    "start_time": "2025-06-07T16:59:11.170Z"
   },
   {
    "duration": 4,
    "start_time": "2025-06-07T16:59:11.926Z"
   },
   {
    "duration": 4,
    "start_time": "2025-06-07T16:59:12.082Z"
   },
   {
    "duration": 4,
    "start_time": "2025-06-07T16:59:12.998Z"
   },
   {
    "duration": 5,
    "start_time": "2025-06-07T16:59:13.186Z"
   },
   {
    "duration": 5,
    "start_time": "2025-06-07T16:59:13.400Z"
   },
   {
    "duration": 15,
    "start_time": "2025-06-07T16:59:13.628Z"
   },
   {
    "duration": 8,
    "start_time": "2025-06-07T16:59:16.718Z"
   },
   {
    "duration": 11,
    "start_time": "2025-06-07T16:59:16.956Z"
   },
   {
    "duration": 18,
    "start_time": "2025-06-07T16:59:19.173Z"
   },
   {
    "duration": 12,
    "start_time": "2025-06-07T16:59:21.693Z"
   },
   {
    "duration": 7,
    "start_time": "2025-06-07T16:59:22.321Z"
   },
   {
    "duration": 64769,
    "start_time": "2025-06-07T16:59:22.825Z"
   },
   {
    "duration": 3,
    "start_time": "2025-06-07T17:00:27.596Z"
   },
   {
    "duration": 23,
    "start_time": "2025-06-07T17:05:01.732Z"
   },
   {
    "duration": 65327,
    "start_time": "2025-06-07T17:05:02.867Z"
   },
   {
    "duration": 74769,
    "start_time": "2025-06-07T17:06:08.196Z"
   },
   {
    "duration": 45,
    "start_time": "2025-06-07T17:07:22.967Z"
   },
   {
    "duration": 75032,
    "start_time": "2025-06-07T17:07:23.014Z"
   },
   {
    "duration": 90,
    "start_time": "2025-06-07T17:08:38.048Z"
   },
   {
    "duration": 75112,
    "start_time": "2025-06-07T17:08:38.140Z"
   },
   {
    "duration": 15,
    "start_time": "2025-06-07T17:09:53.254Z"
   },
   {
    "duration": 4,
    "start_time": "2025-06-07T17:09:53.271Z"
   },
   {
    "duration": 3,
    "start_time": "2025-06-07T17:11:04.757Z"
   },
   {
    "duration": 25,
    "start_time": "2025-06-07T17:11:10.033Z"
   },
   {
    "duration": 3,
    "start_time": "2025-06-07T17:11:24.793Z"
   },
   {
    "duration": 40,
    "start_time": "2025-06-07T17:11:31.466Z"
   },
   {
    "duration": 18,
    "start_time": "2025-06-07T17:11:52.459Z"
   },
   {
    "duration": 23,
    "start_time": "2025-06-07T17:11:53.082Z"
   },
   {
    "duration": 6,
    "start_time": "2025-06-07T17:12:27.607Z"
   },
   {
    "duration": 10,
    "start_time": "2025-06-07T17:12:30.006Z"
   },
   {
    "duration": 161,
    "start_time": "2025-06-07T17:12:31.250Z"
   },
   {
    "duration": 7,
    "start_time": "2025-06-07T17:12:37.625Z"
   },
   {
    "duration": 9,
    "start_time": "2025-06-07T17:12:38.603Z"
   },
   {
    "duration": 179,
    "start_time": "2025-06-07T17:12:39.725Z"
   },
   {
    "duration": 156,
    "start_time": "2025-06-07T17:12:42.119Z"
   },
   {
    "duration": 110,
    "start_time": "2025-06-07T17:12:45.227Z"
   },
   {
    "duration": 189,
    "start_time": "2025-06-07T17:12:47.012Z"
   },
   {
    "duration": 4,
    "start_time": "2025-06-07T17:12:49.975Z"
   },
   {
    "duration": 5,
    "start_time": "2025-06-07T17:12:50.199Z"
   },
   {
    "duration": 112,
    "start_time": "2025-06-07T17:12:51.412Z"
   },
   {
    "duration": 163,
    "start_time": "2025-06-07T17:12:53.075Z"
   },
   {
    "duration": 257,
    "start_time": "2025-06-07T17:12:53.989Z"
   },
   {
    "duration": 132,
    "start_time": "2025-06-07T17:12:56.351Z"
   },
   {
    "duration": 476,
    "start_time": "2025-06-07T17:13:12.761Z"
   },
   {
    "duration": 190,
    "start_time": "2025-06-07T17:13:23.076Z"
   },
   {
    "duration": 373,
    "start_time": "2025-06-07T17:13:30.053Z"
   },
   {
    "duration": 510,
    "start_time": "2025-06-07T17:21:38.381Z"
   },
   {
    "duration": 74,
    "start_time": "2025-06-07T17:22:33.523Z"
   },
   {
    "duration": 75,
    "start_time": "2025-06-07T17:22:42.505Z"
   },
   {
    "duration": 533,
    "start_time": "2025-06-07T17:22:53.763Z"
   },
   {
    "duration": 106,
    "start_time": "2025-06-07T17:30:14.897Z"
   },
   {
    "duration": 17,
    "start_time": "2025-06-07T17:30:24.548Z"
   },
   {
    "duration": 11,
    "start_time": "2025-06-07T17:31:10.481Z"
   },
   {
    "duration": 16,
    "start_time": "2025-06-07T17:31:26.184Z"
   },
   {
    "duration": 1319,
    "start_time": "2025-06-07T17:37:11.661Z"
   },
   {
    "duration": 559,
    "start_time": "2025-06-07T17:37:55.951Z"
   },
   {
    "duration": 561,
    "start_time": "2025-06-07T17:38:14.361Z"
   },
   {
    "duration": 613,
    "start_time": "2025-06-07T17:38:32.830Z"
   },
   {
    "duration": 717,
    "start_time": "2025-06-07T17:38:42.230Z"
   },
   {
    "duration": 311,
    "start_time": "2025-06-07T17:40:10.684Z"
   },
   {
    "duration": 178,
    "start_time": "2025-06-07T17:59:11.103Z"
   },
   {
    "duration": 174,
    "start_time": "2025-06-07T17:59:40.114Z"
   },
   {
    "duration": 179,
    "start_time": "2025-06-07T18:03:54.627Z"
   },
   {
    "duration": 4868,
    "start_time": "2025-06-08T12:40:18.361Z"
   },
   {
    "duration": 85,
    "start_time": "2025-06-08T12:40:23.232Z"
   },
   {
    "duration": 16,
    "start_time": "2025-06-08T12:40:23.318Z"
   },
   {
    "duration": 17,
    "start_time": "2025-06-08T12:40:27.068Z"
   },
   {
    "duration": 12,
    "start_time": "2025-06-08T12:40:27.395Z"
   },
   {
    "duration": 9,
    "start_time": "2025-06-08T12:40:27.743Z"
   },
   {
    "duration": 37,
    "start_time": "2025-06-08T12:40:28.269Z"
   },
   {
    "duration": 5,
    "start_time": "2025-06-08T12:40:29.002Z"
   },
   {
    "duration": 4,
    "start_time": "2025-06-08T12:40:29.200Z"
   },
   {
    "duration": 4,
    "start_time": "2025-06-08T12:40:29.577Z"
   },
   {
    "duration": 5,
    "start_time": "2025-06-08T12:40:29.749Z"
   },
   {
    "duration": 4,
    "start_time": "2025-06-08T12:40:29.993Z"
   },
   {
    "duration": 16,
    "start_time": "2025-06-08T12:40:31.087Z"
   },
   {
    "duration": 11,
    "start_time": "2025-06-08T12:40:31.362Z"
   },
   {
    "duration": 12,
    "start_time": "2025-06-08T12:40:31.746Z"
   },
   {
    "duration": 27,
    "start_time": "2025-06-08T12:40:32.626Z"
   },
   {
    "duration": 12,
    "start_time": "2025-06-08T12:40:34.204Z"
   },
   {
    "duration": 6,
    "start_time": "2025-06-08T12:40:34.445Z"
   },
   {
    "duration": 74974,
    "start_time": "2025-06-08T12:40:34.639Z"
   },
   {
    "duration": 4,
    "start_time": "2025-06-08T12:41:49.614Z"
   },
   {
    "duration": 20,
    "start_time": "2025-06-08T12:41:49.619Z"
   },
   {
    "duration": 74855,
    "start_time": "2025-06-08T12:41:49.641Z"
   },
   {
    "duration": 87377,
    "start_time": "2025-06-08T12:43:04.498Z"
   },
   {
    "duration": 62,
    "start_time": "2025-06-08T12:44:31.877Z"
   },
   {
    "duration": 86425,
    "start_time": "2025-06-08T12:44:31.941Z"
   },
   {
    "duration": 94,
    "start_time": "2025-06-08T12:45:58.367Z"
   },
   {
    "duration": 88248,
    "start_time": "2025-06-08T12:45:58.462Z"
   },
   {
    "duration": 17,
    "start_time": "2025-06-08T12:47:26.712Z"
   },
   {
    "duration": 4,
    "start_time": "2025-06-08T12:47:26.730Z"
   },
   {
    "duration": 99,
    "start_time": "2025-06-08T12:47:26.736Z"
   },
   {
    "duration": 32,
    "start_time": "2025-06-08T12:47:26.837Z"
   },
   {
    "duration": 4,
    "start_time": "2025-06-08T12:47:26.871Z"
   },
   {
    "duration": 49,
    "start_time": "2025-06-08T12:47:26.876Z"
   },
   {
    "duration": 13,
    "start_time": "2025-06-08T12:47:26.927Z"
   },
   {
    "duration": 22,
    "start_time": "2025-06-08T12:47:26.942Z"
   },
   {
    "duration": 7,
    "start_time": "2025-06-08T12:47:55.592Z"
   },
   {
    "duration": 9,
    "start_time": "2025-06-08T12:47:56.344Z"
   },
   {
    "duration": 187,
    "start_time": "2025-06-08T12:48:02.559Z"
   },
   {
    "duration": 6,
    "start_time": "2025-06-08T12:51:55.411Z"
   },
   {
    "duration": 8,
    "start_time": "2025-06-08T12:51:55.994Z"
   },
   {
    "duration": 223,
    "start_time": "2025-06-08T12:51:58.547Z"
   },
   {
    "duration": 205,
    "start_time": "2025-06-08T12:52:01.536Z"
   },
   {
    "duration": 111,
    "start_time": "2025-06-08T12:53:45.892Z"
   },
   {
    "duration": 155,
    "start_time": "2025-06-08T12:55:50.091Z"
   },
   {
    "duration": 153,
    "start_time": "2025-06-08T12:59:29.756Z"
   },
   {
    "duration": 156,
    "start_time": "2025-06-08T12:59:57.499Z"
   },
   {
    "duration": 198,
    "start_time": "2025-06-08T13:00:43.192Z"
   },
   {
    "duration": 153,
    "start_time": "2025-06-08T13:01:26.554Z"
   },
   {
    "duration": 145,
    "start_time": "2025-06-08T13:02:26.559Z"
   },
   {
    "duration": 222,
    "start_time": "2025-06-08T13:05:05.858Z"
   },
   {
    "duration": 214,
    "start_time": "2025-06-08T13:13:51.761Z"
   },
   {
    "duration": 4,
    "start_time": "2025-06-08T13:14:19.888Z"
   },
   {
    "duration": 6,
    "start_time": "2025-06-08T13:14:22.601Z"
   },
   {
    "duration": 154,
    "start_time": "2025-06-08T13:14:26.240Z"
   },
   {
    "duration": 191,
    "start_time": "2025-06-08T13:18:43.247Z"
   },
   {
    "duration": 206,
    "start_time": "2025-06-08T13:19:39.539Z"
   },
   {
    "duration": 180,
    "start_time": "2025-06-08T13:22:19.108Z"
   },
   {
    "duration": 183,
    "start_time": "2025-06-08T13:24:21.013Z"
   },
   {
    "duration": 177,
    "start_time": "2025-06-08T13:24:41.319Z"
   },
   {
    "duration": 640,
    "start_time": "2025-06-08T13:24:49.935Z"
   },
   {
    "duration": 568,
    "start_time": "2025-06-08T13:40:10.005Z"
   },
   {
    "duration": 436,
    "start_time": "2025-06-08T13:40:41.427Z"
   },
   {
    "duration": 490,
    "start_time": "2025-06-08T13:43:01.363Z"
   },
   {
    "duration": 228,
    "start_time": "2025-06-08T13:43:15.722Z"
   },
   {
    "duration": 438,
    "start_time": "2025-06-08T13:43:33.381Z"
   },
   {
    "duration": 367,
    "start_time": "2025-06-08T13:43:43.232Z"
   },
   {
    "duration": 395,
    "start_time": "2025-06-08T13:49:33.057Z"
   },
   {
    "duration": 347,
    "start_time": "2025-06-08T13:51:51.080Z"
   },
   {
    "duration": 333,
    "start_time": "2025-06-08T14:03:20.796Z"
   },
   {
    "duration": 54,
    "start_time": "2025-06-09T08:26:08.688Z"
   },
   {
    "duration": 4994,
    "start_time": "2025-06-09T08:26:30.857Z"
   },
   {
    "duration": 84,
    "start_time": "2025-06-09T08:26:39.211Z"
   },
   {
    "duration": 16,
    "start_time": "2025-06-09T08:26:39.360Z"
   },
   {
    "duration": 17,
    "start_time": "2025-06-09T08:26:39.670Z"
   },
   {
    "duration": 12,
    "start_time": "2025-06-09T08:26:39.955Z"
   },
   {
    "duration": 10,
    "start_time": "2025-06-09T08:26:40.237Z"
   },
   {
    "duration": 36,
    "start_time": "2025-06-09T08:26:40.653Z"
   },
   {
    "duration": 5,
    "start_time": "2025-06-09T08:26:41.383Z"
   },
   {
    "duration": 5,
    "start_time": "2025-06-09T08:26:41.527Z"
   },
   {
    "duration": 4,
    "start_time": "2025-06-09T08:26:41.807Z"
   },
   {
    "duration": 5,
    "start_time": "2025-06-09T08:26:41.961Z"
   },
   {
    "duration": 5,
    "start_time": "2025-06-09T08:26:42.114Z"
   },
   {
    "duration": 20,
    "start_time": "2025-06-09T08:26:42.249Z"
   },
   {
    "duration": 10,
    "start_time": "2025-06-09T08:26:42.815Z"
   },
   {
    "duration": 12,
    "start_time": "2025-06-09T08:26:43.180Z"
   },
   {
    "duration": 19,
    "start_time": "2025-06-09T08:26:44.029Z"
   },
   {
    "duration": 16,
    "start_time": "2025-06-09T08:26:44.888Z"
   },
   {
    "duration": 8,
    "start_time": "2025-06-09T08:26:45.058Z"
   },
   {
    "duration": 75776,
    "start_time": "2025-06-09T08:26:45.217Z"
   },
   {
    "duration": 3,
    "start_time": "2025-06-09T08:28:01.005Z"
   },
   {
    "duration": 57,
    "start_time": "2025-06-09T08:28:01.010Z"
   },
   {
    "duration": 75915,
    "start_time": "2025-06-09T08:28:01.069Z"
   },
   {
    "duration": 88913,
    "start_time": "2025-06-09T08:29:16.986Z"
   },
   {
    "duration": 67,
    "start_time": "2025-06-09T08:30:45.905Z"
   },
   {
    "duration": 87935,
    "start_time": "2025-06-09T08:30:45.974Z"
   },
   {
    "duration": 100,
    "start_time": "2025-06-09T08:32:13.912Z"
   },
   {
    "duration": 87410,
    "start_time": "2025-06-09T08:32:14.014Z"
   },
   {
    "duration": 18,
    "start_time": "2025-06-09T08:33:41.427Z"
   },
   {
    "duration": 4,
    "start_time": "2025-06-09T08:33:41.446Z"
   },
   {
    "duration": 9,
    "start_time": "2025-06-09T08:33:41.452Z"
   },
   {
    "duration": 53,
    "start_time": "2025-06-09T08:33:41.462Z"
   },
   {
    "duration": 3,
    "start_time": "2025-06-09T08:33:41.517Z"
   },
   {
    "duration": 30,
    "start_time": "2025-06-09T08:33:41.522Z"
   },
   {
    "duration": 13,
    "start_time": "2025-06-09T08:33:41.554Z"
   },
   {
    "duration": 43,
    "start_time": "2025-06-09T08:33:41.569Z"
   },
   {
    "duration": 5,
    "start_time": "2025-06-09T08:33:41.614Z"
   },
   {
    "duration": 9,
    "start_time": "2025-06-09T08:33:41.621Z"
   },
   {
    "duration": 211,
    "start_time": "2025-06-09T08:33:41.631Z"
   },
   {
    "duration": 7,
    "start_time": "2025-06-09T08:33:41.844Z"
   },
   {
    "duration": 41,
    "start_time": "2025-06-09T08:33:41.852Z"
   },
   {
    "duration": 219,
    "start_time": "2025-06-09T08:33:41.895Z"
   },
   {
    "duration": 199,
    "start_time": "2025-06-09T08:33:42.115Z"
   },
   {
    "duration": 165,
    "start_time": "2025-06-09T08:33:42.316Z"
   },
   {
    "duration": 225,
    "start_time": "2025-06-09T08:33:42.483Z"
   },
   {
    "duration": 4,
    "start_time": "2025-06-09T08:33:42.709Z"
   },
   {
    "duration": 7,
    "start_time": "2025-06-09T08:33:42.716Z"
   },
   {
    "duration": 153,
    "start_time": "2025-06-09T08:33:42.725Z"
   },
   {
    "duration": 208,
    "start_time": "2025-06-09T08:33:42.880Z"
   },
   {
    "duration": 271,
    "start_time": "2025-06-09T08:33:43.090Z"
   },
   {
    "duration": 172,
    "start_time": "2025-06-09T08:33:43.362Z"
   },
   {
    "duration": 576,
    "start_time": "2025-06-09T08:33:43.535Z"
   },
   {
    "duration": 220,
    "start_time": "2025-06-09T08:35:26.541Z"
   },
   {
    "duration": 99,
    "start_time": "2025-06-09T08:35:41.193Z"
   },
   {
    "duration": 109,
    "start_time": "2025-06-09T08:35:44.007Z"
   },
   {
    "duration": 376,
    "start_time": "2025-06-09T08:37:19.429Z"
   },
   {
    "duration": 211,
    "start_time": "2025-06-09T08:41:19.452Z"
   },
   {
    "duration": 5103,
    "start_time": "2025-07-10T09:18:53.104Z"
   },
   {
    "duration": 91,
    "start_time": "2025-07-10T09:18:58.209Z"
   },
   {
    "duration": 15,
    "start_time": "2025-07-10T09:18:58.302Z"
   },
   {
    "duration": 18,
    "start_time": "2025-07-10T09:18:58.318Z"
   },
   {
    "duration": 11,
    "start_time": "2025-07-10T09:18:58.339Z"
   },
   {
    "duration": 19,
    "start_time": "2025-07-10T09:18:58.352Z"
   },
   {
    "duration": 41,
    "start_time": "2025-07-10T09:18:58.373Z"
   },
   {
    "duration": 5,
    "start_time": "2025-07-10T09:18:58.416Z"
   },
   {
    "duration": 6,
    "start_time": "2025-07-10T09:18:58.422Z"
   },
   {
    "duration": 6,
    "start_time": "2025-07-10T09:18:58.430Z"
   },
   {
    "duration": 29,
    "start_time": "2025-07-10T09:18:58.437Z"
   },
   {
    "duration": 15,
    "start_time": "2025-07-10T09:18:58.468Z"
   },
   {
    "duration": 21,
    "start_time": "2025-07-10T09:18:58.484Z"
   },
   {
    "duration": 10,
    "start_time": "2025-07-10T09:18:58.668Z"
   },
   {
    "duration": 14,
    "start_time": "2025-07-10T09:18:59.057Z"
   },
   {
    "duration": 18,
    "start_time": "2025-07-10T09:18:59.475Z"
   },
   {
    "duration": 13,
    "start_time": "2025-07-10T09:19:00.737Z"
   },
   {
    "duration": 8,
    "start_time": "2025-07-10T09:19:00.932Z"
   },
   {
    "duration": 67472,
    "start_time": "2025-07-10T09:19:01.144Z"
   },
   {
    "duration": 4,
    "start_time": "2025-07-10T09:20:08.618Z"
   },
   {
    "duration": 45,
    "start_time": "2025-07-10T09:20:08.624Z"
   },
   {
    "duration": 67356,
    "start_time": "2025-07-10T09:20:08.671Z"
   },
   {
    "duration": 76773,
    "start_time": "2025-07-10T09:21:16.029Z"
   },
   {
    "duration": 60,
    "start_time": "2025-07-10T09:22:32.804Z"
   },
   {
    "duration": 77564,
    "start_time": "2025-07-10T09:22:32.866Z"
   },
   {
    "duration": 87,
    "start_time": "2025-07-10T09:23:50.432Z"
   },
   {
    "duration": 77003,
    "start_time": "2025-07-10T09:23:50.520Z"
   },
   {
    "duration": 16,
    "start_time": "2025-07-10T09:25:07.525Z"
   },
   {
    "duration": 19,
    "start_time": "2025-07-10T09:25:07.543Z"
   },
   {
    "duration": 3,
    "start_time": "2025-07-10T09:25:07.564Z"
   },
   {
    "duration": 72,
    "start_time": "2025-07-10T09:25:07.568Z"
   },
   {
    "duration": 3,
    "start_time": "2025-07-10T09:25:37.646Z"
   },
   {
    "duration": 24,
    "start_time": "2025-07-10T09:25:37.834Z"
   },
   {
    "duration": 13,
    "start_time": "2025-07-10T09:25:39.442Z"
   },
   {
    "duration": 16,
    "start_time": "2025-07-10T09:25:40.142Z"
   },
   {
    "duration": 5,
    "start_time": "2025-07-10T09:25:47.854Z"
   },
   {
    "duration": 11,
    "start_time": "2025-07-10T09:25:48.043Z"
   },
   {
    "duration": 191,
    "start_time": "2025-07-10T09:25:49.700Z"
   },
   {
    "duration": 6,
    "start_time": "2025-07-10T09:26:24.697Z"
   },
   {
    "duration": 8,
    "start_time": "2025-07-10T09:26:24.854Z"
   },
   {
    "duration": 194,
    "start_time": "2025-07-10T09:26:25.077Z"
   },
   {
    "duration": 169,
    "start_time": "2025-07-10T09:26:29.479Z"
   },
   {
    "duration": 143,
    "start_time": "2025-07-10T09:26:32.860Z"
   },
   {
    "duration": 193,
    "start_time": "2025-07-10T09:26:52.734Z"
   },
   {
    "duration": 4,
    "start_time": "2025-07-10T09:27:00.293Z"
   },
   {
    "duration": 4,
    "start_time": "2025-07-10T09:27:00.516Z"
   },
   {
    "duration": 130,
    "start_time": "2025-07-10T09:27:01.665Z"
   }
  ],
  "colab": {
   "provenance": []
  },
  "kernelspec": {
   "display_name": "Python 3 (ipykernel)",
   "language": "python",
   "name": "python3"
  },
  "language_info": {
   "codemirror_mode": {
    "name": "ipython",
    "version": 3
   },
   "file_extension": ".py",
   "mimetype": "text/x-python",
   "name": "python",
   "nbconvert_exporter": "python",
   "pygments_lexer": "ipython3",
   "version": "3.9.5"
  },
  "toc": {
   "base_numbering": 1,
   "nav_menu": {},
   "number_sections": true,
   "sideBar": true,
   "skip_h1_title": true,
   "title_cell": "Table of Contents",
   "title_sidebar": "Contents",
   "toc_cell": false,
   "toc_position": {},
   "toc_section_display": true,
   "toc_window_display": false
  }
 },
 "nbformat": 4,
 "nbformat_minor": 5
}
